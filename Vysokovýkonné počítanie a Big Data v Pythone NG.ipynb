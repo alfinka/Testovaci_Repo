{
 "cells":[
  {
   "cell_type":"markdown",
   "source":[
    "# Knižnice HPC"
   ],
   "attachments":{},
   "metadata":{
    "datalore":{
     "node_id":"Knižnice HPC",
     "type":"MD",
     "hide_input_from_viewers":false,
     "hide_output_from_viewers":false,
     "sheet_delimiter":true
    }
   }
  },
  {
   "cell_type":"markdown",
   "source":[
    "## 🐍 Kurz Vysokovýkonné počítanie a veľké dáta v Pythone (HPC)\n",
    "**🧑‍🏫 Lektor:** Miroslav Reiter  \n",
    "**📥 LinkedIn kontakt:** https:\/\/www.linkedin.com\/in\/miroslav-reiter\/  \n",
    "\n",
    "`*Testovaci* **Text**`\n",
    "\n",
    "**✅ Osnova:** https:\/\/itkurzy.sav.sk\/node\/231\n",
    "\n",
    "**🎞️ YouTube videá:** https:\/\/www.youtube.com\/c\/IT-AcademySK  \n",
    "**📇 Zdrojové kódy a materiály:** https:\/\/github.com\/miroslav-reiter\/Kurzy_SAV_Analytika_Python_R  \n",
    "\n",
    "**😊 Emojis:** Win + .  "
   ],
   "attachments":{},
   "metadata":{
    "datalore":{
     "node_id":"gtjaH8gOiCJE2ArnONNN4I",
     "type":"MD",
     "hide_input_from_viewers":false,
     "hide_output_from_viewers":false,
     "report_properties":{
      "rowId":"BuaxZHVowM1NDgIm5SGTW6"
     }
    }
   }
  },
  {
   "cell_type":"markdown",
   "source":[
    "# ⚒️ Používané nástroje HPC\n",
    "- 🐍 **Python**: momentálne najpopulárnejší jazyk pre vedu o údajoch (Data science). Python je síce interpretovaný a pomalší jazyk ako C\/C++, ale využitím knižníc, ako je NumPy (a Pandas navyše), sa môžeme priblížiť rýchlosti C.  \n",
    "  \n",
    "- 🪐 **Jupyter**: nástroj s prostredím interaktívneho notebooku, mocný prieskumný, vizualizačný a komunikačný nástroj.\n",
    "  \n",
    "- 🐼 **Pandas**: nástroj na manipuláciu s tabuľkovými údajmi v Pythone. Je to obrovská knižnica, ale ak poznáte správne metódy, môžeme vytvoriť výkonnú analýzu.\n",
    "\n",
    "- 🦾 **Polars**: rýchla knižnica na spracovanie dát v Pythone, ktorá je alternatívou k Pandas. Polars je optimalizovaná pre výkon, podporuje paralelné spracovanie dát a je schopná spracovať obrovské množstvá dát oveľa rýchlejšie ako Pandas.\n",
    "\n",
    "- 📦 **Parquet**: Parquet je stĺpcový formát na ukladanie dát, ktorý je optimalizovaný pre čítanie a zápis veľkých datasetov. Je bežne používaný v big data aplikáciách a podporuje efektívne kompresie a rýchle vyhľadávanie.\n",
    "\n",
    "- 🔥 **Apache Spark**: open-source distribuovaná výpočtová platforma, ktorá umožňuje paralelné spracovanie veľkých objemov dát. Je široko používaná na analýzu big data, strojové učenie a spracovanie dát v cloude. Spark poskytuje podporu pre spracovanie dát v reálnom čase a je kompatibilný s formátmi ako Parquet a CSV.\n",
    "  \n",
    "- 📊 **NumPy**: pre numerické výpočty v Pythone, ktorá poskytuje efektívnu prácu s viacrozmernými poľami a maticami. Používa sa na rýchle numerické operácie, lineárnu algebru a spracovanie veľkých dát.\n",
    "\n",
    "- 🔬 **SciPy**: postavená na NumPy a pridáva pokročilé matematické funkcie ako numerická integrácia, optimalizácia a štatistika. Je ideálna pre vedecké a inžinierske výpočty.\n",
    "\n",
    "- 🖧 **Dask**: paralelné a distribuované výpočty na veľkých dátach cez viaceré procesy a uzly. Je kompatibilný s Pandas a NumPy, čím zjednodušuje prácu s veľkými datasetmi v distribuovaných prostrediach.\n",
    "\n",
    "- 🤖 **PyTorch**: pre strojové učenie, ktorá podporuje výpočty na GPU. Je obľúbená pre dynamické modelovanie a experimentovanie, hlavne v oblasti počítačového videnia a NLP.\n",
    "\n",
    "- 📈 **TensorFlow**: na vytváranie a nasadzovanie modelov strojového učenia v produkčných prostrediach. Je optimalizovaná na vysoký výkon, distribúciu a spracovanie veľkých dát.\n",
    "\n",
    "- 🔗 **MPI for Python (mpi4py)**: na implementáciu paralelných algoritmov cez MPI (Message Passing Interface), určená pre distribuované a paralelné výpočty v prostrediach ako superpočítače a klastry.\n",
    "\n",
    "- ⚡ **CUDA**: platforma a API od NVIDIA na paralelné výpočty pomocou GPU. PyCUDA umožňuje využívať GPU pre vysokovýkonné výpočty, čo urýchľuje aplikácie ako simulácie, spracovanie obrazu a strojové učenie.\n",
    "\n",
    "😎 Existuje 300 000+ knižníc pre Python.  "
   ],
   "attachments":{},
   "metadata":{
    "datalore":{
     "node_id":"HlJXCNvBPNinkUIhkHUYU9",
     "type":"MD",
     "hide_input_from_viewers":false,
     "hide_output_from_viewers":false,
     "report_properties":{
      "rowId":"nT01gqoCPDuxVxR1lZEjaG"
     }
    }
   }
  },
  {
   "cell_type":"markdown",
   "source":[
    "# 📚 PIP, Knižnice a ich verzie \n",
    "**PIP (package installer for Python)** - Správca Balíčkov pre moduly programovacieho jazyka Python, Tiež napísaný v Pythone, Licencia MIT.  \n",
    "Dokumentácia PIP: https:\/\/pip.pypa.io\/en\/stable\/\n",
    "\n",
    "**PyPI (The Python Package Index)** - Repozitár\/úložisko softvéru pre programovací jazyk Python  \n",
    "https:\/\/pypi.org\n",
    "1"
   ],
   "attachments":{},
   "metadata":{
    "datalore":{
     "node_id":"utjXvhnaVEZx0y9tcUL1AW",
     "type":"MD",
     "hide_input_from_viewers":false,
     "hide_output_from_viewers":false,
     "report_properties":{
      "rowId":"HnEJbqSEA5YeuN0S9J1MeG"
     }
    }
   }
  },
  {
   "cell_type":"code",
   "source":[
    "# !pip list\n",
    "\n"
   ],
   "execution_count":5,
   "outputs":[
    {
     "name":"stdout",
     "text":[
      "Requirement already satisfied: numpy in \/opt\/python\/envs\/default\/lib\/python3.8\/site-packages (1.24.3)\r\n",
      "Requirement already satisfied: scipy in \/opt\/python\/envs\/default\/lib\/python3.8\/site-packages (1.10.1)\r\n",
      "Requirement already satisfied: numpy<1.27.0,>=1.19.5 in \/opt\/python\/envs\/default\/lib\/python3.8\/site-packages (from scipy) (1.24.3)\r\n",
      "Requirement already satisfied: dask[complete] in \/opt\/python\/envs\/default\/lib\/python3.8\/site-packages (2023.5.0)\r\n",
      "Requirement already satisfied: click>=8.0 in \/opt\/python\/envs\/default\/lib\/python3.8\/site-packages (from dask[complete]) (8.1.7)\r\n",
      "Requirement already satisfied: cloudpickle>=1.5.0 in \/opt\/python\/envs\/default\/lib\/python3.8\/site-packages (from dask[complete]) (3.1.0)\r\n",
      "Requirement already satisfied: fsspec>=2021.09.0 in \/opt\/python\/envs\/default\/lib\/python3.8\/site-packages (from dask[complete]) (2024.10.0)\r\n",
      "Requirement already satisfied: packaging>=20.0 in \/opt\/python\/envs\/default\/lib\/python3.8\/site-packages (from dask[complete]) (24.1)\r\n",
      "Requirement already satisfied: partd>=1.2.0 in \/opt\/python\/envs\/default\/lib\/python3.8\/site-packages (from dask[complete]) (1.4.1)\r\n",
      "Requirement already satisfied: pyyaml>=5.3.1 in \/opt\/python\/envs\/default\/lib\/python3.8\/site-packages (from dask[complete]) (6.0.2)\r\n",
      "Requirement already satisfied: toolz>=0.10.0 in \/opt\/python\/envs\/default\/lib\/python3.8\/site-packages (from dask[complete]) (1.0.0)\r\n",
      "Requirement already satisfied: importlib-metadata>=4.13.0 in \/opt\/python\/envs\/default\/lib\/python3.8\/site-packages (from dask[complete]) (8.5.0)\r\n",
      "Requirement already satisfied: pyarrow>=7.0 in \/opt\/python\/envs\/default\/lib\/python3.8\/site-packages (from dask[complete]) (17.0.0)\r\n",
      "Requirement already satisfied: lz4>=4.3.2 in \/opt\/python\/envs\/default\/lib\/python3.8\/site-packages (from dask[complete]) (4.3.3)\r\n",
      "Requirement already satisfied: zipp>=3.20 in \/opt\/python\/envs\/default\/lib\/python3.8\/site-packages (from importlib-metadata>=4.13.0->dask[complete]) (3.20.2)\r\n",
      "Requirement already satisfied: locket in \/opt\/python\/envs\/default\/lib\/python3.8\/site-packages (from partd>=1.2.0->dask[complete]) (1.0.0)\r\n",
      "Requirement already satisfied: numpy>=1.16.6 in \/opt\/python\/envs\/default\/lib\/python3.8\/site-packages (from pyarrow>=7.0->dask[complete]) (1.24.3)\r\n",
      "Requirement already satisfied: pandas>=1.3 in \/opt\/python\/envs\/default\/lib\/python3.8\/site-packages (from dask[complete]) (1.5.3)\r\n",
      "Requirement already satisfied: bokeh>=2.4.2 in \/opt\/python\/envs\/default\/lib\/python3.8\/site-packages (from dask[complete]) (3.1.1)\r\n",
      "Requirement already satisfied: jinja2>=2.10.3 in \/opt\/python\/envs\/default\/lib\/python3.8\/site-packages (from dask[complete]) (3.1.4)\r\n",
      "Requirement already satisfied: distributed==2023.5.0 in \/opt\/python\/envs\/default\/lib\/python3.8\/site-packages (from dask[complete]) (2023.5.0)\r\n",
      "Requirement already satisfied: msgpack>=1.0.0 in \/opt\/python\/envs\/default\/lib\/python3.8\/site-packages (from distributed==2023.5.0->dask[complete]) (1.1.0)\r\n",
      "Requirement already satisfied: psutil>=5.7.0 in \/opt\/python\/envs\/default\/lib\/python3.8\/site-packages (from distributed==2023.5.0->dask[complete]) (6.1.0)\r\n",
      "Requirement already satisfied: sortedcontainers>=2.0.5 in \/opt\/python\/envs\/default\/lib\/python3.8\/site-packages (from distributed==2023.5.0->dask[complete]) (2.4.0)\r\n",
      "Requirement already satisfied: tblib>=1.6.0 in \/opt\/python\/envs\/default\/lib\/python3.8\/site-packages (from distributed==2023.5.0->dask[complete]) (3.0.0)\r\n",
      "Requirement already satisfied: tornado>=6.0.3 in \/opt\/python\/envs\/default\/lib\/python3.8\/site-packages (from distributed==2023.5.0->dask[complete]) (6.4.1)\r\n",
      "Requirement already satisfied: urllib3>=1.24.3 in \/opt\/python\/envs\/default\/lib\/python3.8\/site-packages (from distributed==2023.5.0->dask[complete]) (1.26.20)\r\n",
      "Requirement already satisfied: zict>=2.2.0 in \/opt\/python\/envs\/default\/lib\/python3.8\/site-packages (from distributed==2023.5.0->dask[complete]) (3.0.0)\r\n",
      "Requirement already satisfied: contourpy>=1 in \/opt\/python\/envs\/default\/lib\/python3.8\/site-packages (from bokeh>=2.4.2->dask[complete]) (1.1.1)\r\n",
      "Requirement already satisfied: pillow>=7.1.0 in \/opt\/python\/envs\/default\/lib\/python3.8\/site-packages (from bokeh>=2.4.2->dask[complete]) (10.4.0)\r\n",
      "Requirement already satisfied: xyzservices>=2021.09.1 in \/opt\/python\/envs\/default\/lib\/python3.8\/site-packages (from bokeh>=2.4.2->dask[complete]) (2024.9.0)\r\n",
      "Requirement already satisfied: MarkupSafe>=2.0 in \/opt\/python\/envs\/default\/lib\/python3.8\/site-packages (from jinja2>=2.10.3->dask[complete]) (2.1.5)\r\n",
      "Requirement already satisfied: python-dateutil>=2.8.1 in \/opt\/python\/envs\/default\/lib\/python3.8\/site-packages (from pandas>=1.3->dask[complete]) (2.9.0.post0)\r\n",
      "Requirement already satisfied: pytz>=2020.1 in \/opt\/python\/envs\/default\/lib\/python3.8\/site-packages (from pandas>=1.3->dask[complete]) (2024.2)\r\n",
      "Requirement already satisfied: six>=1.5 in \/opt\/python\/envs\/default\/lib\/python3.8\/site-packages (from python-dateutil>=2.8.1->pandas>=1.3->dask[complete]) (1.16.0)\r\n",
      "Requirement already satisfied: torch in \/opt\/python\/envs\/default\/lib\/python3.8\/site-packages (2.4.1+cpu)\r\n",
      "Requirement already satisfied: filelock in \/opt\/python\/envs\/default\/lib\/python3.8\/site-packages (from torch) (3.16.1)\r\n",
      "Collecting typing-extensions>=4.8.0 (from torch)\r\n",
      "  Using cached typing_extensions-4.12.2-py3-none-any.whl.metadata (3.0 kB)\r\n",
      "Requirement already satisfied: sympy in \/opt\/python\/envs\/default\/lib\/python3.8\/site-packages (from torch) (1.13.3)\r\n",
      "Requirement already satisfied: networkx in \/opt\/python\/envs\/default\/lib\/python3.8\/site-packages (from torch) (3.1)\r\n",
      "Requirement already satisfied: jinja2 in \/opt\/python\/envs\/default\/lib\/python3.8\/site-packages (from torch) (3.1.4)\r\n",
      "Requirement already satisfied: fsspec in \/opt\/python\/envs\/default\/lib\/python3.8\/site-packages (from torch) (2024.10.0)\r\n",
      "Requirement already satisfied: MarkupSafe>=2.0 in \/opt\/python\/envs\/default\/lib\/python3.8\/site-packages (from jinja2->torch) (2.1.5)\r\n",
      "Requirement already satisfied: mpmath<1.4,>=1.1.0 in \/opt\/python\/envs\/default\/lib\/python3.8\/site-packages (from sympy->torch) (1.3.0)\r\n",
      "Using cached typing_extensions-4.12.2-py3-none-any.whl (37 kB)\r\n",
      "Installing collected packages: typing-extensions\r\n",
      "  Attempting uninstall: typing-extensions\r\n",
      "    Found existing installation: typing_extensions 4.5.0\r\n",
      "    Uninstalling typing_extensions-4.5.0:\r\n",
      "      Successfully uninstalled typing_extensions-4.5.0\r\n",
      "\u001b[31mERROR: pip's dependency resolver does not currently take into account all the packages that are installed. This behaviour is the source of the following dependency conflicts.\r\n",
      "tensorflow 2.13.1 requires typing-extensions<4.6.0,>=3.6.6, but you have typing-extensions 4.12.2 which is incompatible.\r\n",
      "tensorflow-cpu 2.11.1 requires keras<2.12,>=2.11.0, but you have keras 2.13.1 which is incompatible.\r\n",
      "tensorflow-cpu 2.11.1 requires protobuf<3.20,>=3.9.2, but you have protobuf 4.25.5 which is incompatible.\r\n",
      "tensorflow-cpu 2.11.1 requires tensorboard<2.12,>=2.11, but you have tensorboard 2.13.0 which is incompatible.\r\n",
      "tensorflow-cpu 2.11.1 requires tensorflow-estimator<2.12,>=2.11.0, but you have tensorflow-estimator 2.13.0 which is incompatible.\u001b[0m\u001b[31m\r\n",
      "\u001b[0mSuccessfully installed typing-extensions-4.12.2\r\n",
      "Requirement already satisfied: tensorflow in \/opt\/python\/envs\/default\/lib\/python3.8\/site-packages (2.13.1)\r\n",
      "Requirement already satisfied: absl-py>=1.0.0 in \/opt\/python\/envs\/default\/lib\/python3.8\/site-packages (from tensorflow) (2.1.0)\r\n",
      "Requirement already satisfied: astunparse>=1.6.0 in \/opt\/python\/envs\/default\/lib\/python3.8\/site-packages (from tensorflow) (1.6.3)\r\n",
      "Requirement already satisfied: flatbuffers>=23.1.21 in \/opt\/python\/envs\/default\/lib\/python3.8\/site-packages (from tensorflow) (24.3.25)\r\n",
      "Requirement already satisfied: gast<=0.4.0,>=0.2.1 in \/opt\/python\/envs\/default\/lib\/python3.8\/site-packages (from tensorflow) (0.4.0)\r\n",
      "Requirement already satisfied: google-pasta>=0.1.1 in \/opt\/python\/envs\/default\/lib\/python3.8\/site-packages (from tensorflow) (0.2.0)\r\n",
      "Requirement already satisfied: grpcio<2.0,>=1.24.3 in \/opt\/python\/envs\/default\/lib\/python3.8\/site-packages (from tensorflow) (1.67.1)\r\n",
      "Requirement already satisfied: h5py>=2.9.0 in \/opt\/python\/envs\/default\/lib\/python3.8\/site-packages (from tensorflow) (3.11.0)\r\n",
      "Requirement already satisfied: keras<2.14,>=2.13.1 in \/opt\/python\/envs\/default\/lib\/python3.8\/site-packages (from tensorflow) (2.13.1)\r\n",
      "Requirement already satisfied: libclang>=13.0.0 in \/opt\/python\/envs\/default\/lib\/python3.8\/site-packages (from tensorflow) (18.1.1)\r\n",
      "Requirement already satisfied: numpy<=1.24.3,>=1.22 in \/opt\/python\/envs\/default\/lib\/python3.8\/site-packages (from tensorflow) (1.24.3)\r\n",
      "Requirement already satisfied: opt-einsum>=2.3.2 in \/opt\/python\/envs\/default\/lib\/python3.8\/site-packages (from tensorflow) (3.4.0)\r\n",
      "Requirement already satisfied: packaging in \/opt\/python\/envs\/default\/lib\/python3.8\/site-packages (from tensorflow) (24.1)\r\n",
      "Requirement already satisfied: protobuf!=4.21.0,!=4.21.1,!=4.21.2,!=4.21.3,!=4.21.4,!=4.21.5,<5.0.0dev,>=3.20.3 in \/opt\/python\/envs\/default\/lib\/python3.8\/site-packages (from tensorflow) (4.25.5)\r\n",
      "Requirement already satisfied: setuptools in \/opt\/python\/envs\/default\/lib\/python3.8\/site-packages (from tensorflow) (75.3.0)\r\n",
      "Requirement already satisfied: six>=1.12.0 in \/opt\/python\/envs\/default\/lib\/python3.8\/site-packages (from tensorflow) (1.16.0)\r\n",
      "Requirement already satisfied: tensorboard<2.14,>=2.13 in \/opt\/python\/envs\/default\/lib\/python3.8\/site-packages (from tensorflow) (2.13.0)\r\n",
      "Requirement already satisfied: tensorflow-estimator<2.14,>=2.13.0 in \/opt\/python\/envs\/default\/lib\/python3.8\/site-packages (from tensorflow) (2.13.0)\r\n",
      "Requirement already satisfied: termcolor>=1.1.0 in \/opt\/python\/envs\/default\/lib\/python3.8\/site-packages (from tensorflow) (2.4.0)\r\n",
      "Collecting typing-extensions<4.6.0,>=3.6.6 (from tensorflow)\r\n",
      "  Using cached typing_extensions-4.5.0-py3-none-any.whl.metadata (8.5 kB)\r\n",
      "Requirement already satisfied: wrapt>=1.11.0 in \/opt\/python\/envs\/default\/lib\/python3.8\/site-packages (from tensorflow) (1.16.0)\r\n",
      "Requirement already satisfied: tensorflow-io-gcs-filesystem>=0.23.1 in \/opt\/python\/envs\/default\/lib\/python3.8\/site-packages (from tensorflow) (0.34.0)\r\n",
      "Requirement already satisfied: wheel<1.0,>=0.23.0 in \/opt\/python\/envs\/default\/lib\/python3.8\/site-packages (from astunparse>=1.6.0->tensorflow) (0.44.0)\r\n",
      "Requirement already satisfied: google-auth<3,>=1.6.3 in \/opt\/python\/envs\/default\/lib\/python3.8\/site-packages (from tensorboard<2.14,>=2.13->tensorflow) (2.35.0)\r\n",
      "Requirement already satisfied: google-auth-oauthlib<1.1,>=0.5 in \/opt\/python\/envs\/default\/lib\/python3.8\/site-packages (from tensorboard<2.14,>=2.13->tensorflow) (1.0.0)\r\n",
      "Requirement already satisfied: markdown>=2.6.8 in \/opt\/python\/envs\/default\/lib\/python3.8\/site-packages (from tensorboard<2.14,>=2.13->tensorflow) (3.7)\r\n",
      "Requirement already satisfied: requests<3,>=2.21.0 in \/opt\/python\/envs\/default\/lib\/python3.8\/site-packages (from tensorboard<2.14,>=2.13->tensorflow) (2.32.3)\r\n",
      "Requirement already satisfied: tensorboard-data-server<0.8.0,>=0.7.0 in \/opt\/python\/envs\/default\/lib\/python3.8\/site-packages (from tensorboard<2.14,>=2.13->tensorflow) (0.7.2)\r\n",
      "Requirement already satisfied: werkzeug>=1.0.1 in \/opt\/python\/envs\/default\/lib\/python3.8\/site-packages (from tensorboard<2.14,>=2.13->tensorflow) (3.0.6)\r\n",
      "Requirement already satisfied: cachetools<6.0,>=2.0.0 in \/opt\/python\/envs\/default\/lib\/python3.8\/site-packages (from google-auth<3,>=1.6.3->tensorboard<2.14,>=2.13->tensorflow) (5.5.0)\r\n",
      "Requirement already satisfied: pyasn1-modules>=0.2.1 in \/opt\/python\/envs\/default\/lib\/python3.8\/site-packages (from google-auth<3,>=1.6.3->tensorboard<2.14,>=2.13->tensorflow) (0.4.1)\r\n",
      "Requirement already satisfied: rsa<5,>=3.1.4 in \/opt\/python\/envs\/default\/lib\/python3.8\/site-packages (from google-auth<3,>=1.6.3->tensorboard<2.14,>=2.13->tensorflow) (4.9)\r\n",
      "Requirement already satisfied: requests-oauthlib>=0.7.0 in \/opt\/python\/envs\/default\/lib\/python3.8\/site-packages (from google-auth-oauthlib<1.1,>=0.5->tensorboard<2.14,>=2.13->tensorflow) (2.0.0)\r\n",
      "Requirement already satisfied: importlib-metadata>=4.4 in \/opt\/python\/envs\/default\/lib\/python3.8\/site-packages (from markdown>=2.6.8->tensorboard<2.14,>=2.13->tensorflow) (8.5.0)\r\n",
      "Requirement already satisfied: charset-normalizer<4,>=2 in \/opt\/python\/envs\/default\/lib\/python3.8\/site-packages (from requests<3,>=2.21.0->tensorboard<2.14,>=2.13->tensorflow) (3.4.0)\r\n",
      "Requirement already satisfied: idna<4,>=2.5 in \/opt\/python\/envs\/default\/lib\/python3.8\/site-packages (from requests<3,>=2.21.0->tensorboard<2.14,>=2.13->tensorflow) (3.10)\r\n",
      "Requirement already satisfied: urllib3<3,>=1.21.1 in \/opt\/python\/envs\/default\/lib\/python3.8\/site-packages (from requests<3,>=2.21.0->tensorboard<2.14,>=2.13->tensorflow) (1.26.20)\r\n",
      "Requirement already satisfied: certifi>=2017.4.17 in \/opt\/python\/envs\/default\/lib\/python3.8\/site-packages (from requests<3,>=2.21.0->tensorboard<2.14,>=2.13->tensorflow) (2024.8.30)\r\n",
      "Requirement already satisfied: MarkupSafe>=2.1.1 in \/opt\/python\/envs\/default\/lib\/python3.8\/site-packages (from werkzeug>=1.0.1->tensorboard<2.14,>=2.13->tensorflow) (2.1.5)\r\n",
      "Requirement already satisfied: zipp>=3.20 in \/opt\/python\/envs\/default\/lib\/python3.8\/site-packages (from importlib-metadata>=4.4->markdown>=2.6.8->tensorboard<2.14,>=2.13->tensorflow) (3.20.2)\r\n",
      "Requirement already satisfied: pyasn1<0.7.0,>=0.4.6 in \/opt\/python\/envs\/default\/lib\/python3.8\/site-packages (from pyasn1-modules>=0.2.1->google-auth<3,>=1.6.3->tensorboard<2.14,>=2.13->tensorflow) (0.6.1)\r\n",
      "Requirement already satisfied: oauthlib>=3.0.0 in \/opt\/python\/envs\/default\/lib\/python3.8\/site-packages (from requests-oauthlib>=0.7.0->google-auth-oauthlib<1.1,>=0.5->tensorboard<2.14,>=2.13->tensorflow) (3.2.2)\r\n",
      "Using cached typing_extensions-4.5.0-py3-none-any.whl (27 kB)\r\n",
      "Installing collected packages: typing-extensions\r\n",
      "  Attempting uninstall: typing-extensions\r\n",
      "    Found existing installation: typing_extensions 4.12.2\r\n",
      "    Uninstalling typing_extensions-4.12.2:\r\n",
      "      Successfully uninstalled typing_extensions-4.12.2\r\n",
      "\u001b[31mERROR: pip's dependency resolver does not currently take into account all the packages that are installed. This behaviour is the source of the following dependency conflicts.\r\n",
      "sqlalchemy 2.0.36 requires typing-extensions>=4.6.0, but you have typing-extensions 4.5.0 which is incompatible.\r\n",
      "pydantic 2.9.2 requires typing-extensions>=4.6.1; python_version < \"3.13\", but you have typing-extensions 4.5.0 which is incompatible.\r\n",
      "pydantic-core 2.23.4 requires typing-extensions!=4.7.0,>=4.6.0, but you have typing-extensions 4.5.0 which is incompatible.\r\n",
      "tensorflow-cpu 2.11.1 requires keras<2.12,>=2.11.0, but you have keras 2.13.1 which is incompatible.\r\n",
      "tensorflow-cpu 2.11.1 requires protobuf<3.20,>=3.9.2, but you have protobuf 4.25.5 which is incompatible.\r\n",
      "tensorflow-cpu 2.11.1 requires tensorboard<2.12,>=2.11, but you have tensorboard 2.13.0 which is incompatible.\r\n",
      "tensorflow-cpu 2.11.1 requires tensorflow-estimator<2.12,>=2.11.0, but you have tensorflow-estimator 2.13.0 which is incompatible.\r\n",
      "torch 2.4.1+cpu requires typing-extensions>=4.8.0, but you have typing-extensions 4.5.0 which is incompatible.\u001b[0m\u001b[31m\r\n",
      "\u001b[0mSuccessfully installed typing-extensions-4.5.0\r\n",
      "Requirement already satisfied: polars in \/opt\/python\/envs\/default\/lib\/python3.8\/site-packages (1.8.2)\r\n",
      "Requirement already satisfied: parquet in \/opt\/python\/envs\/default\/lib\/python3.8\/site-packages (1.3.1)\r\n",
      "Requirement already satisfied: thriftpy2 in \/opt\/python\/envs\/default\/lib\/python3.8\/site-packages (from parquet) (0.5.2)\r\n",
      "Requirement already satisfied: Cython>=3.0.10 in \/opt\/python\/envs\/default\/lib\/python3.8\/site-packages (from thriftpy2->parquet) (3.0.11)\r\n",
      "Requirement already satisfied: ply<4.0,>=3.4 in \/opt\/python\/envs\/default\/lib\/python3.8\/site-packages (from thriftpy2->parquet) (3.11)\r\n",
      "Requirement already satisfied: six~=1.15 in \/opt\/python\/envs\/default\/lib\/python3.8\/site-packages (from thriftpy2->parquet) (1.16.0)\r\n",
      "Requirement already satisfied: pyspark in \/opt\/python\/envs\/default\/lib\/python3.8\/site-packages (3.5.3)\r\n",
      "Requirement already satisfied: py4j==0.10.9.7 in \/opt\/python\/envs\/default\/lib\/python3.8\/site-packages (from pyspark) (0.10.9.7)\r\n"
     ],
     "output_type":"stream"
    }
   ],
   "metadata":{
    "datalore":{
     "node_id":"9qcpLqqMxlDm2F9q53LHot",
     "type":"CODE",
     "hide_input_from_viewers":false,
     "hide_output_from_viewers":false,
     "report_properties":{
      "rowId":"dt5hnZzXUFlltVlRnzQ6cE"
     }
    }
   }
  },
  {
   "cell_type":"code",
   "source":[
    "!pip list"
   ],
   "execution_count":3,
   "outputs":[
    {
     "name":"stdout",
     "text":[
      "Package                       Version\r\n",
      "----------------------------- ----------------\r\n",
      "absl-py                       2.0.0\r\n",
      "aiohttp                       3.8.4\r\n",
      "aiosignal                     1.3.1\r\n",
      "alabaster                     0.7.13\r\n",
      "annotated-types               0.6.0\r\n",
      "anyio                         3.7.1\r\n",
      "argon2-cffi                   23.1.0\r\n",
      "argon2-cffi-bindings          21.2.0\r\n",
      "astunparse                    1.6.3\r\n",
      "async-timeout                 4.0.3\r\n",
      "attrs                         23.1.0\r\n",
      "Babel                         2.13.0\r\n",
      "backcall                      0.2.0\r\n",
      "beautifulsoup4                4.12.2\r\n",
      "bleach                        6.1.0\r\n",
      "blis                          0.7.11\r\n",
      "bokeh                         3.1.1\r\n",
      "boto3                         1.26.133\r\n",
      "botocore                      1.29.165\r\n",
      "cachetools                    5.3.1\r\n",
      "catalogue                     2.0.10\r\n",
      "certifi                       2023.7.22\r\n",
      "cffi                          1.16.0\r\n",
      "charset-normalizer            3.3.0\r\n",
      "click                         8.1.7\r\n",
      "click-plugins                 1.1.1\r\n",
      "cligj                         0.7.2\r\n",
      "cloudpathlib                  0.15.1\r\n",
      "cmake                         3.27.6\r\n",
      "confection                    0.1.3\r\n",
      "contourpy                     1.1.1\r\n",
      "countryinfo                   0.1.2\r\n",
      "cycler                        0.12.1\r\n",
      "cymem                         2.0.8\r\n",
      "decorator                     5.1.1\r\n",
      "defusedxml                    0.7.1\r\n",
      "descartes                     1.1.0\r\n",
      "docutils                      0.20.1\r\n",
      "duckdb                        0.7.1\r\n",
      "exceptiongroup                1.1.3\r\n",
      "fastai                        2.7.12\r\n",
      "fastcore                      1.5.29\r\n",
      "fastdownload                  0.0.7\r\n",
      "fastjsonschema                2.18.1\r\n",
      "fastprogress                  1.0.3\r\n",
      "filelock                      3.12.4\r\n",
      "Fiona                         1.9.3\r\n",
      "flatbuffers                   23.5.26\r\n",
      "fonttools                     4.43.1\r\n",
      "frozenlist                    1.4.0\r\n",
      "fsspec                        2023.9.2\r\n",
      "gast                          0.4.0\r\n",
      "gensim                        4.3.1\r\n",
      "geopandas                     0.13.0\r\n",
      "google-auth                   2.23.3\r\n",
      "google-auth-oauthlib          0.4.6\r\n",
      "google-pasta                  0.2.0\r\n",
      "greenlet                      3.0.0\r\n",
      "grpcio                        1.59.0\r\n",
      "h5py                          3.10.0\r\n",
      "huggingface-hub               0.18.0\r\n",
      "idna                          3.4\r\n",
      "imageio                       2.31.5\r\n",
      "imagesize                     1.4.1\r\n",
      "importlib-metadata            6.8.0\r\n",
      "importlib-resources           6.1.0\r\n",
      "ipykernel                     5.5.3\r\n",
      "ipython                       7.31.1\r\n",
      "ipython-genutils              0.2.0\r\n",
      "ipywidgets                    7.6.5\r\n",
      "jedi                          0.17.2\r\n",
      "Jinja2                        3.1.2\r\n",
      "jmespath                      1.0.1\r\n",
      "joblib                        1.3.2\r\n",
      "jsonschema                    4.19.1\r\n",
      "jsonschema-specifications     2023.7.1\r\n",
      "jupyter-client                6.1.12\r\n",
      "jupyter_core                  5.4.0\r\n",
      "jupyter-server                1.24.0\r\n",
      "jupyterlab-pygments           0.2.2\r\n",
      "jupyterlab-widgets            3.0.9\r\n",
      "keras                         2.10.0\r\n",
      "Keras-Preprocessing           1.1.2\r\n",
      "kiwisolver                    1.4.5\r\n",
      "kotlin-jupyter-kernel         0.11.0.377\r\n",
      "langcodes                     3.3.0\r\n",
      "lazy_loader                   0.3\r\n",
      "lets-plot                     4.0.1\r\n",
      "libclang                      16.0.6\r\n",
      "lit                           17.0.2\r\n",
      "lxml                          4.9.2\r\n",
      "Markdown                      3.5\r\n",
      "MarkupSafe                    2.1.3\r\n",
      "matplotlib                    3.7.1\r\n",
      "matplotlib-inline             0.1.6\r\n",
      "mistune                       3.0.2\r\n",
      "mpmath                        1.3.0\r\n",
      "multidict                     6.0.4\r\n",
      "munch                         4.0.0\r\n",
      "murmurhash                    1.0.10\r\n",
      "nbclassic                     1.0.0\r\n",
      "nbclient                      0.8.0\r\n",
      "nbconvert                     7.9.2\r\n",
      "nbformat                      5.8.0\r\n",
      "nest-asyncio                  1.5.8\r\n",
      "networkx                      3.1\r\n",
      "notebook                      6.5.6\r\n",
      "notebook_shim                 0.2.3\r\n",
      "numpy                         1.24.3\r\n",
      "numpydoc                      1.5.0\r\n",
      "oauthlib                      3.2.2\r\n",
      "opencv-python-headless        4.7.0.72\r\n",
      "opt-einsum                    3.3.0\r\n",
      "packaging                     23.2\r\n",
      "palettable                    3.3.3\r\n",
      "pandas                        1.5.3\r\n",
      "pandas-datareader             0.10.0\r\n",
      "pandocfilters                 1.5.0\r\n",
      "parso                         0.7.1\r\n",
      "pathy                         0.10.2\r\n",
      "patsy                         0.5.3\r\n",
      "pexpect                       4.8.0\r\n",
      "pickleshare                   0.7.5\r\n",
      "Pillow                        10.0.1\r\n",
      "pip                           23.1.2\r\n",
      "pkgutil_resolve_name          1.3.10\r\n",
      "platformdirs                  3.11.0\r\n",
      "plotly                        5.14.1\r\n",
      "preshed                       3.0.9\r\n",
      "prometheus-client             0.17.1\r\n",
      "prompt-toolkit                3.0.39\r\n",
      "protobuf                      3.19.6\r\n",
      "psycopg2-binary               2.9.6\r\n",
      "ptyprocess                    0.7.0\r\n",
      "py4j                          0.10.9.7\r\n",
      "pyasn1                        0.5.0\r\n",
      "pyasn1-modules                0.3.0\r\n",
      "pycparser                     2.21\r\n",
      "pydantic                      2.4.2\r\n",
      "pydantic_core                 2.10.1\r\n",
      "Pygments                      2.16.1\r\n",
      "PyMySQL                       1.0.3\r\n",
      "pyparsing                     3.1.1\r\n",
      "pypng                         0.20220715.0\r\n",
      "pyproj                        3.5.0\r\n",
      "pyspark                       3.4.0\r\n",
      "python-dateutil               2.8.2\r\n",
      "pytz                          2023.3.post1\r\n",
      "PyWavelets                    1.4.1\r\n",
      "PyYAML                        6.0.1\r\n",
      "pyzmq                         24.0.1\r\n",
      "referencing                   0.30.2\r\n",
      "regex                         2023.10.3\r\n",
      "requests                      2.30.0\r\n",
      "requests-oauthlib             1.3.1\r\n",
      "rpds-py                       0.10.6\r\n",
      "rsa                           4.9\r\n",
      "s3transfer                    0.6.2\r\n",
      "scikit-image                  0.20.0\r\n",
      "scikit-learn                  1.2.2\r\n",
      "scipy                         1.9.1\r\n",
      "seaborn                       0.12.2\r\n",
      "Send2Trash                    1.8.2\r\n",
      "setuptools                    68.2.2\r\n",
      "shapely                       2.0.1\r\n",
      "six                           1.16.0\r\n",
      "smart-open                    6.4.0\r\n",
      "sniffio                       1.3.0\r\n",
      "snowballstemmer               2.2.0\r\n",
      "soupsieve                     2.5\r\n",
      "spacy                         3.7.1\r\n",
      "spacy-legacy                  3.0.12\r\n",
      "spacy-loggers                 1.0.5\r\n",
      "Sphinx                        7.1.2\r\n",
      "sphinxcontrib-applehelp       1.0.4\r\n",
      "sphinxcontrib-devhelp         1.0.2\r\n",
      "sphinxcontrib-htmlhelp        2.0.1\r\n",
      "sphinxcontrib-jsmath          1.0.1\r\n",
      "sphinxcontrib-qthelp          1.0.3\r\n",
      "sphinxcontrib-serializinghtml 1.1.5\r\n",
      "SQLAlchemy                    2.0.13\r\n",
      "srsly                         2.4.8\r\n",
      "statsmodels                   0.14.0\r\n",
      "sympy                         1.12\r\n",
      "tenacity                      8.2.3\r\n",
      "tensorboard                   2.10.1\r\n",
      "tensorboard-data-server       0.6.1\r\n",
      "tensorboard-plugin-wit        1.8.1\r\n",
      "tensorflow-cpu                2.10.1\r\n",
      "tensorflow-estimator          2.10.0\r\n",
      "tensorflow-io-gcs-filesystem  0.34.0\r\n",
      "termcolor                     2.3.0\r\n",
      "terminado                     0.17.1\r\n",
      "thinc                         8.2.1\r\n",
      "threadpoolctl                 3.2.0\r\n",
      "tifffile                      2023.7.10\r\n",
      "tinycss2                      1.2.1\r\n",
      "tokenizers                    0.13.3\r\n",
      "torch                         2.0.1+cu117\r\n",
      "torchvision                   0.15.2+rocm5.4.2\r\n",
      "tornado                       6.3.3\r\n",
      "tqdm                          4.66.1\r\n",
      "traitlets                     5.11.2\r\n",
      "transformers                  4.29.1\r\n",
      "triton                        2.0.0\r\n",
      "typer                         0.9.0\r\n",
      "typing_extensions             4.8.0\r\n",
      "urllib3                       1.26.17\r\n",
      "wasabi                        1.1.2\r\n",
      "wcwidth                       0.2.8\r\n",
      "weasel                        0.3.2\r\n",
      "webencodings                  0.5.1\r\n",
      "websocket-client              1.6.4\r\n",
      "Werkzeug                      3.0.0\r\n",
      "wheel                         0.41.2\r\n",
      "widgetsnbextension            3.5.2\r\n",
      "wrapt                         1.15.0\r\n",
      "xgboost                       1.7.5\r\n",
      "xlrd                          2.0.1\r\n",
      "xyzservices                   2023.10.0\r\n",
      "yarl                          1.9.2\r\n",
      "zipp                          3.17.0\r\n",
      "\r\n",
      "\u001b[1m[\u001b[0m\u001b[34;49mnotice\u001b[0m\u001b[1;39;49m]\u001b[0m\u001b[39;49m A new release of pip is available: \u001b[0m\u001b[31;49m23.1.2\u001b[0m\u001b[39;49m -> \u001b[0m\u001b[32;49m23.3.1\u001b[0m\r\n",
      "\u001b[1m[\u001b[0m\u001b[34;49mnotice\u001b[0m\u001b[1;39;49m]\u001b[0m\u001b[39;49m To update, run: \u001b[0m\u001b[32;49mpip install --upgrade pip\u001b[0m\r\n"
     ],
     "output_type":"stream"
    }
   ],
   "metadata":{
    "datalore":{
     "node_id":"Qf2fGBT29Tp85ig2h3H6be",
     "type":"CODE",
     "hide_input_from_viewers":false,
     "hide_output_from_viewers":false,
     "report_properties":{
      "rowId":"iF77wHN3KjirO3UBNMvq29"
     }
    }
   }
  },
  {
   "cell_type":"markdown",
   "source":[
    "# 📜 Verzie vizualizačných knižnic \n",
    "try - except - finally  \n",
    "\n",
    "https:\/\/docs.python.org\/3\/tutorial\/errors.html "
   ],
   "attachments":{},
   "metadata":{
    "datalore":{
     "node_id":"O6f5kWGeujRXtOQVWAlLTl",
     "type":"MD",
     "hide_input_from_viewers":false,
     "hide_output_from_viewers":false,
     "report_properties":{
      "rowId":"E9cX2hSUAeBjar0TwM5syB"
     }
    }
   }
  },
  {
   "cell_type":"code",
   "source":[
    "\n",
    "\n",
    "print(\"✅ Moduly\/kniznice boli nacitane\")\n",
    "# Zobrazenie verzií knižníc\n",
    "\n",
    "# Tu používame pyarrow pre Parquet\n",
    " \n",
    "\n",
    "# Ak by bol nainštalovaný `pyarrow` pre Parquet\n"
   ],
   "execution_count":12,
   "outputs":[
    {
     "name":"stdout",
     "text":[
      "✅ Moduly\/kniznice boli nacitane\n",
      "Pandas verzia: 1.5.3\n",
      "NumPy verzia: 1.24.3\n",
      "SciPy verzia: 1.10.1\n",
      "Dask verzia: 2023.5.0\n",
      "PyTorch verzia: 2.4.1+cpu\n",
      "TensorFlow verzia: 2.13.1\n",
      "Polars verzia: 1.8.2\n",
      "PyArrow verzia (Parquet): 17.0.0\n",
      "Parquet verzia: 1.3.1\n",
      "PySpark verzia: 3.5.3\n"
     ],
     "output_type":"stream"
    }
   ],
   "metadata":{
    "datalore":{
     "node_id":"V0v8HOOhd9hhVxJnX8q4eL",
     "type":"CODE",
     "hide_input_from_viewers":true,
     "hide_output_from_viewers":true
    }
   }
  },
  {
   "cell_type":"code",
   "source":[
    "try:\n",
    "    import pandas as pd\n",
    "    import numpy as np\n",
    "    \n",
    "\n",
    "    \n",
    "\n",
    "    \n",
    "\n",
    "except:\n",
    "    print(\"EXCEPT: Moduly\/Kniznice neboli nacitane, nastala chyba...\")\n",
    "\n",
    "finally:\n",
    "    print(\"\\nFINALLY: Tento text sa vypise vzdy\")"
   ],
   "execution_count":13,
   "outputs":[
    {
     "name":"stdout",
     "text":[
      "TRY:\n",
      "✅ Moduly\/kniznice boli nacitane\n",
      "Pandas verzia: 1.5.3\n",
      "NumPy verzia: 1.24.3\n",
      "SciPy verzia: 1.10.1\n",
      "Dask verzia: 2023.5.0\n",
      "PyTorch verzia: 2.4.1+cpu\n",
      "TensorFlow verzia: 2.13.1\n",
      "Polars verzia: 1.8.2\n",
      "PyArrow verzia (Parquet): 17.0.0\n",
      "Parquet verzia: 1.3.1\n",
      "PySpark verzia: 3.5.3\n",
      "\n",
      "FINALLY: Tento text sa vypise vzdy\n"
     ],
     "output_type":"stream"
    }
   ],
   "metadata":{
    "datalore":{
     "node_id":"xxC61eI2Oqyzy8GmzzwrET",
     "type":"CODE",
     "hide_input_from_viewers":false,
     "hide_output_from_viewers":false,
     "report_properties":{
      "rowId":"csTaUBzwY1G6f6IoNz36lu"
     }
    }
   }
  },
  {
   "cell_type":"markdown",
   "source":[
    "# 🤖 TensorFlow: Základný model neurónovej siete"
   ],
   "attachments":{},
   "metadata":{
    "datalore":{
     "node_id":"9nZeU67HPQXJSgN5qZb7h6",
     "type":"MD",
     "hide_input_from_viewers":true,
     "hide_output_from_viewers":true
    }
   }
  },
  {
   "cell_type":"code",
   "source":[],
   "execution_count":18,
   "outputs":[
    {
     "name":"stdout",
     "text":[
      "Epoch 1\/5\n",
      "\r 1\/32 [..............................] - ETA: 6s - loss: 2.3785 - accuracy: 0.0312\b\b\b\b\b\b\b\b\b\b\b\b\b\b\b\b\b\b\b\b\b\b\b\b\b\b\b\b\b\b\b\b\b\b\b\b\b\b\b\b\b\b\b\b\b\b\b\b\b\b\b\b\b\b\b\b\b\b\b\b\b\b\b\b\b\b\b\b\b\b\b\b\b\b\b\b\b\b\b\b\b\b\r32\/32 [==============================] - 0s 801us\/step - loss: 2.3529 - accuracy: 0.1130\n",
      "Epoch 2\/5\n",
      "\r 1\/32 [..............................] - ETA: 0s - loss: 2.4422 - accuracy: 0.1250\b\b\b\b\b\b\b\b\b\b\b\b\b\b\b\b\b\b\b\b\b\b\b\b\b\b\b\b\b\b\b\b\b\b\b\b\b\b\b\b\b\b\b\b\b\b\b\b\b\b\b\b\b\b\b\b\b\b\b\b\b\b\b\b\b\b\b\b\b\b\b\b\b\b\b\b\b\b\b\b\b\b\r32\/32 [==============================] - 0s 742us\/step - loss: 2.3017 - accuracy: 0.1080\n",
      "Epoch 3\/5\n",
      "\r 1\/32 [..............................] - ETA: 0s - loss: 2.2404 - accuracy: 0.1562\b\b\b\b\b\b\b\b\b\b\b\b\b\b\b\b\b\b\b\b\b\b\b\b\b\b\b\b\b\b\b\b\b\b\b\b\b\b\b\b\b\b\b\b\b\b\b\b\b\b\b\b\b\b\b\b\b\b\b\b\b\b\b\b\b\b\b\b\b\b\b\b\b\b\b\b\b\b\b\b\b\b\r32\/32 [==============================] - 0s 737us\/step - loss: 2.2857 - accuracy: 0.1260\n",
      "Epoch 4\/5\n",
      "\r 1\/32 [..............................] - ETA: 0s - loss: 2.2873 - accuracy: 0.1875\b\b\b\b\b\b\b\b\b\b\b\b\b\b\b\b\b\b\b\b\b\b\b\b\b\b\b\b\b\b\b\b\b\b\b\b\b\b\b\b\b\b\b\b\b\b\b\b\b\b\b\b\b\b\b\b\b\b\b\b\b\b\b\b\b\b\b\b\b\b\b\b\b\b\b\b\b\b\b\b\b\b\r32\/32 [==============================] - 0s 696us\/step - loss: 2.2760 - accuracy: 0.1440\n",
      "Epoch 5\/5\n",
      "\r 1\/32 [..............................] - ETA: 0s - loss: 2.2802 - accuracy: 0.0938\b\b\b\b\b\b\b\b\b\b\b\b\b\b\b\b\b\b\b\b\b\b\b\b\b\b\b\b\b\b\b\b\b\b\b\b\b\b\b\b\b\b\b\b\b\b\b\b\b\b\b\b\b\b\b\b\b\b\b\b\b\b\b\b\b\b\b\b\b\b\b\b\b\b\b\b\b\b\b\b\b\b\r32\/32 [==============================] - 0s 682us\/step - loss: 2.2666 - accuracy: 0.1410\n",
      "Model: \"sequential_1\"\n",
      "_________________________________________________________________\n",
      " Layer (type)                Output Shape              Param #   \n",
      "=================================================================\n",
      " dense_2 (Dense)             (None, 32)                25120     \n",
      "                                                                 \n",
      " dense_3 (Dense)             (None, 10)                330       \n",
      "                                                                 \n",
      "=================================================================\n",
      "Total params: 25450 (99.41 KB)\n",
      "Trainable params: 25450 (99.41 KB)\n",
      "Non-trainable params: 0 (0.00 Byte)\n",
      "_________________________________________________________________\n"
     ],
     "output_type":"stream"
    }
   ],
   "metadata":{
    "datalore":{
     "node_id":"pJKsT83yGfF6ZUc2u9NzI6",
     "type":"CODE",
     "hide_input_from_viewers":false,
     "hide_output_from_viewers":false,
     "report_properties":{
      "rowId":"WBOAojo2SfYR7FtzUsMDna"
     }
    }
   }
  },
  {
   "cell_type":"markdown",
   "source":[
    "# ⚡ Polars: Rýchle spracovanie dátových rámcov"
   ],
   "attachments":{},
   "metadata":{
    "datalore":{
     "node_id":"tsdIQ9XGjereK4lpOTMNED",
     "type":"MD",
     "hide_input_from_viewers":true,
     "hide_output_from_viewers":true
    }
   }
  },
  {
   "cell_type":"code",
   "source":[],
   "execution_count":24,
   "outputs":[
    {
     "name":"stdout",
     "text":[
      "shape: (4, 2)\n",
      "┌─────┬─────┐\n",
      "│ A   ┆ B   │\n",
      "│ --- ┆ --- │\n",
      "│ i64 ┆ i64 │\n",
      "╞═════╪═════╡\n",
      "│ 1   ┆ 5   │\n",
      "│ 2   ┆ 6   │\n",
      "│ 3   ┆ 7   │\n",
      "│ 4   ┆ 8   │\n",
      "└─────┴─────┘\n",
      "shape: (2, 2)\n",
      "┌─────┬─────┐\n",
      "│ A   ┆ B   │\n",
      "│ --- ┆ --- │\n",
      "│ i64 ┆ i64 │\n",
      "╞═════╪═════╡\n",
      "│ 3   ┆ 7   │\n",
      "│ 4   ┆ 8   │\n",
      "└─────┴─────┘\n",
      "shape: (4, 3)\n",
      "┌─────┬─────┬─────┐\n",
      "│ A   ┆ B   ┆ C   │\n",
      "│ --- ┆ --- ┆ --- │\n",
      "│ i64 ┆ i64 ┆ i64 │\n",
      "╞═════╪═════╪═════╡\n",
      "│ 1   ┆ 5   ┆ 2   │\n",
      "│ 2   ┆ 6   ┆ 4   │\n",
      "│ 3   ┆ 7   ┆ 6   │\n",
      "│ 4   ┆ 8   ┆ 8   │\n",
      "└─────┴─────┴─────┘\n"
     ],
     "output_type":"stream"
    }
   ],
   "metadata":{
    "datalore":{
     "node_id":"lxu23ZZDtd75p5JMDyXnt8",
     "type":"CODE",
     "hide_input_from_viewers":true,
     "hide_output_from_viewers":true
    }
   }
  },
  {
   "cell_type":"markdown",
   "source":[
    "# 📦 PyArrow: Práca s Parquet formátom"
   ],
   "attachments":{},
   "metadata":{
    "datalore":{
     "node_id":"B6sjX6sDMFTUWo9sNL2dyT",
     "type":"MD",
     "hide_input_from_viewers":true,
     "hide_output_from_viewers":true
    }
   }
  },
  {
   "cell_type":"code",
   "source":[],
   "execution_count":29,
   "outputs":[
    {
     "name":"stdout",
     "text":[
      "pyarrow.Table\n",
      "meno: string\n",
      "vek: int32\n",
      "povolanie: string\n",
      "----\n",
      "meno: [[\"Alice\",\"Bob\",\"Katarína\"]]\n",
      "vek: [[25,30,22]]\n",
      "povolanie: [[\"Inžinier\",\"Doktor\",\"Umelec\"]]\n"
     ],
     "output_type":"stream"
    }
   ],
   "metadata":{
    "datalore":{
     "node_id":"Go4cn1W4BSpOvJIdPZK4vf",
     "type":"CODE",
     "hide_input_from_viewers":true,
     "hide_output_from_viewers":true
    }
   }
  },
  {
   "cell_type":"markdown",
   "source":[
    "# 🔥 PySpark: Práca s distribuovanými dátami"
   ],
   "attachments":{},
   "metadata":{
    "datalore":{
     "node_id":"H6NTYiRAnYfsGkZA9mtMGr",
     "type":"MD",
     "hide_input_from_viewers":true,
     "hide_output_from_viewers":true
    }
   }
  },
  {
   "cell_type":"code",
   "source":[],
   "execution_count":30,
   "outputs":[
    {
     "name":"stdout",
     "text":[
      "+--------+---+\n",
      "|    meno|vek|\n",
      "+--------+---+\n",
      "|   Alice| 25|\n",
      "|     Bob| 30|\n",
      "|Katarína| 22|\n",
      "+--------+---+\n",
      "\n",
      "+----+---+\n",
      "|meno|vek|\n",
      "+----+---+\n",
      "| Bob| 30|\n",
      "+----+---+\n",
      "\n",
      "+--------+---+\n",
      "|    meno|vek|\n",
      "+--------+---+\n",
      "|Katarína| 22|\n",
      "|   Alice| 25|\n",
      "|     Bob| 30|\n",
      "+--------+---+\n",
      "\n"
     ],
     "output_type":"stream"
    }
   ],
   "metadata":{
    "datalore":{
     "node_id":"Zad9yKX9TuNDrxSMn2AyFX",
     "type":"CODE",
     "hide_input_from_viewers":true,
     "hide_output_from_viewers":true
    }
   }
  },
  {
   "cell_type":"markdown",
   "source":[
    "# Testovacie Dáta a Generovanie Dát"
   ],
   "attachments":{},
   "metadata":{
    "datalore":{
     "node_id":"Testovacie Dáta a Generovanie Dát",
     "type":"MD",
     "hide_input_from_viewers":false,
     "hide_output_from_viewers":false,
     "sheet_delimiter":true
    }
   }
  },
  {
   "cell_type":"markdown",
   "source":[
    "# Testovacie Dáta a Generovanie Dát"
   ],
   "attachments":{},
   "metadata":{
    "datalore":{
     "node_id":"HcTDYNQOTjjFJgdsyA5vLI",
     "type":"MD",
     "hide_input_from_viewers":true,
     "hide_output_from_viewers":true
    }
   }
  },
  {
   "cell_type":"code",
   "source":[],
   "execution_count":1,
   "outputs":[],
   "metadata":{
    "datalore":{
     "node_id":"iFZ3t2RO2PxxNPuUGpVNXI",
     "type":"CODE",
     "hide_input_from_viewers":true,
     "hide_output_from_viewers":true
    }
   }
  },
  {
   "cell_type":"code",
   "source":[],
   "execution_count":1,
   "outputs":[],
   "metadata":{
    "datalore":{
     "node_id":"IUSdvy3AyzABVb5YhVEQZ7",
     "type":"CODE",
     "hide_input_from_viewers":true,
     "hide_output_from_viewers":true
    }
   }
  },
  {
   "cell_type":"markdown",
   "source":[
    "# 📚 Knižnica Faker\n",
    "- Populárna knižnica v Pythone, ktorá slúži na generovanie falošných údajov, ako sú mená, adresy, e-maily, telefónne čísla a ďalšie. \n",
    "- Je veľmi užitočná pri testovaní aplikácií, generovaní testovacích dát alebo pri simulácii reálnych používateľov. \n",
    "- Môžete rýchlo a jednoducho vytvárať realisticky vyzerajúce, ale úplne náhodné údaje."
   ],
   "attachments":{},
   "metadata":{
    "datalore":{
     "node_id":"jlFOtTvW4oV7pW67aR0SQe",
     "type":"MD",
     "hide_input_from_viewers":true,
     "hide_output_from_viewers":true
    }
   }
  },
  {
   "cell_type":"code",
   "source":[],
   "execution_count":31,
   "outputs":[
    {
     "name":"stdout",
     "text":[
      "Collecting faker\r\n",
      "  Downloading Faker-30.8.2-py3-none-any.whl.metadata (15 kB)\r\n",
      "Requirement already satisfied: python-dateutil>=2.4 in \/opt\/python\/envs\/default\/lib\/python3.8\/site-packages (from faker) (2.9.0.post0)\r\n",
      "Requirement already satisfied: typing-extensions in \/opt\/python\/envs\/default\/lib\/python3.8\/site-packages (from faker) (4.5.0)\r\n",
      "Requirement already satisfied: six>=1.5 in \/opt\/python\/envs\/default\/lib\/python3.8\/site-packages (from python-dateutil>=2.4->faker) (1.16.0)\r\n",
      "Downloading Faker-30.8.2-py3-none-any.whl (1.8 MB)\r\n",
      "\u001b[?25l   \u001b[90m━━━━━━━━━━━━━━━━━━━━━━━━━━━━━━━━━━━━━━━━\u001b[0m \u001b[32m0.0\/1.8 MB\u001b[0m \u001b[31m?\u001b[0m eta \u001b[36m-:--:--\u001b[0m\r\u001b[2K   \u001b[90m━━━━━━━━━━━━━━━━━━━━━━━━━━━━━━━━━━━━━━━━\u001b[0m \u001b[32m1.8\/1.8 MB\u001b[0m \u001b[31m106.0 MB\/s\u001b[0m eta \u001b[36m0:00:00\u001b[0m\r\n",
      "\u001b[?25hInstalling collected packages: faker\r\n",
      "Successfully installed faker-30.8.2\r\n"
     ],
     "output_type":"stream"
    }
   ],
   "metadata":{
    "datalore":{
     "node_id":"YkTIwPISvzAI8KhHgAYDSC",
     "type":"CODE",
     "hide_input_from_viewers":true,
     "hide_output_from_viewers":true
    }
   }
  },
  {
   "cell_type":"code",
   "source":[],
   "execution_count":34,
   "outputs":[
    {
     "name":"stdout",
     "text":[
      "1. používateľ : Václav Mráz\n",
      "Email: václav.mráz1@gmail.com\n",
      "Adresa: Nová Bellova 3\n",
      "804 04 Licince\n",
      "Telefón: 00421 948 582 742\n",
      "----------------------------------------\n",
      "2. používateľ : Kazimír Klimková\n",
      "Email: kazimír.klimková2@gmail.com\n",
      "Adresa: Malý trh 66\n",
      "828 54 Nevidzany\n",
      "Telefón: 00421 948 545 248\n",
      "----------------------------------------\n",
      "3. používateľ : Lolita Dorová\n",
      "Email: lolita.dorová3@gmail.com\n",
      "Adresa: Špieszova 7\n",
      "960 45 Malé Kršteňany\n",
      "Telefón: 00421 58 612 2829\n",
      "----------------------------------------\n",
      "4. používateľ : Miriama Jendeková\n",
      "Email: miriama.jendeková4@gmail.com\n",
      "Adresa: Údolná 82\n",
      "996 85 Skalka nad Váhom\n",
      "Telefón: +421 949 665 893\n",
      "----------------------------------------\n",
      "5. používateľ : Linda Pavelková\n",
      "Email: linda.pavelková5@gmail.com\n",
      "Adresa: Pasienková 3\n",
      "042 23 Stanča\n",
      "Telefón: 00421 901 245 494\n",
      "----------------------------------------\n"
     ],
     "output_type":"stream"
    }
   ],
   "metadata":{
    "datalore":{
     "node_id":"B67OvR2oyWzIqMQH5N0XJt",
     "type":"CODE",
     "hide_input_from_viewers":true,
     "hide_output_from_viewers":true
    }
   }
  },
  {
   "cell_type":"code",
   "source":[],
   "execution_count":38,
   "outputs":[
    {
     "ename":"TypeError",
     "evalue":"TypeError: generuj_obrazok() takes 0 positional arguments but 2 were given",
     "traceback":[
      "\u001b[0;31m---------------------------------------------------------------------------",
      "Traceback (most recent call last)",
      "    at line 12 in <module>",
      "TypeError: generuj_obrazok() takes 0 positional arguments but 2 were given"
     ],
     "output_type":"error"
    }
   ],
   "metadata":{
    "datalore":{
     "node_id":"vrn96tXTQ6yqoIhkl19ZqK",
     "type":"CODE",
     "hide_input_from_viewers":true,
     "hide_output_from_viewers":true
    }
   }
  },
  {
   "cell_type":"code",
   "source":[],
   "execution_count":39,
   "outputs":[
    {
     "name":"stdout",
     "text":[
      "URL falošného obrázka: https:\/\/picsum.photos\/500\/500?random=808\n"
     ],
     "output_type":"stream"
    }
   ],
   "metadata":{
    "datalore":{
     "node_id":"p4tLTia16lRqDEUC3Bjvq7",
     "type":"CODE",
     "hide_input_from_viewers":true,
     "hide_output_from_viewers":true
    }
   }
  },
  {
   "cell_type":"markdown",
   "source":[
    "# Polars"
   ],
   "attachments":{},
   "metadata":{
    "datalore":{
     "node_id":"Polars",
     "type":"MD",
     "hide_input_from_viewers":false,
     "hide_output_from_viewers":false,
     "sheet_delimiter":true
    }
   }
  },
  {
   "cell_type":"markdown",
   "source":[
    "# Knižnica Polars"
   ],
   "attachments":{},
   "metadata":{
    "datalore":{
     "node_id":"4Qw2whLlL6iUd3CFWAuVbK",
     "type":"MD",
     "hide_input_from_viewers":true,
     "hide_output_from_viewers":true
    }
   }
  },
  {
   "cell_type":"markdown",
   "source":[
    "# Apache Spark"
   ],
   "attachments":{},
   "metadata":{
    "datalore":{
     "node_id":"Apache Spark",
     "type":"MD",
     "hide_input_from_viewers":false,
     "hide_output_from_viewers":false,
     "sheet_delimiter":true
    }
   }
  },
  {
   "cell_type":"markdown",
   "source":[
    "# 📊 Apache Spark?\n",
    "- Najpopulárnejšia Python knižnica na vytváranie dynamických grafov\n",
    "- Tvorba interaktívnych grafov a vizualizácií\n",
    "- Vhodná pre vývojárov, dátových vedcov a analytikov\n",
    "- Stĺpcové grafy, čiarové grafy, teplotné mapy, 3D grafy, geografické mapy \n",
    "- Používatelia môžu klikať, približovať a skúmať údaje priamo v grafickom výstupe"
   ],
   "attachments":{},
   "metadata":{
    "datalore":{
     "node_id":"F5dpb4g06HPUi9VFBfEC7W",
     "type":"MD",
     "hide_input_from_viewers":true,
     "hide_output_from_viewers":true
    }
   }
  },
  {
   "cell_type":"code",
   "source":[],
   "execution_count":2,
   "outputs":[
    {
     "name":"stdout",
     "text":[
      "Requirement already satisfied: pyspark in \/opt\/python\/envs\/default\/lib\/python3.8\/site-packages (3.4.0)\r\n",
      "Requirement already satisfied: py4j==0.10.9.7 in \/opt\/python\/envs\/default\/lib\/python3.8\/site-packages (from pyspark) (0.10.9.7)\r\n",
      "\r\n",
      "\u001b[1m[\u001b[0m\u001b[34;49mnotice\u001b[0m\u001b[1;39;49m]\u001b[0m\u001b[39;49m A new release of pip is available: \u001b[0m\u001b[31;49m23.1.2\u001b[0m\u001b[39;49m -> \u001b[0m\u001b[32;49m24.2\u001b[0m\r\n",
      "\u001b[1m[\u001b[0m\u001b[34;49mnotice\u001b[0m\u001b[1;39;49m]\u001b[0m\u001b[39;49m To update, run: \u001b[0m\u001b[32;49mpip install --upgrade pip\u001b[0m\r\n"
     ],
     "output_type":"stream"
    }
   ],
   "metadata":{
    "datalore":{
     "node_id":"e0fusHyEzbNG0FXGDgQKlw",
     "type":"CODE",
     "hide_input_from_viewers":true,
     "hide_output_from_viewers":true
    }
   }
  },
  {
   "cell_type":"code",
   "source":[],
   "execution_count":3,
   "outputs":[
    {
     "name":"stdout",
     "text":[
      "Verzia pyspark: 3.4.0\n"
     ],
     "output_type":"stream"
    }
   ],
   "metadata":{
    "datalore":{
     "node_id":"kLKLEprsapRJeabYvMFLIt",
     "type":"CODE",
     "hide_input_from_viewers":true,
     "hide_output_from_viewers":true
    }
   }
  },
  {
   "cell_type":"code",
   "source":[],
   "execution_count":4,
   "outputs":[
    {
     "data":{
      "text\/plain":[
       "<module 'pyspark' from '\/opt\/python\/envs\/default\/lib\/python3.8\/site-packages\/pyspark\/__init__.py'>"
      ]
     },
     "metadata":{},
     "output_type":"display_data"
    }
   ],
   "metadata":{
    "datalore":{
     "node_id":"t3fveMI8Une52QzWWSULGS",
     "type":"CODE",
     "hide_input_from_viewers":true,
     "hide_output_from_viewers":true
    }
   }
  },
  {
   "cell_type":"code",
   "source":[],
   "execution_count":7,
   "outputs":[
    {
     "name":"stdout",
     "text":[
      "+-----+---+----------+------+\n",
      "| Meno|Vek|     Mesto|Nakupy|\n",
      "+-----+---+----------+------+\n",
      "|  Ján| 25|Bratislava| 150.5|\n",
      "| Anna| 30|    Košice|200.75|\n",
      "|Peter| 22|    Žilina| 180.0|\n",
      "|  Eva| 35|     Nitra| 220.3|\n",
      "|Marek| 28|    Prešov| 195.9|\n",
      "+-----+---+----------+------+\n",
      "\n"
     ],
     "output_type":"stream"
    }
   ],
   "metadata":{
    "datalore":{
     "node_id":"MXyMo8jpp1UDlvymalrEkn",
     "type":"CODE",
     "hide_input_from_viewers":true,
     "hide_output_from_viewers":true
    }
   }
  },
  {
   "cell_type":"markdown",
   "source":[
    "# 1. Načítanie a spracovanie veľkých dátových súborov\n",
    "Apache Spark je navrhnutý na spracovanie veľkých dátových súborov, ktoré sa nedajú jednoducho načítať do pamäte. Napríklad môžete načítať veľký CSV alebo JSON súbor a vykonávať agregácie, analýzy a transformácie."
   ],
   "attachments":{},
   "metadata":{
    "datalore":{
     "node_id":"6HeEn0AEub17qfYJihHxd6",
     "type":"MD",
     "hide_input_from_viewers":true,
     "hide_output_from_viewers":true
    }
   }
  },
  {
   "cell_type":"code",
   "source":[],
   "execution_count":null,
   "outputs":[],
   "metadata":{
    "datalore":{
     "node_id":"dyeQt2rrdUpiG2GO5rbRI5",
     "type":"CODE",
     "hide_input_from_viewers":true,
     "hide_output_from_viewers":true
    }
   }
  },
  {
   "cell_type":"markdown",
   "source":[
    "# 2. Práca s dátovými rámcami (DataFrames) a SQL dopyty\n",
    "Spark má podporu pre SQL-like dopyty cez Spark SQL. Môžete použiť SQL dopyty na veľké množstvo dát priamo v rámci svojho dátového rámca."
   ],
   "attachments":{},
   "metadata":{
    "datalore":{
     "node_id":"9sAQxlC8HEII3upd4WpAAz",
     "type":"MD",
     "hide_input_from_viewers":true,
     "hide_output_from_viewers":true
    }
   }
  },
  {
   "cell_type":"code",
   "source":[],
   "execution_count":null,
   "outputs":[],
   "metadata":{
    "datalore":{
     "node_id":"wVStSkYnbcMSXUpb3fvefd",
     "type":"CODE",
     "hide_input_from_viewers":true,
     "hide_output_from_viewers":true
    }
   }
  }
 ],
 "metadata":{
  "kernelspec":{
   "display_name":"Python",
   "language":"python",
   "name":"python"
  },
  "datalore":{
   "computation_mode":"JUPYTER",
   "package_manager":"pip",
   "base_environment":"default",
   "packages":[],
   "report_row_ids":[
    "BuaxZHVowM1NDgIm5SGTW6",
    "nT01gqoCPDuxVxR1lZEjaG",
    "HnEJbqSEA5YeuN0S9J1MeG",
    "dt5hnZzXUFlltVlRnzQ6cE",
    "iF77wHN3KjirO3UBNMvq29",
    "fkCSJJhXTqtJ0foV4CZkjt",
    "E9cX2hSUAeBjar0TwM5syB",
    "csTaUBzwY1G6f6IoNz36lu",
    "WBOAojo2SfYR7FtzUsMDna",
    "4Ml2nJBg3YA5b888QcDtvX",
    "OUKhS7mp8fwrY3964Ez5y2",
    "m2yJ0WSWZS9uU0PymTdk79",
    "g0B6TRajuZsVSDETVtF4XR",
    "dLyUYYqxeb0pGMnsTKYOJk",
    "XmrrntkpfqpOEv14b1AWu4",
    "xdvYR1r5V3JHEb1AKLtndL",
    "2Bx7dAyMwfFgln8QkHrpJq",
    "YLZVSgnIbSmavWbowrdS8q",
    "g7KfLAHAMyhSnO4Na3rtV2",
    "xS8HaGjyVIprXoHLzaZeG6",
    "yDnUZRdNbM8mTn9X47mDZP",
    "DDn7df11BmiRIZOvOfmH3x",
    "S0Db82KeEH6AMyZTsAzoNq",
    "OtQfIcnqT3bqgAGqS1GBrC",
    "ODTjgljc4F3gclXmhwTVSu",
    "U8WIV4tF0QEKHBplKZyDbc",
    "9nUi8dnJaJs1hA8dxPH3Hl",
    "PFqY3pQMHxzDThg6JKK739",
    "FMUGO3BhTNVzCt2y6deLRi",
    "RgqbOcIgNklcFGM46c39fN",
    "6V665QJ9YOu9wzx7OCKIhb",
    "myhhnezgQ0zvYlWpblthei",
    "y4aNfeuepxv0VtxamAA5vR",
    "micetiPPogLZ8yu6ioRsxF",
    "jBbIE1LidcCwStSAPH686f",
    "FHLb1t5D4UzHBPFKU8z9be",
    "HILTdb7mG4v80s6SHesxY7",
    "piFepyW9JQBjGesRNWdPHa",
    "X6nqi3oJwt16DJftTl0Z0q",
    "05Cu7Nw9CpGsa9aW93eKFA",
    "CJU41iHhNU085OV3ueY0PG",
    "OOGPy5OMyaVQSFQgwsNSSK",
    "CjgWXCSVrTczqlFotxVOXu",
    "djVznlnjdEwp9DpWqJCd58",
    "XNnoBuYVjp4XptuOzsnllh",
    "SZ4tB7Mrwqg6y4Ep90mk03",
    "SEP0IYSTXURbeKKiUMzukE",
    "mbdbzZklzOhFA9VaNO2LuF",
    "L7c9OdwRdJCrVIJjBI9FTE",
    "rruqSWkjmMnZ2BIvB3MSgX",
    "titqCmfkhMtEm1p8NjaGqC",
    "p9DgjhAmfNTcIvw8PlvEvn",
    "1AGXVeheUwlx0CoYOKaVos",
    "qTSjJR9z2qsSoz8xBd2Ixz",
    "MiCZDHRulYDa8k83MEERnW",
    "q6WzQrLyYicFIz3mhHX9rh",
    "uCjThPLnrYKsUJWnC8Rdbc",
    "0YQg2poAuoghVGOMNpoiNy",
    "G7EWHNHgoSNB0QBANJfxs3",
    "S8iYHru66vQ4dKnsKHWIqm",
    "5kv1w4O5BsIKftFfvTYt9R",
    "QVcZYHEOXcko9BWCtk55bz",
    "aJP3y2yXBzjJFE1t5NJMIN",
    "JW6knZSqV20BbILMOudfR1",
    "PCzzRbx4j9O16J55u6XezX",
    "lIsaieeolgRO4Vobl2iJSN",
    "aTu6IdH6uXEwUIlBHYhTcy"
   ],
   "version":3
  }
 },
 "nbformat":4,
 "nbformat_minor":4
}