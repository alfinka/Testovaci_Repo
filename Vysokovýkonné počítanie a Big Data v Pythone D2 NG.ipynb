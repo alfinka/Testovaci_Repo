{
 "cells":[
  {
   "cell_type":"markdown",
   "source":[
    "# Knižnice HPC"
   ],
   "attachments":{},
   "metadata":{
    "datalore":{
     "node_id":"Knižnice HPC",
     "type":"MD",
     "hide_input_from_viewers":false,
     "hide_output_from_viewers":false,
     "sheet_delimiter":true
    }
   }
  },
  {
   "cell_type":"markdown",
   "source":[
    "## 🐍 Kurz Vysokovýkonné počítanie a veľké dáta v Pythone (HPC)\n",
    "**🧑‍🏫 Lektor:** Miroslav Reiter  \n",
    "**📥 LinkedIn kontakt:** https:\/\/www.linkedin.com\/in\/miroslav-reiter\/  \n",
    "\n",
    "`*Testovaci* **Text**`\n",
    "\n",
    "**✅ Osnova:** https:\/\/itkurzy.sav.sk\/node\/231\n",
    "\n",
    "**🎞️ YouTube videá:** https:\/\/www.youtube.com\/c\/IT-AcademySK  \n",
    "**📇 Zdrojové kódy a materiály:** https:\/\/github.com\/miroslav-reiter\/Kurzy_SAV_Analytika_Python_R  \n",
    "\n",
    "**😊 Emojis:** Win + .  "
   ],
   "attachments":{},
   "metadata":{
    "datalore":{
     "node_id":"gtjaH8gOiCJE2ArnONNN4I",
     "type":"MD",
     "hide_input_from_viewers":false,
     "hide_output_from_viewers":false,
     "report_properties":{
      "rowId":"BuaxZHVowM1NDgIm5SGTW6"
     }
    }
   }
  },
  {
   "cell_type":"markdown",
   "source":[
    "# ⚒️ Používané nástroje HPC\n",
    "- 🐍 **Python**: momentálne najpopulárnejší jazyk pre vedu o údajoch (Data science). Python je síce interpretovaný a pomalší jazyk ako C\/C++, ale využitím knižníc, ako je NumPy (a Pandas navyše), sa môžeme priblížiť rýchlosti C.  \n",
    "  \n",
    "- 🪐 **Jupyter**: nástroj s prostredím interaktívneho notebooku, mocný prieskumný, vizualizačný a komunikačný nástroj.\n",
    "  \n",
    "- 🐼 **Pandas**: nástroj na manipuláciu s tabuľkovými údajmi v Pythone. Je to obrovská knižnica, ale ak poznáte správne metódy, môžeme vytvoriť výkonnú analýzu.\n",
    "\n",
    "- 🦾 **Polars**: rýchla knižnica na spracovanie dát v Pythone, ktorá je alternatívou k Pandas. Polars je optimalizovaná pre výkon, podporuje paralelné spracovanie dát a je schopná spracovať obrovské množstvá dát oveľa rýchlejšie ako Pandas.\n",
    "\n",
    "- 📦 **Parquet**: Parquet je stĺpcový formát na ukladanie dát, ktorý je optimalizovaný pre čítanie a zápis veľkých datasetov. Je bežne používaný v big data aplikáciách a podporuje efektívne kompresie a rýchle vyhľadávanie.\n",
    "\n",
    "- 🔥 **Apache Spark**: open-source distribuovaná výpočtová platforma, ktorá umožňuje paralelné spracovanie veľkých objemov dát. Je široko používaná na analýzu big data, strojové učenie a spracovanie dát v cloude. Spark poskytuje podporu pre spracovanie dát v reálnom čase a je kompatibilný s formátmi ako Parquet a CSV.\n",
    "  \n",
    "- 📊 **NumPy**: pre numerické výpočty v Pythone, ktorá poskytuje efektívnu prácu s viacrozmernými poľami a maticami. Používa sa na rýchle numerické operácie, lineárnu algebru a spracovanie veľkých dát.\n",
    "\n",
    "- 🔬 **SciPy**: postavená na NumPy a pridáva pokročilé matematické funkcie ako numerická integrácia, optimalizácia a štatistika. Je ideálna pre vedecké a inžinierske výpočty.\n",
    "\n",
    "- 🖧 **Dask**: paralelné a distribuované výpočty na veľkých dátach cez viaceré procesy a uzly. Je kompatibilný s Pandas a NumPy, čím zjednodušuje prácu s veľkými datasetmi v distribuovaných prostrediach.\n",
    "\n",
    "- 🤖 **PyTorch**: pre strojové učenie, ktorá podporuje výpočty na GPU. Je obľúbená pre dynamické modelovanie a experimentovanie, hlavne v oblasti počítačového videnia a NLP.\n",
    "\n",
    "- 📈 **TensorFlow**: na vytváranie a nasadzovanie modelov strojového učenia v produkčných prostrediach. Je optimalizovaná na vysoký výkon, distribúciu a spracovanie veľkých dát.\n",
    "\n",
    "- 🔗 **MPI for Python (mpi4py)**: na implementáciu paralelných algoritmov cez MPI (Message Passing Interface), určená pre distribuované a paralelné výpočty v prostrediach ako superpočítače a klastry.\n",
    "\n",
    "- ⚡ **CUDA**: platforma a API od NVIDIA na paralelné výpočty pomocou GPU. PyCUDA umožňuje využívať GPU pre vysokovýkonné výpočty, čo urýchľuje aplikácie ako simulácie, spracovanie obrazu a strojové učenie.\n",
    "\n",
    "😎 Existuje 300 000+ knižníc pre Python.  "
   ],
   "attachments":{},
   "metadata":{
    "datalore":{
     "node_id":"HlJXCNvBPNinkUIhkHUYU9",
     "type":"MD",
     "hide_input_from_viewers":false,
     "hide_output_from_viewers":false,
     "report_properties":{
      "rowId":"nT01gqoCPDuxVxR1lZEjaG"
     }
    }
   }
  },
  {
   "cell_type":"markdown",
   "source":[
    "# 📚 PIP, Knižnice a ich verzie \n",
    "**PIP (package installer for Python)** - Správca Balíčkov pre moduly programovacieho jazyka Python, Tiež napísaný v Pythone, Licencia MIT.  \n",
    "Dokumentácia PIP: https:\/\/pip.pypa.io\/en\/stable\/\n",
    "\n",
    "**PyPI (The Python Package Index)** - Repozitár\/úložisko softvéru pre programovací jazyk Python  \n",
    "https:\/\/pypi.org\n",
    "1"
   ],
   "attachments":{},
   "metadata":{
    "datalore":{
     "node_id":"utjXvhnaVEZx0y9tcUL1AW",
     "type":"MD",
     "hide_input_from_viewers":false,
     "hide_output_from_viewers":false,
     "report_properties":{
      "rowId":"HnEJbqSEA5YeuN0S9J1MeG"
     }
    }
   }
  },
  {
   "cell_type":"code",
   "source":[
    "# !pip list\n",
    "# Inštalácia knižnice NumPy na numerické výpočty\n",
    "!pip install numpy\n",
    "\n",
    "# Inštalácia knižnice SciPy pre pokročilé matematické funkcie\n",
    "!pip install scipy\n",
    "\n",
    "# Inštalácia knižnice Dask pre paralelné a distribuované výpočty\n",
    "# Použitie '[complete]' nainštaluje všetky voliteľné závislosti\n",
    "!pip install dask[complete]\n",
    "\n",
    "# Inštalácia knižnice PyTorch pre strojové učenie\n",
    "!pip install torch\n",
    "\n",
    "# Inštalácia knižnice TensorFlow pre strojové učenie\n",
    "!pip install tensorflow\n",
    "\n",
    "# Inštalácia knižnice Polars pre rýchle spracovanie dát\n",
    "!pip install polars\n",
    "\n",
    "# Inštalácia knižnice Parquet na prácu s Parquet formátom\n",
    "!pip install parquet\n",
    "\n",
    "# Inštalácia knižnice PySpark pre distribuované spracovanie dát v Apache Spark\n",
    "!pip install pyspark\n",
    "\n",
    "# Inštalácia knižnice MPI for Python (mpi4py) na paralelné výpočty cez MPI\n",
    "#!pip install mpi4py\n",
    "\n",
    "# Inštalácia knižnice PyCUDA pre výpočty na GPU pomocou CUDA\n",
    "#!pip install pycuda\n"
   ],
   "execution_count":5,
   "outputs":[
    {
     "name":"stdout",
     "text":[
      "Requirement already satisfied: numpy in \/opt\/python\/envs\/default\/lib\/python3.8\/site-packages (1.24.3)\r\n",
      "Requirement already satisfied: scipy in \/opt\/python\/envs\/default\/lib\/python3.8\/site-packages (1.10.1)\r\n",
      "Requirement already satisfied: numpy<1.27.0,>=1.19.5 in \/opt\/python\/envs\/default\/lib\/python3.8\/site-packages (from scipy) (1.24.3)\r\n",
      "Requirement already satisfied: dask[complete] in \/opt\/python\/envs\/default\/lib\/python3.8\/site-packages (2023.5.0)\r\n",
      "Requirement already satisfied: click>=8.0 in \/opt\/python\/envs\/default\/lib\/python3.8\/site-packages (from dask[complete]) (8.1.7)\r\n",
      "Requirement already satisfied: cloudpickle>=1.5.0 in \/opt\/python\/envs\/default\/lib\/python3.8\/site-packages (from dask[complete]) (3.1.0)\r\n",
      "Requirement already satisfied: fsspec>=2021.09.0 in \/opt\/python\/envs\/default\/lib\/python3.8\/site-packages (from dask[complete]) (2024.10.0)\r\n",
      "Requirement already satisfied: packaging>=20.0 in \/opt\/python\/envs\/default\/lib\/python3.8\/site-packages (from dask[complete]) (24.1)\r\n",
      "Requirement already satisfied: partd>=1.2.0 in \/opt\/python\/envs\/default\/lib\/python3.8\/site-packages (from dask[complete]) (1.4.1)\r\n",
      "Requirement already satisfied: pyyaml>=5.3.1 in \/opt\/python\/envs\/default\/lib\/python3.8\/site-packages (from dask[complete]) (6.0.2)\r\n",
      "Requirement already satisfied: toolz>=0.10.0 in \/opt\/python\/envs\/default\/lib\/python3.8\/site-packages (from dask[complete]) (1.0.0)\r\n",
      "Requirement already satisfied: importlib-metadata>=4.13.0 in \/opt\/python\/envs\/default\/lib\/python3.8\/site-packages (from dask[complete]) (8.5.0)\r\n",
      "Requirement already satisfied: pyarrow>=7.0 in \/opt\/python\/envs\/default\/lib\/python3.8\/site-packages (from dask[complete]) (17.0.0)\r\n",
      "Requirement already satisfied: lz4>=4.3.2 in \/opt\/python\/envs\/default\/lib\/python3.8\/site-packages (from dask[complete]) (4.3.3)\r\n",
      "Requirement already satisfied: zipp>=3.20 in \/opt\/python\/envs\/default\/lib\/python3.8\/site-packages (from importlib-metadata>=4.13.0->dask[complete]) (3.20.2)\r\n",
      "Requirement already satisfied: locket in \/opt\/python\/envs\/default\/lib\/python3.8\/site-packages (from partd>=1.2.0->dask[complete]) (1.0.0)\r\n",
      "Requirement already satisfied: numpy>=1.16.6 in \/opt\/python\/envs\/default\/lib\/python3.8\/site-packages (from pyarrow>=7.0->dask[complete]) (1.24.3)\r\n",
      "Requirement already satisfied: pandas>=1.3 in \/opt\/python\/envs\/default\/lib\/python3.8\/site-packages (from dask[complete]) (1.5.3)\r\n",
      "Requirement already satisfied: bokeh>=2.4.2 in \/opt\/python\/envs\/default\/lib\/python3.8\/site-packages (from dask[complete]) (3.1.1)\r\n",
      "Requirement already satisfied: jinja2>=2.10.3 in \/opt\/python\/envs\/default\/lib\/python3.8\/site-packages (from dask[complete]) (3.1.4)\r\n",
      "Requirement already satisfied: distributed==2023.5.0 in \/opt\/python\/envs\/default\/lib\/python3.8\/site-packages (from dask[complete]) (2023.5.0)\r\n",
      "Requirement already satisfied: msgpack>=1.0.0 in \/opt\/python\/envs\/default\/lib\/python3.8\/site-packages (from distributed==2023.5.0->dask[complete]) (1.1.0)\r\n",
      "Requirement already satisfied: psutil>=5.7.0 in \/opt\/python\/envs\/default\/lib\/python3.8\/site-packages (from distributed==2023.5.0->dask[complete]) (6.1.0)\r\n",
      "Requirement already satisfied: sortedcontainers>=2.0.5 in \/opt\/python\/envs\/default\/lib\/python3.8\/site-packages (from distributed==2023.5.0->dask[complete]) (2.4.0)\r\n",
      "Requirement already satisfied: tblib>=1.6.0 in \/opt\/python\/envs\/default\/lib\/python3.8\/site-packages (from distributed==2023.5.0->dask[complete]) (3.0.0)\r\n",
      "Requirement already satisfied: tornado>=6.0.3 in \/opt\/python\/envs\/default\/lib\/python3.8\/site-packages (from distributed==2023.5.0->dask[complete]) (6.4.1)\r\n",
      "Requirement already satisfied: urllib3>=1.24.3 in \/opt\/python\/envs\/default\/lib\/python3.8\/site-packages (from distributed==2023.5.0->dask[complete]) (1.26.20)\r\n",
      "Requirement already satisfied: zict>=2.2.0 in \/opt\/python\/envs\/default\/lib\/python3.8\/site-packages (from distributed==2023.5.0->dask[complete]) (3.0.0)\r\n",
      "Requirement already satisfied: contourpy>=1 in \/opt\/python\/envs\/default\/lib\/python3.8\/site-packages (from bokeh>=2.4.2->dask[complete]) (1.1.1)\r\n",
      "Requirement already satisfied: pillow>=7.1.0 in \/opt\/python\/envs\/default\/lib\/python3.8\/site-packages (from bokeh>=2.4.2->dask[complete]) (10.4.0)\r\n",
      "Requirement already satisfied: xyzservices>=2021.09.1 in \/opt\/python\/envs\/default\/lib\/python3.8\/site-packages (from bokeh>=2.4.2->dask[complete]) (2024.9.0)\r\n",
      "Requirement already satisfied: MarkupSafe>=2.0 in \/opt\/python\/envs\/default\/lib\/python3.8\/site-packages (from jinja2>=2.10.3->dask[complete]) (2.1.5)\r\n",
      "Requirement already satisfied: python-dateutil>=2.8.1 in \/opt\/python\/envs\/default\/lib\/python3.8\/site-packages (from pandas>=1.3->dask[complete]) (2.9.0.post0)\r\n",
      "Requirement already satisfied: pytz>=2020.1 in \/opt\/python\/envs\/default\/lib\/python3.8\/site-packages (from pandas>=1.3->dask[complete]) (2024.2)\r\n",
      "Requirement already satisfied: six>=1.5 in \/opt\/python\/envs\/default\/lib\/python3.8\/site-packages (from python-dateutil>=2.8.1->pandas>=1.3->dask[complete]) (1.16.0)\r\n",
      "Requirement already satisfied: torch in \/opt\/python\/envs\/default\/lib\/python3.8\/site-packages (2.4.1+cpu)\r\n",
      "Requirement already satisfied: filelock in \/opt\/python\/envs\/default\/lib\/python3.8\/site-packages (from torch) (3.16.1)\r\n",
      "Collecting typing-extensions>=4.8.0 (from torch)\r\n",
      "  Using cached typing_extensions-4.12.2-py3-none-any.whl.metadata (3.0 kB)\r\n",
      "Requirement already satisfied: sympy in \/opt\/python\/envs\/default\/lib\/python3.8\/site-packages (from torch) (1.13.3)\r\n",
      "Requirement already satisfied: networkx in \/opt\/python\/envs\/default\/lib\/python3.8\/site-packages (from torch) (3.1)\r\n",
      "Requirement already satisfied: jinja2 in \/opt\/python\/envs\/default\/lib\/python3.8\/site-packages (from torch) (3.1.4)\r\n",
      "Requirement already satisfied: fsspec in \/opt\/python\/envs\/default\/lib\/python3.8\/site-packages (from torch) (2024.10.0)\r\n",
      "Requirement already satisfied: MarkupSafe>=2.0 in \/opt\/python\/envs\/default\/lib\/python3.8\/site-packages (from jinja2->torch) (2.1.5)\r\n",
      "Requirement already satisfied: mpmath<1.4,>=1.1.0 in \/opt\/python\/envs\/default\/lib\/python3.8\/site-packages (from sympy->torch) (1.3.0)\r\n",
      "Using cached typing_extensions-4.12.2-py3-none-any.whl (37 kB)\r\n",
      "Installing collected packages: typing-extensions\r\n",
      "  Attempting uninstall: typing-extensions\r\n",
      "    Found existing installation: typing_extensions 4.5.0\r\n",
      "    Uninstalling typing_extensions-4.5.0:\r\n",
      "      Successfully uninstalled typing_extensions-4.5.0\r\n",
      "\u001b[31mERROR: pip's dependency resolver does not currently take into account all the packages that are installed. This behaviour is the source of the following dependency conflicts.\r\n",
      "tensorflow 2.13.1 requires typing-extensions<4.6.0,>=3.6.6, but you have typing-extensions 4.12.2 which is incompatible.\r\n",
      "tensorflow-cpu 2.11.1 requires keras<2.12,>=2.11.0, but you have keras 2.13.1 which is incompatible.\r\n",
      "tensorflow-cpu 2.11.1 requires protobuf<3.20,>=3.9.2, but you have protobuf 4.25.5 which is incompatible.\r\n",
      "tensorflow-cpu 2.11.1 requires tensorboard<2.12,>=2.11, but you have tensorboard 2.13.0 which is incompatible.\r\n",
      "tensorflow-cpu 2.11.1 requires tensorflow-estimator<2.12,>=2.11.0, but you have tensorflow-estimator 2.13.0 which is incompatible.\u001b[0m\u001b[31m\r\n",
      "\u001b[0mSuccessfully installed typing-extensions-4.12.2\r\n",
      "Requirement already satisfied: tensorflow in \/opt\/python\/envs\/default\/lib\/python3.8\/site-packages (2.13.1)\r\n",
      "Requirement already satisfied: absl-py>=1.0.0 in \/opt\/python\/envs\/default\/lib\/python3.8\/site-packages (from tensorflow) (2.1.0)\r\n",
      "Requirement already satisfied: astunparse>=1.6.0 in \/opt\/python\/envs\/default\/lib\/python3.8\/site-packages (from tensorflow) (1.6.3)\r\n",
      "Requirement already satisfied: flatbuffers>=23.1.21 in \/opt\/python\/envs\/default\/lib\/python3.8\/site-packages (from tensorflow) (24.3.25)\r\n",
      "Requirement already satisfied: gast<=0.4.0,>=0.2.1 in \/opt\/python\/envs\/default\/lib\/python3.8\/site-packages (from tensorflow) (0.4.0)\r\n",
      "Requirement already satisfied: google-pasta>=0.1.1 in \/opt\/python\/envs\/default\/lib\/python3.8\/site-packages (from tensorflow) (0.2.0)\r\n",
      "Requirement already satisfied: grpcio<2.0,>=1.24.3 in \/opt\/python\/envs\/default\/lib\/python3.8\/site-packages (from tensorflow) (1.67.1)\r\n",
      "Requirement already satisfied: h5py>=2.9.0 in \/opt\/python\/envs\/default\/lib\/python3.8\/site-packages (from tensorflow) (3.11.0)\r\n",
      "Requirement already satisfied: keras<2.14,>=2.13.1 in \/opt\/python\/envs\/default\/lib\/python3.8\/site-packages (from tensorflow) (2.13.1)\r\n",
      "Requirement already satisfied: libclang>=13.0.0 in \/opt\/python\/envs\/default\/lib\/python3.8\/site-packages (from tensorflow) (18.1.1)\r\n",
      "Requirement already satisfied: numpy<=1.24.3,>=1.22 in \/opt\/python\/envs\/default\/lib\/python3.8\/site-packages (from tensorflow) (1.24.3)\r\n",
      "Requirement already satisfied: opt-einsum>=2.3.2 in \/opt\/python\/envs\/default\/lib\/python3.8\/site-packages (from tensorflow) (3.4.0)\r\n",
      "Requirement already satisfied: packaging in \/opt\/python\/envs\/default\/lib\/python3.8\/site-packages (from tensorflow) (24.1)\r\n",
      "Requirement already satisfied: protobuf!=4.21.0,!=4.21.1,!=4.21.2,!=4.21.3,!=4.21.4,!=4.21.5,<5.0.0dev,>=3.20.3 in \/opt\/python\/envs\/default\/lib\/python3.8\/site-packages (from tensorflow) (4.25.5)\r\n",
      "Requirement already satisfied: setuptools in \/opt\/python\/envs\/default\/lib\/python3.8\/site-packages (from tensorflow) (75.3.0)\r\n",
      "Requirement already satisfied: six>=1.12.0 in \/opt\/python\/envs\/default\/lib\/python3.8\/site-packages (from tensorflow) (1.16.0)\r\n",
      "Requirement already satisfied: tensorboard<2.14,>=2.13 in \/opt\/python\/envs\/default\/lib\/python3.8\/site-packages (from tensorflow) (2.13.0)\r\n",
      "Requirement already satisfied: tensorflow-estimator<2.14,>=2.13.0 in \/opt\/python\/envs\/default\/lib\/python3.8\/site-packages (from tensorflow) (2.13.0)\r\n",
      "Requirement already satisfied: termcolor>=1.1.0 in \/opt\/python\/envs\/default\/lib\/python3.8\/site-packages (from tensorflow) (2.4.0)\r\n",
      "Collecting typing-extensions<4.6.0,>=3.6.6 (from tensorflow)\r\n",
      "  Using cached typing_extensions-4.5.0-py3-none-any.whl.metadata (8.5 kB)\r\n",
      "Requirement already satisfied: wrapt>=1.11.0 in \/opt\/python\/envs\/default\/lib\/python3.8\/site-packages (from tensorflow) (1.16.0)\r\n",
      "Requirement already satisfied: tensorflow-io-gcs-filesystem>=0.23.1 in \/opt\/python\/envs\/default\/lib\/python3.8\/site-packages (from tensorflow) (0.34.0)\r\n",
      "Requirement already satisfied: wheel<1.0,>=0.23.0 in \/opt\/python\/envs\/default\/lib\/python3.8\/site-packages (from astunparse>=1.6.0->tensorflow) (0.44.0)\r\n",
      "Requirement already satisfied: google-auth<3,>=1.6.3 in \/opt\/python\/envs\/default\/lib\/python3.8\/site-packages (from tensorboard<2.14,>=2.13->tensorflow) (2.35.0)\r\n",
      "Requirement already satisfied: google-auth-oauthlib<1.1,>=0.5 in \/opt\/python\/envs\/default\/lib\/python3.8\/site-packages (from tensorboard<2.14,>=2.13->tensorflow) (1.0.0)\r\n",
      "Requirement already satisfied: markdown>=2.6.8 in \/opt\/python\/envs\/default\/lib\/python3.8\/site-packages (from tensorboard<2.14,>=2.13->tensorflow) (3.7)\r\n",
      "Requirement already satisfied: requests<3,>=2.21.0 in \/opt\/python\/envs\/default\/lib\/python3.8\/site-packages (from tensorboard<2.14,>=2.13->tensorflow) (2.32.3)\r\n",
      "Requirement already satisfied: tensorboard-data-server<0.8.0,>=0.7.0 in \/opt\/python\/envs\/default\/lib\/python3.8\/site-packages (from tensorboard<2.14,>=2.13->tensorflow) (0.7.2)\r\n",
      "Requirement already satisfied: werkzeug>=1.0.1 in \/opt\/python\/envs\/default\/lib\/python3.8\/site-packages (from tensorboard<2.14,>=2.13->tensorflow) (3.0.6)\r\n",
      "Requirement already satisfied: cachetools<6.0,>=2.0.0 in \/opt\/python\/envs\/default\/lib\/python3.8\/site-packages (from google-auth<3,>=1.6.3->tensorboard<2.14,>=2.13->tensorflow) (5.5.0)\r\n",
      "Requirement already satisfied: pyasn1-modules>=0.2.1 in \/opt\/python\/envs\/default\/lib\/python3.8\/site-packages (from google-auth<3,>=1.6.3->tensorboard<2.14,>=2.13->tensorflow) (0.4.1)\r\n",
      "Requirement already satisfied: rsa<5,>=3.1.4 in \/opt\/python\/envs\/default\/lib\/python3.8\/site-packages (from google-auth<3,>=1.6.3->tensorboard<2.14,>=2.13->tensorflow) (4.9)\r\n",
      "Requirement already satisfied: requests-oauthlib>=0.7.0 in \/opt\/python\/envs\/default\/lib\/python3.8\/site-packages (from google-auth-oauthlib<1.1,>=0.5->tensorboard<2.14,>=2.13->tensorflow) (2.0.0)\r\n",
      "Requirement already satisfied: importlib-metadata>=4.4 in \/opt\/python\/envs\/default\/lib\/python3.8\/site-packages (from markdown>=2.6.8->tensorboard<2.14,>=2.13->tensorflow) (8.5.0)\r\n",
      "Requirement already satisfied: charset-normalizer<4,>=2 in \/opt\/python\/envs\/default\/lib\/python3.8\/site-packages (from requests<3,>=2.21.0->tensorboard<2.14,>=2.13->tensorflow) (3.4.0)\r\n",
      "Requirement already satisfied: idna<4,>=2.5 in \/opt\/python\/envs\/default\/lib\/python3.8\/site-packages (from requests<3,>=2.21.0->tensorboard<2.14,>=2.13->tensorflow) (3.10)\r\n",
      "Requirement already satisfied: urllib3<3,>=1.21.1 in \/opt\/python\/envs\/default\/lib\/python3.8\/site-packages (from requests<3,>=2.21.0->tensorboard<2.14,>=2.13->tensorflow) (1.26.20)\r\n",
      "Requirement already satisfied: certifi>=2017.4.17 in \/opt\/python\/envs\/default\/lib\/python3.8\/site-packages (from requests<3,>=2.21.0->tensorboard<2.14,>=2.13->tensorflow) (2024.8.30)\r\n",
      "Requirement already satisfied: MarkupSafe>=2.1.1 in \/opt\/python\/envs\/default\/lib\/python3.8\/site-packages (from werkzeug>=1.0.1->tensorboard<2.14,>=2.13->tensorflow) (2.1.5)\r\n",
      "Requirement already satisfied: zipp>=3.20 in \/opt\/python\/envs\/default\/lib\/python3.8\/site-packages (from importlib-metadata>=4.4->markdown>=2.6.8->tensorboard<2.14,>=2.13->tensorflow) (3.20.2)\r\n",
      "Requirement already satisfied: pyasn1<0.7.0,>=0.4.6 in \/opt\/python\/envs\/default\/lib\/python3.8\/site-packages (from pyasn1-modules>=0.2.1->google-auth<3,>=1.6.3->tensorboard<2.14,>=2.13->tensorflow) (0.6.1)\r\n",
      "Requirement already satisfied: oauthlib>=3.0.0 in \/opt\/python\/envs\/default\/lib\/python3.8\/site-packages (from requests-oauthlib>=0.7.0->google-auth-oauthlib<1.1,>=0.5->tensorboard<2.14,>=2.13->tensorflow) (3.2.2)\r\n",
      "Using cached typing_extensions-4.5.0-py3-none-any.whl (27 kB)\r\n",
      "Installing collected packages: typing-extensions\r\n",
      "  Attempting uninstall: typing-extensions\r\n",
      "    Found existing installation: typing_extensions 4.12.2\r\n",
      "    Uninstalling typing_extensions-4.12.2:\r\n",
      "      Successfully uninstalled typing_extensions-4.12.2\r\n",
      "\u001b[31mERROR: pip's dependency resolver does not currently take into account all the packages that are installed. This behaviour is the source of the following dependency conflicts.\r\n",
      "sqlalchemy 2.0.36 requires typing-extensions>=4.6.0, but you have typing-extensions 4.5.0 which is incompatible.\r\n",
      "pydantic 2.9.2 requires typing-extensions>=4.6.1; python_version < \"3.13\", but you have typing-extensions 4.5.0 which is incompatible.\r\n",
      "pydantic-core 2.23.4 requires typing-extensions!=4.7.0,>=4.6.0, but you have typing-extensions 4.5.0 which is incompatible.\r\n",
      "tensorflow-cpu 2.11.1 requires keras<2.12,>=2.11.0, but you have keras 2.13.1 which is incompatible.\r\n",
      "tensorflow-cpu 2.11.1 requires protobuf<3.20,>=3.9.2, but you have protobuf 4.25.5 which is incompatible.\r\n",
      "tensorflow-cpu 2.11.1 requires tensorboard<2.12,>=2.11, but you have tensorboard 2.13.0 which is incompatible.\r\n",
      "tensorflow-cpu 2.11.1 requires tensorflow-estimator<2.12,>=2.11.0, but you have tensorflow-estimator 2.13.0 which is incompatible.\r\n",
      "torch 2.4.1+cpu requires typing-extensions>=4.8.0, but you have typing-extensions 4.5.0 which is incompatible.\u001b[0m\u001b[31m\r\n",
      "\u001b[0mSuccessfully installed typing-extensions-4.5.0\r\n",
      "Requirement already satisfied: polars in \/opt\/python\/envs\/default\/lib\/python3.8\/site-packages (1.8.2)\r\n",
      "Requirement already satisfied: parquet in \/opt\/python\/envs\/default\/lib\/python3.8\/site-packages (1.3.1)\r\n",
      "Requirement already satisfied: thriftpy2 in \/opt\/python\/envs\/default\/lib\/python3.8\/site-packages (from parquet) (0.5.2)\r\n",
      "Requirement already satisfied: Cython>=3.0.10 in \/opt\/python\/envs\/default\/lib\/python3.8\/site-packages (from thriftpy2->parquet) (3.0.11)\r\n",
      "Requirement already satisfied: ply<4.0,>=3.4 in \/opt\/python\/envs\/default\/lib\/python3.8\/site-packages (from thriftpy2->parquet) (3.11)\r\n",
      "Requirement already satisfied: six~=1.15 in \/opt\/python\/envs\/default\/lib\/python3.8\/site-packages (from thriftpy2->parquet) (1.16.0)\r\n",
      "Requirement already satisfied: pyspark in \/opt\/python\/envs\/default\/lib\/python3.8\/site-packages (3.5.3)\r\n",
      "Requirement already satisfied: py4j==0.10.9.7 in \/opt\/python\/envs\/default\/lib\/python3.8\/site-packages (from pyspark) (0.10.9.7)\r\n"
     ],
     "output_type":"stream"
    }
   ],
   "metadata":{
    "datalore":{
     "node_id":"9qcpLqqMxlDm2F9q53LHot",
     "type":"CODE",
     "hide_input_from_viewers":false,
     "hide_output_from_viewers":false,
     "report_properties":{
      "rowId":"dt5hnZzXUFlltVlRnzQ6cE"
     }
    }
   }
  },
  {
   "cell_type":"code",
   "source":[
    "!pip list"
   ],
   "execution_count":3,
   "outputs":[
    {
     "name":"stdout",
     "text":[
      "Package                       Version\r\n",
      "----------------------------- ----------------\r\n",
      "absl-py                       2.0.0\r\n",
      "aiohttp                       3.8.4\r\n",
      "aiosignal                     1.3.1\r\n",
      "alabaster                     0.7.13\r\n",
      "annotated-types               0.6.0\r\n",
      "anyio                         3.7.1\r\n",
      "argon2-cffi                   23.1.0\r\n",
      "argon2-cffi-bindings          21.2.0\r\n",
      "astunparse                    1.6.3\r\n",
      "async-timeout                 4.0.3\r\n",
      "attrs                         23.1.0\r\n",
      "Babel                         2.13.0\r\n",
      "backcall                      0.2.0\r\n",
      "beautifulsoup4                4.12.2\r\n",
      "bleach                        6.1.0\r\n",
      "blis                          0.7.11\r\n",
      "bokeh                         3.1.1\r\n",
      "boto3                         1.26.133\r\n",
      "botocore                      1.29.165\r\n",
      "cachetools                    5.3.1\r\n",
      "catalogue                     2.0.10\r\n",
      "certifi                       2023.7.22\r\n",
      "cffi                          1.16.0\r\n",
      "charset-normalizer            3.3.0\r\n",
      "click                         8.1.7\r\n",
      "click-plugins                 1.1.1\r\n",
      "cligj                         0.7.2\r\n",
      "cloudpathlib                  0.15.1\r\n",
      "cmake                         3.27.6\r\n",
      "confection                    0.1.3\r\n",
      "contourpy                     1.1.1\r\n",
      "countryinfo                   0.1.2\r\n",
      "cycler                        0.12.1\r\n",
      "cymem                         2.0.8\r\n",
      "decorator                     5.1.1\r\n",
      "defusedxml                    0.7.1\r\n",
      "descartes                     1.1.0\r\n",
      "docutils                      0.20.1\r\n",
      "duckdb                        0.7.1\r\n",
      "exceptiongroup                1.1.3\r\n",
      "fastai                        2.7.12\r\n",
      "fastcore                      1.5.29\r\n",
      "fastdownload                  0.0.7\r\n",
      "fastjsonschema                2.18.1\r\n",
      "fastprogress                  1.0.3\r\n",
      "filelock                      3.12.4\r\n",
      "Fiona                         1.9.3\r\n",
      "flatbuffers                   23.5.26\r\n",
      "fonttools                     4.43.1\r\n",
      "frozenlist                    1.4.0\r\n",
      "fsspec                        2023.9.2\r\n",
      "gast                          0.4.0\r\n",
      "gensim                        4.3.1\r\n",
      "geopandas                     0.13.0\r\n",
      "google-auth                   2.23.3\r\n",
      "google-auth-oauthlib          0.4.6\r\n",
      "google-pasta                  0.2.0\r\n",
      "greenlet                      3.0.0\r\n",
      "grpcio                        1.59.0\r\n",
      "h5py                          3.10.0\r\n",
      "huggingface-hub               0.18.0\r\n",
      "idna                          3.4\r\n",
      "imageio                       2.31.5\r\n",
      "imagesize                     1.4.1\r\n",
      "importlib-metadata            6.8.0\r\n",
      "importlib-resources           6.1.0\r\n",
      "ipykernel                     5.5.3\r\n",
      "ipython                       7.31.1\r\n",
      "ipython-genutils              0.2.0\r\n",
      "ipywidgets                    7.6.5\r\n",
      "jedi                          0.17.2\r\n",
      "Jinja2                        3.1.2\r\n",
      "jmespath                      1.0.1\r\n",
      "joblib                        1.3.2\r\n",
      "jsonschema                    4.19.1\r\n",
      "jsonschema-specifications     2023.7.1\r\n",
      "jupyter-client                6.1.12\r\n",
      "jupyter_core                  5.4.0\r\n",
      "jupyter-server                1.24.0\r\n",
      "jupyterlab-pygments           0.2.2\r\n",
      "jupyterlab-widgets            3.0.9\r\n",
      "keras                         2.10.0\r\n",
      "Keras-Preprocessing           1.1.2\r\n",
      "kiwisolver                    1.4.5\r\n",
      "kotlin-jupyter-kernel         0.11.0.377\r\n",
      "langcodes                     3.3.0\r\n",
      "lazy_loader                   0.3\r\n",
      "lets-plot                     4.0.1\r\n",
      "libclang                      16.0.6\r\n",
      "lit                           17.0.2\r\n",
      "lxml                          4.9.2\r\n",
      "Markdown                      3.5\r\n",
      "MarkupSafe                    2.1.3\r\n",
      "matplotlib                    3.7.1\r\n",
      "matplotlib-inline             0.1.6\r\n",
      "mistune                       3.0.2\r\n",
      "mpmath                        1.3.0\r\n",
      "multidict                     6.0.4\r\n",
      "munch                         4.0.0\r\n",
      "murmurhash                    1.0.10\r\n",
      "nbclassic                     1.0.0\r\n",
      "nbclient                      0.8.0\r\n",
      "nbconvert                     7.9.2\r\n",
      "nbformat                      5.8.0\r\n",
      "nest-asyncio                  1.5.8\r\n",
      "networkx                      3.1\r\n",
      "notebook                      6.5.6\r\n",
      "notebook_shim                 0.2.3\r\n",
      "numpy                         1.24.3\r\n",
      "numpydoc                      1.5.0\r\n",
      "oauthlib                      3.2.2\r\n",
      "opencv-python-headless        4.7.0.72\r\n",
      "opt-einsum                    3.3.0\r\n",
      "packaging                     23.2\r\n",
      "palettable                    3.3.3\r\n",
      "pandas                        1.5.3\r\n",
      "pandas-datareader             0.10.0\r\n",
      "pandocfilters                 1.5.0\r\n",
      "parso                         0.7.1\r\n",
      "pathy                         0.10.2\r\n",
      "patsy                         0.5.3\r\n",
      "pexpect                       4.8.0\r\n",
      "pickleshare                   0.7.5\r\n",
      "Pillow                        10.0.1\r\n",
      "pip                           23.1.2\r\n",
      "pkgutil_resolve_name          1.3.10\r\n",
      "platformdirs                  3.11.0\r\n",
      "plotly                        5.14.1\r\n",
      "preshed                       3.0.9\r\n",
      "prometheus-client             0.17.1\r\n",
      "prompt-toolkit                3.0.39\r\n",
      "protobuf                      3.19.6\r\n",
      "psycopg2-binary               2.9.6\r\n",
      "ptyprocess                    0.7.0\r\n",
      "py4j                          0.10.9.7\r\n",
      "pyasn1                        0.5.0\r\n",
      "pyasn1-modules                0.3.0\r\n",
      "pycparser                     2.21\r\n",
      "pydantic                      2.4.2\r\n",
      "pydantic_core                 2.10.1\r\n",
      "Pygments                      2.16.1\r\n",
      "PyMySQL                       1.0.3\r\n",
      "pyparsing                     3.1.1\r\n",
      "pypng                         0.20220715.0\r\n",
      "pyproj                        3.5.0\r\n",
      "pyspark                       3.4.0\r\n",
      "python-dateutil               2.8.2\r\n",
      "pytz                          2023.3.post1\r\n",
      "PyWavelets                    1.4.1\r\n",
      "PyYAML                        6.0.1\r\n",
      "pyzmq                         24.0.1\r\n",
      "referencing                   0.30.2\r\n",
      "regex                         2023.10.3\r\n",
      "requests                      2.30.0\r\n",
      "requests-oauthlib             1.3.1\r\n",
      "rpds-py                       0.10.6\r\n",
      "rsa                           4.9\r\n",
      "s3transfer                    0.6.2\r\n",
      "scikit-image                  0.20.0\r\n",
      "scikit-learn                  1.2.2\r\n",
      "scipy                         1.9.1\r\n",
      "seaborn                       0.12.2\r\n",
      "Send2Trash                    1.8.2\r\n",
      "setuptools                    68.2.2\r\n",
      "shapely                       2.0.1\r\n",
      "six                           1.16.0\r\n",
      "smart-open                    6.4.0\r\n",
      "sniffio                       1.3.0\r\n",
      "snowballstemmer               2.2.0\r\n",
      "soupsieve                     2.5\r\n",
      "spacy                         3.7.1\r\n",
      "spacy-legacy                  3.0.12\r\n",
      "spacy-loggers                 1.0.5\r\n",
      "Sphinx                        7.1.2\r\n",
      "sphinxcontrib-applehelp       1.0.4\r\n",
      "sphinxcontrib-devhelp         1.0.2\r\n",
      "sphinxcontrib-htmlhelp        2.0.1\r\n",
      "sphinxcontrib-jsmath          1.0.1\r\n",
      "sphinxcontrib-qthelp          1.0.3\r\n",
      "sphinxcontrib-serializinghtml 1.1.5\r\n",
      "SQLAlchemy                    2.0.13\r\n",
      "srsly                         2.4.8\r\n",
      "statsmodels                   0.14.0\r\n",
      "sympy                         1.12\r\n",
      "tenacity                      8.2.3\r\n",
      "tensorboard                   2.10.1\r\n",
      "tensorboard-data-server       0.6.1\r\n",
      "tensorboard-plugin-wit        1.8.1\r\n",
      "tensorflow-cpu                2.10.1\r\n",
      "tensorflow-estimator          2.10.0\r\n",
      "tensorflow-io-gcs-filesystem  0.34.0\r\n",
      "termcolor                     2.3.0\r\n",
      "terminado                     0.17.1\r\n",
      "thinc                         8.2.1\r\n",
      "threadpoolctl                 3.2.0\r\n",
      "tifffile                      2023.7.10\r\n",
      "tinycss2                      1.2.1\r\n",
      "tokenizers                    0.13.3\r\n",
      "torch                         2.0.1+cu117\r\n",
      "torchvision                   0.15.2+rocm5.4.2\r\n",
      "tornado                       6.3.3\r\n",
      "tqdm                          4.66.1\r\n",
      "traitlets                     5.11.2\r\n",
      "transformers                  4.29.1\r\n",
      "triton                        2.0.0\r\n",
      "typer                         0.9.0\r\n",
      "typing_extensions             4.8.0\r\n",
      "urllib3                       1.26.17\r\n",
      "wasabi                        1.1.2\r\n",
      "wcwidth                       0.2.8\r\n",
      "weasel                        0.3.2\r\n",
      "webencodings                  0.5.1\r\n",
      "websocket-client              1.6.4\r\n",
      "Werkzeug                      3.0.0\r\n",
      "wheel                         0.41.2\r\n",
      "widgetsnbextension            3.5.2\r\n",
      "wrapt                         1.15.0\r\n",
      "xgboost                       1.7.5\r\n",
      "xlrd                          2.0.1\r\n",
      "xyzservices                   2023.10.0\r\n",
      "yarl                          1.9.2\r\n",
      "zipp                          3.17.0\r\n",
      "\r\n",
      "\u001b[1m[\u001b[0m\u001b[34;49mnotice\u001b[0m\u001b[1;39;49m]\u001b[0m\u001b[39;49m A new release of pip is available: \u001b[0m\u001b[31;49m23.1.2\u001b[0m\u001b[39;49m -> \u001b[0m\u001b[32;49m23.3.1\u001b[0m\r\n",
      "\u001b[1m[\u001b[0m\u001b[34;49mnotice\u001b[0m\u001b[1;39;49m]\u001b[0m\u001b[39;49m To update, run: \u001b[0m\u001b[32;49mpip install --upgrade pip\u001b[0m\r\n"
     ],
     "output_type":"stream"
    }
   ],
   "metadata":{
    "datalore":{
     "node_id":"Qf2fGBT29Tp85ig2h3H6be",
     "type":"CODE",
     "hide_input_from_viewers":false,
     "hide_output_from_viewers":false,
     "report_properties":{
      "rowId":"iF77wHN3KjirO3UBNMvq29"
     }
    }
   }
  },
  {
   "cell_type":"markdown",
   "source":[
    "# 📜 Verzie vizualizačných knižnic \n",
    "try - except - finally  \n",
    "\n",
    "https:\/\/docs.python.org\/3\/tutorial\/errors.html "
   ],
   "attachments":{},
   "metadata":{
    "datalore":{
     "node_id":"O6f5kWGeujRXtOQVWAlLTl",
     "type":"MD",
     "hide_input_from_viewers":false,
     "hide_output_from_viewers":false,
     "report_properties":{
      "rowId":"E9cX2hSUAeBjar0TwM5syB"
     }
    }
   }
  },
  {
   "cell_type":"code",
   "source":[
    "import pandas as pd\n",
    "import numpy as np\n",
    "import scipy\n",
    "import dask\n",
    "import torch\n",
    "import tensorflow as tf\n",
    "import polars as pl\n",
    "import parquet\n",
    "import pyarrow  # Na prácu s Parquet\n",
    "import pyspark\n",
    "import importlib.metadata\n",
    "#import mpi4py\n",
    "#import pycuda\n",
    "\n",
    "print(\"✅ Moduly\/kniznice boli nacitane\")\n",
    "# Zobrazenie verzií knižníc\n",
    "print(\"Pandas verzia:\", pd.__version__)\n",
    "print(\"NumPy verzia:\", np.__version__)\n",
    "print(\"SciPy verzia:\", scipy.__version__)\n",
    "print(\"Dask verzia:\", dask.__version__)\n",
    "print(\"PyTorch verzia:\", torch.__version__)\n",
    "print(\"TensorFlow verzia:\", tf.__version__)\n",
    "print(\"Polars verzia:\", pl.__version__)\n",
    "\n",
    "# Tu používame pyarrow pre Parquet\n",
    "print(\"PyArrow verzia (Parquet):\", pyarrow.__version__)  \n",
    "\n",
    "# Ak by bol nainštalovaný `pyarrow` pre Parquet\n",
    "print(\"Parquet verzia:\", importlib.metadata.version('parquet'))  \n",
    "print(\"PySpark verzia:\", pyspark.__version__)\n",
    "# print(\"mpi4py verzia:\", mpi4py.__version__)\n",
    "# print(\"PyCUDA verzia:\", pycuda.__version__)"
   ],
   "execution_count":12,
   "outputs":[
    {
     "name":"stdout",
     "text":[
      "✅ Moduly\/kniznice boli nacitane\n",
      "Pandas verzia: 1.5.3\n",
      "NumPy verzia: 1.24.3\n",
      "SciPy verzia: 1.10.1\n",
      "Dask verzia: 2023.5.0\n",
      "PyTorch verzia: 2.4.1+cpu\n",
      "TensorFlow verzia: 2.13.1\n",
      "Polars verzia: 1.8.2\n",
      "PyArrow verzia (Parquet): 17.0.0\n",
      "Parquet verzia: 1.3.1\n",
      "PySpark verzia: 3.5.3\n"
     ],
     "output_type":"stream"
    }
   ],
   "metadata":{
    "datalore":{
     "node_id":"V0v8HOOhd9hhVxJnX8q4eL",
     "type":"CODE",
     "hide_input_from_viewers":true,
     "hide_output_from_viewers":true
    }
   }
  },
  {
   "cell_type":"code",
   "source":[
    "try:\n",
    "    import pandas as pd\n",
    "    import numpy as np\n",
    "    import scipy\n",
    "    import dask\n",
    "    import torch\n",
    "    import tensorflow as tf\n",
    "    import polars as pl\n",
    "    import parquet\n",
    "    import pyarrow  # Na prácu s Parquet\n",
    "    import pyspark\n",
    "    import importlib.metadata\n",
    "\n",
    "    print(\"TRY:\")\n",
    "    print(\"✅ Moduly\/kniznice boli nacitane\")\n",
    "    # Zobrazenie verzií knižníc\n",
    "    print(\"Pandas verzia:\", pd.__version__)\n",
    "    print(\"NumPy verzia:\", np.__version__)\n",
    "    print(\"SciPy verzia:\", scipy.__version__)\n",
    "    print(\"Dask verzia:\", dask.__version__)\n",
    "    print(\"PyTorch verzia:\", torch.__version__)\n",
    "    print(\"TensorFlow verzia:\", tf.__version__)\n",
    "    print(\"Polars verzia:\", pl.__version__)\n",
    "\n",
    "    # Tu používame pyarrow pre Parquet\n",
    "    print(\"PyArrow verzia (Parquet):\", pyarrow.__version__)  \n",
    "\n",
    "    # Ak by bol nainštalovaný `pyarrow` pre Parquet\n",
    "    print(\"Parquet verzia:\", importlib.metadata.version('parquet'))  \n",
    "    print(\"PySpark verzia:\", pyspark.__version__)\n",
    "\n",
    "except:\n",
    "    print(\"EXCEPT: Moduly\/Kniznice neboli nacitane, nastala chyba...\")\n",
    "\n",
    "finally:\n",
    "    print(\"\\nFINALLY: Tento text sa vypise vzdy\")"
   ],
   "execution_count":13,
   "outputs":[
    {
     "name":"stdout",
     "text":[
      "TRY:\n",
      "✅ Moduly\/kniznice boli nacitane\n",
      "Pandas verzia: 1.5.3\n",
      "NumPy verzia: 1.24.3\n",
      "SciPy verzia: 1.10.1\n",
      "Dask verzia: 2023.5.0\n",
      "PyTorch verzia: 2.4.1+cpu\n",
      "TensorFlow verzia: 2.13.1\n",
      "Polars verzia: 1.8.2\n",
      "PyArrow verzia (Parquet): 17.0.0\n",
      "Parquet verzia: 1.3.1\n",
      "PySpark verzia: 3.5.3\n",
      "\n",
      "FINALLY: Tento text sa vypise vzdy\n"
     ],
     "output_type":"stream"
    }
   ],
   "metadata":{
    "datalore":{
     "node_id":"xxC61eI2Oqyzy8GmzzwrET",
     "type":"CODE",
     "hide_input_from_viewers":false,
     "hide_output_from_viewers":false,
     "report_properties":{
      "rowId":"csTaUBzwY1G6f6IoNz36lu"
     }
    }
   }
  },
  {
   "cell_type":"markdown",
   "source":[
    "# 🤖 TensorFlow: Základný model neurónovej siete"
   ],
   "attachments":{},
   "metadata":{
    "datalore":{
     "node_id":"9nZeU67HPQXJSgN5qZb7h6",
     "type":"MD",
     "hide_input_from_viewers":true,
     "hide_output_from_viewers":true
    }
   }
  },
  {
   "cell_type":"code",
   "source":[
    "import tensorflow as tf\n",
    "from tensorflow.keras.models import Sequential\n",
    "from tensorflow.keras.layers import Dense\n",
    "\n",
    "# Vytvorenie jednoduchého modelu neurónovej siete\n",
    "model = Sequential([\n",
    "    Dense(32, activation='relu', input_shape=(784,)),\n",
    "    Dense(10, activation='softmax')\n",
    "])\n",
    "\n",
    "# Kompilácia modelu\n",
    "model.compile(optimizer='adam', loss='sparse_categorical_crossentropy', metrics=['accuracy'])\n",
    "\n",
    "# Vytvorenie náhodných údajov pre tréning\n",
    "import numpy as np\n",
    "X_train = np.random.random((1000, 784))  # 1000 vzorov, každý s 784 znakmi\n",
    "y_train = np.random.randint(10, size=(1000,))  # 1000 štítkov (0 až 9)\n",
    "\n",
    "# Tréning modelu\n",
    "model.fit(X_train, y_train, epochs=5)\n",
    "\n",
    "# Výpis schémy modelu\n",
    "model.summary()"
   ],
   "execution_count":18,
   "outputs":[
    {
     "name":"stdout",
     "text":[
      "Epoch 1\/5\n",
      "\r 1\/32 [..............................] - ETA: 6s - loss: 2.3785 - accuracy: 0.0312\b\b\b\b\b\b\b\b\b\b\b\b\b\b\b\b\b\b\b\b\b\b\b\b\b\b\b\b\b\b\b\b\b\b\b\b\b\b\b\b\b\b\b\b\b\b\b\b\b\b\b\b\b\b\b\b\b\b\b\b\b\b\b\b\b\b\b\b\b\b\b\b\b\b\b\b\b\b\b\b\b\b\r32\/32 [==============================] - 0s 801us\/step - loss: 2.3529 - accuracy: 0.1130\n",
      "Epoch 2\/5\n",
      "\r 1\/32 [..............................] - ETA: 0s - loss: 2.4422 - accuracy: 0.1250\b\b\b\b\b\b\b\b\b\b\b\b\b\b\b\b\b\b\b\b\b\b\b\b\b\b\b\b\b\b\b\b\b\b\b\b\b\b\b\b\b\b\b\b\b\b\b\b\b\b\b\b\b\b\b\b\b\b\b\b\b\b\b\b\b\b\b\b\b\b\b\b\b\b\b\b\b\b\b\b\b\b\r32\/32 [==============================] - 0s 742us\/step - loss: 2.3017 - accuracy: 0.1080\n",
      "Epoch 3\/5\n",
      "\r 1\/32 [..............................] - ETA: 0s - loss: 2.2404 - accuracy: 0.1562\b\b\b\b\b\b\b\b\b\b\b\b\b\b\b\b\b\b\b\b\b\b\b\b\b\b\b\b\b\b\b\b\b\b\b\b\b\b\b\b\b\b\b\b\b\b\b\b\b\b\b\b\b\b\b\b\b\b\b\b\b\b\b\b\b\b\b\b\b\b\b\b\b\b\b\b\b\b\b\b\b\b\r32\/32 [==============================] - 0s 737us\/step - loss: 2.2857 - accuracy: 0.1260\n",
      "Epoch 4\/5\n",
      "\r 1\/32 [..............................] - ETA: 0s - loss: 2.2873 - accuracy: 0.1875\b\b\b\b\b\b\b\b\b\b\b\b\b\b\b\b\b\b\b\b\b\b\b\b\b\b\b\b\b\b\b\b\b\b\b\b\b\b\b\b\b\b\b\b\b\b\b\b\b\b\b\b\b\b\b\b\b\b\b\b\b\b\b\b\b\b\b\b\b\b\b\b\b\b\b\b\b\b\b\b\b\b\r32\/32 [==============================] - 0s 696us\/step - loss: 2.2760 - accuracy: 0.1440\n",
      "Epoch 5\/5\n",
      "\r 1\/32 [..............................] - ETA: 0s - loss: 2.2802 - accuracy: 0.0938\b\b\b\b\b\b\b\b\b\b\b\b\b\b\b\b\b\b\b\b\b\b\b\b\b\b\b\b\b\b\b\b\b\b\b\b\b\b\b\b\b\b\b\b\b\b\b\b\b\b\b\b\b\b\b\b\b\b\b\b\b\b\b\b\b\b\b\b\b\b\b\b\b\b\b\b\b\b\b\b\b\b\r32\/32 [==============================] - 0s 682us\/step - loss: 2.2666 - accuracy: 0.1410\n",
      "Model: \"sequential_1\"\n",
      "_________________________________________________________________\n",
      " Layer (type)                Output Shape              Param #   \n",
      "=================================================================\n",
      " dense_2 (Dense)             (None, 32)                25120     \n",
      "                                                                 \n",
      " dense_3 (Dense)             (None, 10)                330       \n",
      "                                                                 \n",
      "=================================================================\n",
      "Total params: 25450 (99.41 KB)\n",
      "Trainable params: 25450 (99.41 KB)\n",
      "Non-trainable params: 0 (0.00 Byte)\n",
      "_________________________________________________________________\n"
     ],
     "output_type":"stream"
    }
   ],
   "metadata":{
    "datalore":{
     "node_id":"pJKsT83yGfF6ZUc2u9NzI6",
     "type":"CODE",
     "hide_input_from_viewers":false,
     "hide_output_from_viewers":false,
     "report_properties":{
      "rowId":"WBOAojo2SfYR7FtzUsMDna"
     }
    }
   }
  },
  {
   "cell_type":"markdown",
   "source":[
    "# ⚡ Polars: Rýchle spracovanie dátových rámcov"
   ],
   "attachments":{},
   "metadata":{
    "datalore":{
     "node_id":"tsdIQ9XGjereK4lpOTMNED",
     "type":"MD",
     "hide_input_from_viewers":true,
     "hide_output_from_viewers":true
    }
   }
  },
  {
   "cell_type":"code",
   "source":[
    "import polars as pl\n",
    "\n",
    "# Vytvorenie dátového rámca (DataFrame)\n",
    "df = pl.DataFrame({\n",
    "    \"A\": [1, 2, 3, 4],\n",
    "    \"B\": [5, 6, 7, 8]\n",
    "})\n",
    "\n",
    "# Zobrazenie dátového rámca\n",
    "print(df)\n",
    "\n",
    "# Filtrácia dát\n",
    "filterovaný_df = df.filter(pl.col(\"A\") > 2)\n",
    "print(filterovaný_df)\n",
    "\n",
    "# Pridanie novej kolónky stlpca\n",
    "df = df.with_columns((pl.col(\"A\") * 2).alias(\"C\"))\n",
    "print(df)"
   ],
   "execution_count":24,
   "outputs":[
    {
     "name":"stdout",
     "text":[
      "shape: (4, 2)\n",
      "┌─────┬─────┐\n",
      "│ A   ┆ B   │\n",
      "│ --- ┆ --- │\n",
      "│ i64 ┆ i64 │\n",
      "╞═════╪═════╡\n",
      "│ 1   ┆ 5   │\n",
      "│ 2   ┆ 6   │\n",
      "│ 3   ┆ 7   │\n",
      "│ 4   ┆ 8   │\n",
      "└─────┴─────┘\n",
      "shape: (2, 2)\n",
      "┌─────┬─────┐\n",
      "│ A   ┆ B   │\n",
      "│ --- ┆ --- │\n",
      "│ i64 ┆ i64 │\n",
      "╞═════╪═════╡\n",
      "│ 3   ┆ 7   │\n",
      "│ 4   ┆ 8   │\n",
      "└─────┴─────┘\n",
      "shape: (4, 3)\n",
      "┌─────┬─────┬─────┐\n",
      "│ A   ┆ B   ┆ C   │\n",
      "│ --- ┆ --- ┆ --- │\n",
      "│ i64 ┆ i64 ┆ i64 │\n",
      "╞═════╪═════╪═════╡\n",
      "│ 1   ┆ 5   ┆ 2   │\n",
      "│ 2   ┆ 6   ┆ 4   │\n",
      "│ 3   ┆ 7   ┆ 6   │\n",
      "│ 4   ┆ 8   ┆ 8   │\n",
      "└─────┴─────┴─────┘\n"
     ],
     "output_type":"stream"
    }
   ],
   "metadata":{
    "datalore":{
     "node_id":"lxu23ZZDtd75p5JMDyXnt8",
     "type":"CODE",
     "hide_input_from_viewers":true,
     "hide_output_from_viewers":true
    }
   }
  },
  {
   "cell_type":"markdown",
   "source":[
    "# 📦 PyArrow: Práca s Parquet formátom"
   ],
   "attachments":{},
   "metadata":{
    "datalore":{
     "node_id":"B6sjX6sDMFTUWo9sNL2dyT",
     "type":"MD",
     "hide_input_from_viewers":true,
     "hide_output_from_viewers":true
    }
   }
  },
  {
   "cell_type":"code",
   "source":[
    "import pyarrow as pa\n",
    "import pyarrow.parquet as pq\n",
    "\n",
    "# Vytvorenie dátového rámca (DataFrame) na ukladanie do Parquet\n",
    "údaje = [\n",
    "    (\"Alice\", 25, \"Inžinier\"),\n",
    "    (\"Bob\", 30, \"Doktor\"),\n",
    "    (\"Katarína\", 22, \"Umelec\")\n",
    "]\n",
    "\n",
    "# Vytvorenie schema a tabuľky Arrow\n",
    "schema = pa.schema([\n",
    "    ('meno', pa.string()),\n",
    "    ('vek', pa.int32()),\n",
    "    ('povolanie', pa.string())\n",
    "])\n",
    "\n",
    "tabuľka = pa.Table.from_pandas(pd.DataFrame(údaje, columns=['meno', 'vek', 'povolanie']), schema=schema)\n",
    "\n",
    "# Uloženie do Parquet súboru\n",
    "pq.write_table(tabuľka, 'príklad.parquet')\n",
    "\n",
    "# Načítanie Parquet súboru\n",
    "načítaná_tabulka = pq.read_table('príklad.parquet')\n",
    "print(načítaná_tabulka)"
   ],
   "execution_count":29,
   "outputs":[
    {
     "name":"stdout",
     "text":[
      "pyarrow.Table\n",
      "meno: string\n",
      "vek: int32\n",
      "povolanie: string\n",
      "----\n",
      "meno: [[\"Alice\",\"Bob\",\"Katarína\"]]\n",
      "vek: [[25,30,22]]\n",
      "povolanie: [[\"Inžinier\",\"Doktor\",\"Umelec\"]]\n"
     ],
     "output_type":"stream"
    }
   ],
   "metadata":{
    "datalore":{
     "node_id":"Go4cn1W4BSpOvJIdPZK4vf",
     "type":"CODE",
     "hide_input_from_viewers":true,
     "hide_output_from_viewers":true
    }
   }
  },
  {
   "cell_type":"markdown",
   "source":[
    "# 🔥 PySpark: Práca s distribuovanými dátami"
   ],
   "attachments":{},
   "metadata":{
    "datalore":{
     "node_id":"H6NTYiRAnYfsGkZA9mtMGr",
     "type":"MD",
     "hide_input_from_viewers":true,
     "hide_output_from_viewers":true
    }
   }
  },
  {
   "cell_type":"code",
   "source":[
    "from pyspark.sql import SparkSession\n",
    "\n",
    "# Inicializácia Spark session\n",
    "spark = SparkSession.builder.appName(\"PríkladPySpark\").getOrCreate()\n",
    "\n",
    "# Vytvorenie DataFrame\n",
    "údaje = [(\"Alice\", 25), (\"Bob\", 30), (\"Katarína\", 22)]\n",
    "df = spark.createDataFrame(údaje, [\"meno\", \"vek\"])\n",
    "\n",
    "# Zobrazenie dát\n",
    "df.show()\n",
    "\n",
    "# Filtrácia dát\n",
    "filterovaný_df = df.filter(df[\"vek\"] > 25)\n",
    "filterovaný_df.show()\n",
    "\n",
    "# Uloženie do Parquet formátu\n",
    "df.write.parquet(\"príklad_spark.parquet\")\n",
    "\n",
    "# Načítanie Parquet súboru\n",
    "df_z_parquet = spark.read.parquet(\"príklad_spark.parquet\")\n",
    "df_z_parquet.show()"
   ],
   "execution_count":30,
   "outputs":[
    {
     "name":"stdout",
     "text":[
      "+--------+---+\n",
      "|    meno|vek|\n",
      "+--------+---+\n",
      "|   Alice| 25|\n",
      "|     Bob| 30|\n",
      "|Katarína| 22|\n",
      "+--------+---+\n",
      "\n",
      "+----+---+\n",
      "|meno|vek|\n",
      "+----+---+\n",
      "| Bob| 30|\n",
      "+----+---+\n",
      "\n",
      "+--------+---+\n",
      "|    meno|vek|\n",
      "+--------+---+\n",
      "|Katarína| 22|\n",
      "|   Alice| 25|\n",
      "|     Bob| 30|\n",
      "+--------+---+\n",
      "\n"
     ],
     "output_type":"stream"
    }
   ],
   "metadata":{
    "datalore":{
     "node_id":"Zad9yKX9TuNDrxSMn2AyFX",
     "type":"CODE",
     "hide_input_from_viewers":true,
     "hide_output_from_viewers":true
    }
   }
  },
  {
   "cell_type":"markdown",
   "source":[
    "# Testovacie Dáta a Generovanie Dát"
   ],
   "attachments":{},
   "metadata":{
    "datalore":{
     "node_id":"Testovacie Dáta a Generovanie Dát",
     "type":"MD",
     "hide_input_from_viewers":false,
     "hide_output_from_viewers":false,
     "sheet_delimiter":true
    }
   }
  },
  {
   "cell_type":"code",
   "source":[
    "import pandas as pd\n",
    "import numpy as np\n",
    "\n",
    "# Vytvorenie datasetu s 10 miliónmi riadkov\n",
    "zaznamy = 1_000_000_000\n",
    "\n",
    "# Generovanie dát\n",
    "data_klienti = {\n",
    "    \"Meno\": np.random.choice([\n",
    "    \"Adriana\", \"Alena\", \"Andrea\", \"Anna\", \"Barbora\", \"Beáta\", \"Daniela\", \"Dominika\", \"Elena\", \"Emília\", \"Erika\", \"Eva\", \"Gabriela\", \"Hana\", \"Ivana\", \"Jana\", \"Katarína\", \"Kristína\", \n",
    "    \"Laura\", \"Lenka\", \"Lucia\", \"Magdaléna\", \"Mária\", \"Martina\", \"Monika\", \"Natália\", \"Petra\", \"Renáta\", \"Silvia\", \"Simona\", \"Soňa\", \"Tamara\", \"Veronika\", \"Zuzana\"], size = zaznamy),\n",
    "    \"Vek\": np.random.randint(18, 70, size = zaznamy),\n",
    "    \"Mesto\": np.random.choice([\n",
    "    \"Bratislava\", \"Košice\", \"Prešov\", \"Žilina\", \"Nitra\", \n",
    "    \"Banská Bystrica\", \"Trnava\", \"Martin\", \"Trenčín\", \"Poprad\"\n",
    "], size = zaznamy),\n",
    "    \"Nakupy\": np.round(np.random.uniform(150.0, 1000.0, size = zaznamy), 2)\n",
    "}\n",
    "\n",
    "# Vytvorenie DataFrame\n",
    "df_data_klienti = pd.DataFrame(data_klienti)\n",
    "\n",
    "# Uloženie do CSV súboru\n",
    "df_data_klienti.to_csv(\"dataset-1000M-klienti-SK.csv\", index=False)"
   ],
   "execution_count":1,
   "outputs":[],
   "metadata":{
    "datalore":{
     "node_id":"iFZ3t2RO2PxxNPuUGpVNXI",
     "type":"CODE",
     "hide_input_from_viewers":true,
     "hide_output_from_viewers":true
    }
   }
  },
  {
   "cell_type":"code",
   "source":[
    "import pandas as pd\n",
    "import numpy as np\n",
    "\n",
    "# Počet záznamov\n",
    "zaznamy = 1_000_000_000\n",
    "# Veľkosť jednej časti\n",
    "velkost_casti = 10_000_000\n",
    "\n",
    "# Cesta k súboru\n",
    "csv_soubor = \"dataset-1000M-klienti-SK.csv\"\n",
    "\n",
    "# Nastavíme, aby sa súbor prepisoval od začiatku, keďže budeme zapisovať po častiach\n",
    "with open(csv_soubor, mode=\"a\") as f:\n",
    "    # Vytvorenie dát a zápis po častiach\n",
    "    for i in range(zaznamy \/\/ velkost_casti):\n",
    "        data_klienti = {\n",
    "            \"Meno\": np.random.choice([\n",
    "                \"Adriana\", \"Alena\", \"Andrea\", \"Anna\", \"Barbora\", \"Beáta\", \"Daniela\", \"Dominika\", \n",
    "                \"Elena\", \"Emília\", \"Erika\", \"Eva\", \"Gabriela\", \"Hana\", \"Ivana\", \"Jana\", \"Katarína\", \n",
    "                \"Kristína\", \"Laura\", \"Lenka\", \"Lucia\", \"Magdaléna\", \"Mária\", \"Martina\", \"Monika\", \n",
    "                \"Natália\", \"Petra\", \"Renáta\", \"Silvia\", \"Simona\", \"Soňa\", \"Tamara\", \"Veronika\", \"Zuzana\"], \n",
    "                size=velkost_casti\n",
    "            ),\n",
    "            \"Vek\": np.random.randint(18, 70, size=velkost_casti),\n",
    "            \"Mesto\": np.random.choice([\n",
    "                \"Bratislava\", \"Košice\", \"Prešov\", \"Žilina\", \"Nitra\", \n",
    "                \"Banská Bystrica\", \"Trnava\", \"Martin\", \"Trenčín\", \"Poprad\"\n",
    "            ], size=velkost_casti),\n",
    "            \"Nakupy\": np.round(np.random.uniform(150.0, 1000.0, size=velkost_casti), 2)\n",
    "        }\n",
    "        \n",
    "        # Vytvorenie DataFrame pre aktuálnu časť\n",
    "        df_data_klienti = pd.DataFrame(data_klienti)\n",
    "        \n",
    "        # Prvýkrát zapisujeme hlavičku, ostatné časti už nie\n",
    "        df_data_klienti.to_csv(csv_soubor, mode=\"a\", header=(i == 0), index=False)"
   ],
   "execution_count":1,
   "outputs":[],
   "metadata":{
    "datalore":{
     "node_id":"IUSdvy3AyzABVb5YhVEQZ7",
     "type":"CODE",
     "hide_input_from_viewers":true,
     "hide_output_from_viewers":true
    }
   }
  },
  {
   "cell_type":"markdown",
   "source":[
    "# 📚 Knižnica Faker\n",
    "- Populárna knižnica v Pythone, ktorá slúži na generovanie falošných údajov, ako sú mená, adresy, e-maily, telefónne čísla a ďalšie. \n",
    "- Je veľmi užitočná pri testovaní aplikácií, generovaní testovacích dát alebo pri simulácii reálnych používateľov. \n",
    "- Môžete rýchlo a jednoducho vytvárať realisticky vyzerajúce, ale úplne náhodné údaje."
   ],
   "attachments":{},
   "metadata":{
    "datalore":{
     "node_id":"jlFOtTvW4oV7pW67aR0SQe",
     "type":"MD",
     "hide_input_from_viewers":true,
     "hide_output_from_viewers":true
    }
   }
  },
  {
   "cell_type":"code",
   "source":[
    "!pip install faker"
   ],
   "execution_count":2,
   "outputs":[
    {
     "name":"stdout",
     "text":[
      "Collecting faker\r\n",
      "  Downloading Faker-32.1.0-py3-none-any.whl.metadata (15 kB)\r\n",
      "Requirement already satisfied: python-dateutil>=2.4 in \/opt\/python\/envs\/default\/lib\/python3.8\/site-packages (from faker) (2.9.0.post0)\r\n",
      "Requirement already satisfied: typing-extensions in \/opt\/python\/envs\/default\/lib\/python3.8\/site-packages (from faker) (4.12.2)\r\n",
      "Requirement already satisfied: six>=1.5 in \/opt\/python\/envs\/default\/lib\/python3.8\/site-packages (from python-dateutil>=2.4->faker) (1.16.0)\r\n",
      "Downloading Faker-32.1.0-py3-none-any.whl (1.9 MB)\r\n",
      "\u001b[?25l   \u001b[90m━━━━━━━━━━━━━━━━━━━━━━━━━━━━━━━━━━━━━━━━\u001b[0m \u001b[32m0.0\/1.9 MB\u001b[0m \u001b[31m?\u001b[0m eta \u001b[36m-:--:--\u001b[0m\r\u001b[2K   \u001b[90m━━━━━━━━━━━━━━━━━━━━━━━━━━━━━━━━━━━━━━━━\u001b[0m \u001b[32m1.9\/1.9 MB\u001b[0m \u001b[31m58.4 MB\/s\u001b[0m eta \u001b[36m0:00:00\u001b[0m\r\n",
      "\u001b[?25hInstalling collected packages: faker\r\n",
      "Successfully installed faker-32.1.0\r\n"
     ],
     "output_type":"stream"
    }
   ],
   "metadata":{
    "datalore":{
     "node_id":"YkTIwPISvzAI8KhHgAYDSC",
     "type":"CODE",
     "hide_input_from_viewers":true,
     "hide_output_from_viewers":true
    }
   }
  },
  {
   "cell_type":"code",
   "source":[
    "\n",
    "from faker import Faker\n",
    "\n",
    "# Vytvorenie inštancie triedy Faker\n",
    "faker = Faker(\"sk_SK\")  # Nastavenie slovenského jazyka\n",
    "\n",
    "# Funkcia na generovanie falošných osobných údajov s číslovaním používateľov\n",
    "def generuj_pouzivatelske_udaje(pocet):\n",
    "    pouzivatelia = []\n",
    "    for i in range(1, pocet + 1):\n",
    "        meno = faker.first_name()  # Falošné meno\n",
    "        priezvisko = faker.last_name()  # Falošné priezvisko\n",
    "        # E-mail s doménou gmail.com\n",
    "        email = f\"{meno.lower()}.{priezvisko.lower()}{i}@gmail.com\"\n",
    "        adresa = faker.address()  # Falošná adresa\n",
    "        telefon = faker.phone_number()  # Falošné telefónne číslo\n",
    "        pouzivatel = {\n",
    "            \"cislo\": i,  # Číslovanie používateľov\n",
    "            \"meno\": meno,\n",
    "            \"priezvisko\": priezvisko,\n",
    "            \"email\": email,\n",
    "            \"adresa\": adresa,\n",
    "            \"telefon\": telefon\n",
    "        }\n",
    "        pouzivatelia.append(pouzivatel)\n",
    "    return pouzivatelia\n",
    "\n",
    "# Vygenerovanie 5 falošných používateľov\n",
    "pouzivatelia = generuj_pouzivatelske_udaje(5)\n",
    "\n",
    "# Vytlačenie vygenerovaných údajov\n",
    "for pouzivatel in pouzivatelia:\n",
    "    print(f\"{pouzivatel['cislo']}. používateľ : {pouzivatel['meno']} {pouzivatel['priezvisko']}\")\n",
    "    print(f\"Email: {pouzivatel['email']}\")\n",
    "    print(f\"Adresa: {pouzivatel['adresa']}\")\n",
    "    print(f\"Telefón: {pouzivatel['telefon']}\")\n",
    "    print(\"-\" * 40)"
   ],
   "execution_count":1,
   "outputs":[
    {
     "ename":"ModuleNotFoundError",
     "evalue":"ModuleNotFoundError: No module named 'faker'",
     "traceback":[
      "\u001b[0;31m---------------------------------------------------------------------------",
      "Traceback (most recent call last)",
      "    at line 1 in <module>",
      "ModuleNotFoundError: No module named 'faker'"
     ],
     "output_type":"error"
    }
   ],
   "metadata":{
    "datalore":{
     "node_id":"B67OvR2oyWzIqMQH5N0XJt",
     "type":"CODE",
     "hide_input_from_viewers":true,
     "hide_output_from_viewers":true
    }
   }
  },
  {
   "cell_type":"code",
   "source":[
    "from faker import Faker\n",
    "\n",
    "# Vytvorenie inštancie triedy Faker\n",
    "faker = Faker()\n",
    "\n",
    "# Generovanie falošného obrázka pomocou Lorem Picsum\n",
    "def generuj_obrazok():\n",
    "    obrazok_url = f\"https:\/\/picsum.photos\/100\/100?random={faker.random_int(min=1, max=1000)}\"  # URL pre náhodný obrázok\n",
    "    return obrazok_url\n",
    "\n",
    "# Vygenerovanie obrázka\n",
    "obrazok = generuj_obrazok()\n",
    "\n",
    "# Výstup URL generovaného obrázka\n",
    "print(f\"URL falošného obrázka: {obrazok}\")"
   ],
   "execution_count":38,
   "outputs":[
    {
     "ename":"TypeError",
     "evalue":"TypeError: generuj_obrazok() takes 0 positional arguments but 2 were given",
     "traceback":[
      "\u001b[0;31m---------------------------------------------------------------------------",
      "Traceback (most recent call last)",
      "    at line 12 in <module>",
      "TypeError: generuj_obrazok() takes 0 positional arguments but 2 were given"
     ],
     "output_type":"error"
    }
   ],
   "metadata":{
    "datalore":{
     "node_id":"vrn96tXTQ6yqoIhkl19ZqK",
     "type":"CODE",
     "hide_input_from_viewers":true,
     "hide_output_from_viewers":true
    }
   }
  },
  {
   "cell_type":"code",
   "source":[
    "from faker import Faker\n",
    "\n",
    "# Vytvorenie inštancie triedy Faker\n",
    "faker = Faker()\n",
    "\n",
    "# Generovanie falošného obrázka pomocou Lorem Picsum s väčšími rozmermi\n",
    "def generuj_obrazok(sirka, vyska):\n",
    "    obrazok_url = f\"https:\/\/picsum.photos\/{sirka}\/{vyska}?random={faker.random_int(min=1, max=1000)}\"  # URL pre náhodný obrázok\n",
    "    return obrazok_url\n",
    "\n",
    "# Vygenerovanie obrázka s rozmermi 500x500\n",
    "obrazok = generuj_obrazok(500, 500)\n",
    "\n",
    "# Výstup URL generovaného obrázka\n",
    "print(f\"URL falošného obrázka: {obrazok}\")"
   ],
   "execution_count":39,
   "outputs":[
    {
     "name":"stdout",
     "text":[
      "URL falošného obrázka: https:\/\/picsum.photos\/500\/500?random=808\n"
     ],
     "output_type":"stream"
    }
   ],
   "metadata":{
    "datalore":{
     "node_id":"p4tLTia16lRqDEUC3Bjvq7",
     "type":"CODE",
     "hide_input_from_viewers":true,
     "hide_output_from_viewers":true
    }
   }
  },
  {
   "cell_type":"code",
   "source":[],
   "execution_count":null,
   "outputs":[],
   "metadata":{
    "datalore":{
     "node_id":"fUTuCO0ZPFlBGPalW0UCs6",
     "type":"CODE",
     "hide_input_from_viewers":true,
     "hide_output_from_viewers":true
    }
   }
  },
  {
   "cell_type":"markdown",
   "source":[
    "# Faker"
   ],
   "attachments":{},
   "metadata":{
    "datalore":{
     "node_id":"Faker",
     "type":"MD",
     "hide_input_from_viewers":false,
     "hide_output_from_viewers":false,
     "sheet_delimiter":true
    }
   }
  },
  {
   "cell_type":"code",
   "source":[
    "#!pip install pyarrow\n",
    "#!pip install openpyxl\n",
    "\n",
    "from faker import Faker\n",
    "import pandas as pd\n",
    "import pyarrow as pa\n",
    "import pyarrow.parquet as pq\n",
    "import openpyxl\n",
    "\n",
    "# Vytvorenie inštancie triedy Faker\n",
    "faker = Faker(\"sk_SK\")  # Nastavenie slovenského jazyka\n",
    "\n",
    "# Funkcia na generovanie falošných osobných údajov s číslovaním používateľov\n",
    "def generuj_pouzivatelske_udaje(pocet):\n",
    "    pouzivatelia = []\n",
    "    for i in range(1, pocet + 1):\n",
    "        meno = faker.first_name()  # Falošné meno\n",
    "        priezvisko = faker.last_name()  # Falošné priezvisko\n",
    "        # E-mail s doménou gmail.com\n",
    "        email = f\"{meno.lower()}.{priezvisko.lower()}{i}@gmail.com\"\n",
    "        adresa = faker.address()  # Falošná adresa\n",
    "        telefon = faker.phone_number()  # Falošné telefónne číslo\n",
    "        pouzivatel = {\n",
    "            \"cislo\": i,  # Číslovanie používateľov\n",
    "            \"meno\": meno,\n",
    "            \"priezvisko\": priezvisko,\n",
    "            \"email\": email,\n",
    "            \"adresa\": adresa,\n",
    "            \"telefon\": telefon\n",
    "        }\n",
    "        pouzivatelia.append(pouzivatel)\n",
    "    return pouzivatelia\n",
    "\n",
    "# Vygenerovanie 5 falošných používateľov\n",
    "pouzivatelia = generuj_pouzivatelske_udaje(500_000)\n",
    "\n",
    "# Vytvorenie DataFrame z dát\n",
    "df = pd.DataFrame(pouzivatelia)\n",
    "\n",
    "# Uloženie do CSV súboru\n",
    "df.to_csv(\"export-pouzivatelia.csv\", index=False, encoding='utf-8')\n",
    "print(\"✅ Data sa uložili do CSV\")\n",
    "\n",
    "# Uloženie do Parquet súboru\n",
    "table = pa.Table.from_pandas(df)\n",
    "pq.write_table(table, 'export-pouzivatelia.parquet')\n",
    "print(\"✅ Data sa uložili do parquet\")\n",
    "\n",
    "# Uloženie do XLSX súboru\n",
    "df.to_excel(\"export-pouzivatelia.xlsx\", index=False, engine='openpyxl')\n",
    "print(\"✅ Data sa uložili do XLSX\")\n",
    "\n",
    "# Vytlačenie vygenerovaných údajov\n",
    "# for pouzivatel in pouzivatelia:\n",
    "#     print(f\"{pouzivatel['cislo']}. používateľ : {pouzivatel['meno']} {pouzivatel['priezvisko']}\")\n",
    "#     print(f\"Email: {pouzivatel['email']}\")\n",
    "#     print(f\"Adresa: {pouzivatel['adresa']}\")\n",
    "#     print(f\"Telefón: {pouzivatel['telefon']}\")\n",
    "#     print(\"-\" * 40)"
   ],
   "execution_count":17,
   "outputs":[
    {
     "name":"stdout",
     "text":[
      "✅ Data sa uložili do CSV\n",
      "✅ Data sa uložili do parquet\n",
      "✅ Data sa uložili do XLSX\n"
     ],
     "output_type":"stream"
    }
   ],
   "metadata":{
    "datalore":{
     "node_id":"WxXK6XQ4eI86VyKf576BvL",
     "type":"CODE",
     "hide_input_from_viewers":true,
     "hide_output_from_viewers":true
    }
   }
  },
  {
   "cell_type":"markdown",
   "source":[
    "# Polars"
   ],
   "attachments":{},
   "metadata":{
    "datalore":{
     "node_id":"Polars",
     "type":"MD",
     "hide_input_from_viewers":false,
     "hide_output_from_viewers":false,
     "sheet_delimiter":true
    }
   }
  },
  {
   "cell_type":"markdown",
   "source":[
    "# 🐻‍❄️ Polars \n",
    "- Knižnica pre spracovanie a analýzu dát v Pythone\n",
    "- Zameraná na vysokú rýchlosť a efektívnosť, najmä pri práci s veľkými dátovými súbormi \n",
    "- Navrhnuté ako alternatíva k populárnej knižnici Pandas\n",
    "- Dôraz na optimalizáciu výkonu a využitie moderných technológií ako je paralelné spracovanie a využívanie viacerých jadier CPU\n",
    "\n",
    "\n",
    "## Typické použitie Polars\n",
    "📊 Analytické nástroje  \n",
    "🤖 Strojové učenie  \n",
    "🖥️ Spracovanie logov  \n",
    "💵 Finančná analýza  \n",
    "🌐 Práca s dátami IoT  \n",
    "💳 Analýza transakcií  \n",
    "🌍 Geo dáta a mapy  \n",
    "🧬 Bioinformatika\n",
    "🏥 Zdravotníctvo a med. analýza \n",
    "🚚 Logistika a optimalizácia trás  \n",
    "🛒 E-commerce a analýza zákaz.  \n",
    "🔍 Výskum a akademická analýza  \n",
    "📡 Sieťová analytika a security  \n",
    "🏡 Smart Cities a mestské dáta  \n",
    "🌱 Agrikultúra a poľnohospod. dáta "
   ],
   "attachments":{},
   "metadata":{
    "datalore":{
     "node_id":"pcqOX7nlz6JMTSHKeEBX0m",
     "type":"MD",
     "hide_input_from_viewers":true,
     "hide_output_from_viewers":true
    }
   }
  },
  {
   "cell_type":"code",
   "source":[],
   "execution_count":2,
   "outputs":[
    {
     "name":"stdout",
     "text":[
      "Requirement already satisfied: polars in \/opt\/python\/envs\/default\/lib\/python3.8\/site-packages (1.8.2)\r\n"
     ],
     "output_type":"stream"
    }
   ],
   "metadata":{
    "datalore":{
     "node_id":"pv2fQL248iAIQkrMRpLW6M",
     "type":"CODE",
     "hide_input_from_viewers":true,
     "hide_output_from_viewers":true
    }
   }
  },
  {
   "cell_type":"markdown",
   "source":[
    "# 🎓 Základný dataset online kurzy"
   ],
   "attachments":{},
   "metadata":{
    "datalore":{
     "node_id":"Fyyrb6y9r7vhOczDmJkTVA",
     "type":"MD",
     "hide_input_from_viewers":true,
     "hide_output_from_viewers":true
    }
   }
  },
  {
   "cell_type":"code",
   "source":[],
   "execution_count":null,
   "outputs":[],
   "metadata":{
    "datalore":{
     "node_id":"j2mbDJ1bhsGvBnMFvZGDMO",
     "type":"CODE",
     "hide_input_from_viewers":true,
     "hide_output_from_viewers":true
    }
   }
  },
  {
   "cell_type":"markdown",
   "source":[
    "# 💻 Filtrovanie kurzov podľa ceny"
   ],
   "attachments":{},
   "metadata":{
    "datalore":{
     "node_id":"4CIrP2jbbR54OA4TLTdaFF",
     "type":"MD",
     "hide_input_from_viewers":true,
     "hide_output_from_viewers":true
    }
   }
  },
  {
   "cell_type":"code",
   "source":[],
   "execution_count":19,
   "outputs":[
    {
     "name":"stdout",
     "text":[
      "shape: (19, 5)\n",
      "┌──────────────────────┬──────┬─────────────────┬─────────────┬─────────┐\n",
      "│ nazov_kurzu          ┆ cena ┆ kategoria       ┆ dlzka_kurzu ┆ novinka │\n",
      "│ ---                  ┆ ---  ┆ ---             ┆ ---         ┆ ---     │\n",
      "│ str                  ┆ i64  ┆ str             ┆ i64         ┆ bool    │\n",
      "╞══════════════════════╪══════╪═════════════════╪═════════════╪═════════╡\n",
      "│ Dátová Analýza       ┆ 180  ┆ Dátová Analýza  ┆ 20          ┆ false   │\n",
      "│ HTML, CSS Web Vývoj  ┆ 200  ┆ Web Development ┆ 30          ┆ false   │\n",
      "│ Pokročilý Python     ┆ 220  ┆ Python          ┆ 15          ┆ true    │\n",
      "│ Strojové Učenie      ┆ 250  ┆ AI              ┆ 25          ┆ true    │\n",
      "│ AI Základy           ┆ 270  ┆ AI              ┆ 18          ┆ true    │\n",
      "│ …                    ┆ …    ┆ …               ┆ …           ┆ …       │\n",
      "│ Správa Serverov      ┆ 250  ┆ DevOps          ┆ 25          ┆ true    │\n",
      "│ Hacking a Bezpečnosť ┆ 200  ┆ Bezpečnosť      ┆ 21          ┆ false   │\n",
      "│ Deep Learning        ┆ 240  ┆ AI              ┆ 20          ┆ true    │\n",
      "│ Testovanie Softvéru  ┆ 270  ┆ Testovanie      ┆ 18          ┆ true    │\n",
      "│ DevOps               ┆ 290  ┆ DevOps          ┆ 26          ┆ true    │\n",
      "└──────────────────────┴──────┴─────────────────┴─────────────┴─────────┘\n"
     ],
     "output_type":"stream"
    }
   ],
   "metadata":{
    "datalore":{
     "node_id":"MoiqzqriXRrlYrgsD8DtMy",
     "type":"CODE",
     "hide_input_from_viewers":true,
     "hide_output_from_viewers":true
    }
   }
  },
  {
   "cell_type":"markdown",
   "source":[
    "# 💡 Filtrovanie kurzov podľa dĺžky kurzu (väčšie ako 20 hodín)"
   ],
   "attachments":{},
   "metadata":{
    "datalore":{
     "node_id":"5gU9YXFIePu8OW1rDsf4nw",
     "type":"MD",
     "hide_input_from_viewers":true,
     "hide_output_from_viewers":true
    }
   }
  },
  {
   "cell_type":"code",
   "source":[],
   "execution_count":20,
   "outputs":[
    {
     "name":"stdout",
     "text":[
      "shape: (12, 5)\n",
      "┌──────────────────────┬──────┬─────────────────┬─────────────┬─────────┐\n",
      "│ nazov_kurzu          ┆ cena ┆ kategoria       ┆ dlzka_kurzu ┆ novinka │\n",
      "│ ---                  ┆ ---  ┆ ---             ┆ ---         ┆ ---     │\n",
      "│ str                  ┆ i64  ┆ str             ┆ i64         ┆ bool    │\n",
      "╞══════════════════════╪══════╪═════════════════╪═════════════╪═════════╡\n",
      "│ HTML, CSS Web Vývoj  ┆ 200  ┆ Web Development ┆ 30          ┆ false   │\n",
      "│ Strojové Učenie      ┆ 250  ┆ AI              ┆ 25          ┆ true    │\n",
      "│ Microsoft Excel      ┆ 190  ┆ Microsoft Excel ┆ 22          ┆ false   │\n",
      "│ Java Základy         ┆ 160  ┆ Java            ┆ 28          ┆ false   │\n",
      "│ C# Programovanie     ┆ 300  ┆ C#              ┆ 24          ┆ true    │\n",
      "│ …                    ┆ …    ┆ …               ┆ …           ┆ …       │\n",
      "│ Dátová Vizuálizácia  ┆ 270  ┆ Dátová Analýza  ┆ 23          ┆ true    │\n",
      "│ UX\/UI Design         ┆ 180  ┆ UX\/UI Dizajn    ┆ 30          ┆ false   │\n",
      "│ Správa Serverov      ┆ 250  ┆ DevOps          ┆ 25          ┆ true    │\n",
      "│ Hacking a Bezpečnosť ┆ 200  ┆ Bezpečnosť      ┆ 21          ┆ false   │\n",
      "│ DevOps               ┆ 290  ┆ DevOps          ┆ 26          ┆ true    │\n",
      "└──────────────────────┴──────┴─────────────────┴─────────────┴─────────┘\n"
     ],
     "output_type":"stream"
    }
   ],
   "metadata":{
    "datalore":{
     "node_id":"kcXtTvkDxWwA1OtPUFed1s",
     "type":"CODE",
     "hide_input_from_viewers":true,
     "hide_output_from_viewers":true
    }
   }
  },
  {
   "cell_type":"markdown",
   "source":[
    "# 🔎 Filtrácia a zistenie najdlhšieho kurzu"
   ],
   "attachments":{},
   "metadata":{
    "datalore":{
     "node_id":"sCLtnOQX2LstXXlQVpV06h",
     "type":"MD",
     "hide_input_from_viewers":true,
     "hide_output_from_viewers":true
    }
   }
  },
  {
   "cell_type":"code",
   "source":[],
   "execution_count":16,
   "outputs":[
    {
     "name":"stdout",
     "text":[
      "shape: (1, 4)\n",
      "┌─────────────────────┬──────┬─────────────────┬─────────────┐\n",
      "│ nazov_kurzu         ┆ cena ┆ kategoria       ┆ dlzka_kurzu │\n",
      "│ ---                 ┆ ---  ┆ ---             ┆ ---         │\n",
      "│ str                 ┆ i64  ┆ str             ┆ i64         │\n",
      "╞═════════════════════╪══════╪═════════════════╪═════════════╡\n",
      "│ HTML, CSS Web Vývoj ┆ 200  ┆ Web Development ┆ 30          │\n",
      "└─────────────────────┴──────┴─────────────────┴─────────────┘\n"
     ],
     "output_type":"stream"
    }
   ],
   "metadata":{
    "datalore":{
     "node_id":"5oGEYxMugbmPotpsmVqzZR",
     "type":"CODE",
     "hide_input_from_viewers":true,
     "hide_output_from_viewers":true
    }
   }
  },
  {
   "cell_type":"markdown",
   "source":[
    "# 🐍 Filtrovanie kurzov, ktoré sú v kategórii \"Python\" a majú cenu nad 200 €"
   ],
   "attachments":{},
   "metadata":{
    "datalore":{
     "node_id":"jwP7dDN9kUx7P45XPDM0rh",
     "type":"MD",
     "hide_input_from_viewers":true,
     "hide_output_from_viewers":true
    }
   }
  },
  {
   "cell_type":"code",
   "source":[],
   "execution_count":22,
   "outputs":[
    {
     "name":"stdout",
     "text":[
      "shape: (1, 5)\n",
      "┌──────────────────┬──────┬───────────┬─────────────┬─────────┐\n",
      "│ nazov_kurzu      ┆ cena ┆ kategoria ┆ dlzka_kurzu ┆ novinka │\n",
      "│ ---              ┆ ---  ┆ ---       ┆ ---         ┆ ---     │\n",
      "│ str              ┆ i64  ┆ str       ┆ i64         ┆ bool    │\n",
      "╞══════════════════╪══════╪═══════════╪═════════════╪═════════╡\n",
      "│ Pokročilý Python ┆ 220  ┆ Python    ┆ 15          ┆ true    │\n",
      "└──────────────────┴──────┴───────────┴─────────────┴─────────┘\n"
     ],
     "output_type":"stream"
    }
   ],
   "metadata":{
    "datalore":{
     "node_id":"NPfULmqqD53VIDbyeVLu05",
     "type":"CODE",
     "hide_input_from_viewers":true,
     "hide_output_from_viewers":true
    }
   }
  },
  {
   "cell_type":"markdown",
   "source":[
    "# 📊 Agregácia ceny podľa kategórie kurzu"
   ],
   "attachments":{},
   "metadata":{
    "datalore":{
     "node_id":"MRUitPe8iyw8xtLx3F2Z3k",
     "type":"MD",
     "hide_input_from_viewers":true,
     "hide_output_from_viewers":true
    }
   }
  },
  {
   "cell_type":"code",
   "source":[],
   "execution_count":15,
   "outputs":[
    {
     "name":"stdout",
     "text":[
      "shape: (14, 2)\n",
      "┌──────────────────┬────────────────┐\n",
      "│ kategoria        ┆ priemerna_cena │\n",
      "│ ---              ┆ ---            │\n",
      "│ str              ┆ f64            │\n",
      "╞══════════════════╪════════════════╡\n",
      "│ Web Vývoj        ┆ 210.0          │\n",
      "│ Testovanie       ┆ 270.0          │\n",
      "│ Microsoft Excel  ┆ 190.0          │\n",
      "│ Data Engineering ┆ 230.0          │\n",
      "│ Bezpečnosť       ┆ 200.0          │\n",
      "│ …                ┆ …              │\n",
      "│ AI               ┆ 253.333333     │\n",
      "│ UX\/UI Dizajn     ┆ 180.0          │\n",
      "│ Dátová Analýza   ┆ 225.0          │\n",
      "│ Web Development  ┆ 200.0          │\n",
      "│ Java             ┆ 160.0          │\n",
      "└──────────────────┴────────────────┘\n"
     ],
     "output_type":"stream"
    }
   ],
   "metadata":{
    "datalore":{
     "node_id":"ntGmMVdBYPopGjE0gvjAGB",
     "type":"CODE",
     "hide_input_from_viewers":true,
     "hide_output_from_viewers":true
    }
   }
  },
  {
   "cell_type":"markdown",
   "source":[
    "# 📊 Počet kurzov v jednotlivých kategóriách"
   ],
   "attachments":{},
   "metadata":{
    "datalore":{
     "node_id":"5ZnPGE0qk9q28FKCtwFk88",
     "type":"MD",
     "hide_input_from_viewers":true,
     "hide_output_from_viewers":true
    }
   }
  },
  {
   "cell_type":"code",
   "source":[],
   "execution_count":26,
   "outputs":[
    {
     "name":"stdout",
     "text":[
      "shape: (14, 2)\n",
      "┌─────────────────┬──────────────┐\n",
      "│ kategoria       ┆ pocet_kurzov │\n",
      "│ ---             ┆ ---          │\n",
      "│ str             ┆ u32          │\n",
      "╞═════════════════╪══════════════╡\n",
      "│ AI              ┆ 3            │\n",
      "│ Web Vývoj       ┆ 1            │\n",
      "│ Microsoft Excel ┆ 1            │\n",
      "│ Bezpečnosť      ┆ 1            │\n",
      "│ C#              ┆ 1            │\n",
      "│ …               ┆ …            │\n",
      "│ Web Development ┆ 1            │\n",
      "│ Cloud Computing ┆ 2            │\n",
      "│ DevOps          ┆ 2            │\n",
      "│ Python          ┆ 2            │\n",
      "│ Testovanie      ┆ 1            │\n",
      "└─────────────────┴──────────────┘\n"
     ],
     "output_type":"stream"
    }
   ],
   "metadata":{
    "datalore":{
     "node_id":"A9gdfamehvhYDuoYkDwqqB",
     "type":"CODE",
     "hide_input_from_viewers":true,
     "hide_output_from_viewers":true
    }
   }
  },
  {
   "cell_type":"code",
   "source":[],
   "execution_count":31,
   "outputs":[
    {
     "name":"stdout",
     "text":[
      "shape: (14, 2)\n",
      "┌──────────────────┬──────────────┐\n",
      "│ kategoria        ┆ pocet_kurzov │\n",
      "│ ---              ┆ ---          │\n",
      "│ str              ┆ u32          │\n",
      "╞══════════════════╪══════════════╡\n",
      "│ AI               ┆ 3            │\n",
      "│ Python           ┆ 2            │\n",
      "│ Dátová Analýza   ┆ 2            │\n",
      "│ Cloud Computing  ┆ 2            │\n",
      "│ DevOps           ┆ 2            │\n",
      "│ …                ┆ …            │\n",
      "│ Web Development  ┆ 1            │\n",
      "│ Web Vývoj        ┆ 1            │\n",
      "│ Data Engineering ┆ 1            │\n",
      "│ C#               ┆ 1            │\n",
      "│ Java             ┆ 1            │\n",
      "└──────────────────┴──────────────┘\n"
     ],
     "output_type":"stream"
    }
   ],
   "metadata":{
    "datalore":{
     "node_id":"bf061d72RtF5WeECjCj7Aj",
     "type":"CODE",
     "hide_input_from_viewers":true,
     "hide_output_from_viewers":true
    }
   }
  },
  {
   "cell_type":"markdown",
   "source":[
    "# 🧮 Výpočet celkovej ceny kurzov"
   ],
   "attachments":{},
   "metadata":{
    "datalore":{
     "node_id":"V2mpZQ1uQQ0N7gRZ8pujvK",
     "type":"MD",
     "hide_input_from_viewers":true,
     "hide_output_from_viewers":true
    }
   }
  },
  {
   "cell_type":"code",
   "source":[],
   "execution_count":17,
   "outputs":[
    {
     "name":"stdout",
     "text":[
      "shape: (1, 1)\n",
      "┌──────────────┐\n",
      "│ celkova_cena │\n",
      "│ ---          │\n",
      "│ i64          │\n",
      "╞══════════════╡\n",
      "│ 4530         │\n",
      "└──────────────┘\n"
     ],
     "output_type":"stream"
    }
   ],
   "metadata":{
    "datalore":{
     "node_id":"gi4RdJjx1FTehjajvwCREL",
     "type":"CODE",
     "hide_input_from_viewers":true,
     "hide_output_from_viewers":true
    }
   }
  },
  {
   "cell_type":"markdown",
   "source":[
    "# 💰 Sumarizácia celkovej ceny kurzov a priemernej dĺžky kurzu"
   ],
   "attachments":{},
   "metadata":{
    "datalore":{
     "node_id":"reKYHoIWzuhR1Jt9vRrDwQ",
     "type":"MD",
     "hide_input_from_viewers":true,
     "hide_output_from_viewers":true
    }
   }
  },
  {
   "cell_type":"code",
   "source":[],
   "execution_count":27,
   "outputs":[
    {
     "name":"stdout",
     "text":[
      "shape: (1, 2)\n",
      "┌──────────────┬─────────────────┐\n",
      "│ celkova_cena ┆ priemerna_dlzka │\n",
      "│ ---          ┆ ---             │\n",
      "│ i64          ┆ f64             │\n",
      "╞══════════════╪═════════════════╡\n",
      "│ 4530         ┆ 21.9            │\n",
      "└──────────────┴─────────────────┘\n"
     ],
     "output_type":"stream"
    }
   ],
   "metadata":{
    "datalore":{
     "node_id":"XrXlR1Tf6gX0RbUC3wcrmP",
     "type":"CODE",
     "hide_input_from_viewers":true,
     "hide_output_from_viewers":true
    }
   }
  },
  {
   "cell_type":"markdown",
   "source":[
    "# ✨ Pridanie stĺpca s kategóriou \"novinka\" na základe ceny"
   ],
   "attachments":{},
   "metadata":{
    "datalore":{
     "node_id":"ZKQ2roTFzFgk3GWT2f08kL",
     "type":"MD",
     "hide_input_from_viewers":true,
     "hide_output_from_viewers":true
    }
   }
  },
  {
   "cell_type":"code",
   "source":[],
   "execution_count":18,
   "outputs":[
    {
     "name":"stdout",
     "text":[
      "shape: (20, 5)\n",
      "┌──────────────────────┬──────┬─────────────────┬─────────────┬─────────┐\n",
      "│ nazov_kurzu          ┆ cena ┆ kategoria       ┆ dlzka_kurzu ┆ novinka │\n",
      "│ ---                  ┆ ---  ┆ ---             ┆ ---         ┆ ---     │\n",
      "│ str                  ┆ i64  ┆ str             ┆ i64         ┆ bool    │\n",
      "╞══════════════════════╪══════╪═════════════════╪═════════════╪═════════╡\n",
      "│ Python Základy       ┆ 150  ┆ Python          ┆ 10          ┆ false   │\n",
      "│ Dátová Analýza       ┆ 180  ┆ Dátová Analýza  ┆ 20          ┆ false   │\n",
      "│ HTML, CSS Web Vývoj  ┆ 200  ┆ Web Development ┆ 30          ┆ false   │\n",
      "│ Pokročilý Python     ┆ 220  ┆ Python          ┆ 15          ┆ true    │\n",
      "│ Strojové Učenie      ┆ 250  ┆ AI              ┆ 25          ┆ true    │\n",
      "│ …                    ┆ …    ┆ …               ┆ …           ┆ …       │\n",
      "│ Správa Serverov      ┆ 250  ┆ DevOps          ┆ 25          ┆ true    │\n",
      "│ Hacking a Bezpečnosť ┆ 200  ┆ Bezpečnosť      ┆ 21          ┆ false   │\n",
      "│ Deep Learning        ┆ 240  ┆ AI              ┆ 20          ┆ true    │\n",
      "│ Testovanie Softvéru  ┆ 270  ┆ Testovanie      ┆ 18          ┆ true    │\n",
      "│ DevOps               ┆ 290  ┆ DevOps          ┆ 26          ┆ true    │\n",
      "└──────────────────────┴──────┴─────────────────┴─────────────┴─────────┘\n"
     ],
     "output_type":"stream"
    }
   ],
   "metadata":{
    "datalore":{
     "node_id":"3ilXDfI1xfUBtCNYyfflDo",
     "type":"CODE",
     "hide_input_from_viewers":true,
     "hide_output_from_viewers":true
    }
   }
  },
  {
   "cell_type":"markdown",
   "source":[
    "# 📏 Zistenie maximálnej dĺžky kurzu"
   ],
   "attachments":{},
   "metadata":{
    "datalore":{
     "node_id":"bNuao6vGLiZWrv4l4lhPDU",
     "type":"MD",
     "hide_input_from_viewers":true,
     "hide_output_from_viewers":true
    }
   }
  },
  {
   "cell_type":"code",
   "source":[],
   "execution_count":28,
   "outputs":[
    {
     "name":"stdout",
     "text":[
      "shape: (1, 1)\n",
      "┌───────────┐\n",
      "│ max_dlzka │\n",
      "│ ---       │\n",
      "│ i64       │\n",
      "╞═══════════╡\n",
      "│ 30        │\n",
      "└───────────┘\n"
     ],
     "output_type":"stream"
    }
   ],
   "metadata":{
    "datalore":{
     "node_id":"t9ejaPwvdTq4qDkB47rNHz",
     "type":"CODE",
     "hide_input_from_viewers":true,
     "hide_output_from_viewers":true
    }
   }
  },
  {
   "cell_type":"markdown",
   "source":[
    "# 📊 Generovanie náhodného datasetu a základná analýza \n",
    "\n"
   ],
   "attachments":{},
   "metadata":{
    "datalore":{
     "node_id":"EeUfQCx2vBiXJVysGJTwy1",
     "type":"MD",
     "hide_input_from_viewers":true,
     "hide_output_from_viewers":true
    }
   }
  },
  {
   "cell_type":"code",
   "source":[],
   "execution_count":39,
   "outputs":[
    {
     "name":"stdout",
     "text":[
      "shape: (5, 6)\n",
      "┌─────┬─────────┬─────┬────────────┬───────────┬─────────────────────┐\n",
      "│ id  ┆ Meno    ┆ vek ┆ nakupy     ┆ krajina   ┆ datum_nakupu        │\n",
      "│ --- ┆ ---     ┆ --- ┆ ---        ┆ ---       ┆ ---                 │\n",
      "│ i64 ┆ str     ┆ i64 ┆ f64        ┆ str       ┆ datetime[μs]        │\n",
      "╞═════╪═════════╪═════╪════════════╪═══════════╪═════════════════════╡\n",
      "│ 1   ┆ Soňa    ┆ 55  ┆ 167.960525 ┆ Slovensko ┆ 2024-07-17 00:00:00 │\n",
      "│ 2   ┆ Anna    ┆ 47  ┆ 223.540711 ┆ Polsko    ┆ 2024-02-22 00:00:00 │\n",
      "│ 3   ┆ Lucia   ┆ 34  ┆ 163.828016 ┆ Slovensko ┆ 2024-12-17 00:00:00 │\n",
      "│ 4   ┆ Natália ┆ 61  ┆ 279.580707 ┆ Slovensko ┆ 2024-11-15 00:00:00 │\n",
      "│ 5   ┆ Tamara  ┆ 31  ┆ 219.788987 ┆ Polsko    ┆ 2024-02-17 00:00:00 │\n",
      "└─────┴─────────┴─────┴────────────┴───────────┴─────────────────────┘\n",
      "Priemerny vek: shape: (1, 1)\n",
      "┌───────────┐\n",
      "│ vek       │\n",
      "│ ---       │\n",
      "│ f64       │\n",
      "╞═══════════╡\n",
      "│ 46.050108 │\n",
      "└───────────┘\n",
      "Priemerny nakupy: shape: (1, 1)\n",
      "┌────────────┐\n",
      "│ nakupy     │\n",
      "│ ---        │\n",
      "│ f64        │\n",
      "╞════════════╡\n",
      "│ 224.983456 │\n",
      "└────────────┘\n",
      "Priemerny datum nakupu: shape: (1, 1)\n",
      "┌────────────────────────────┐\n",
      "│ datum_nakupu               │\n",
      "│ ---                        │\n",
      "│ datetime[μs]               │\n",
      "╞════════════════════════════╡\n",
      "│ 2024-07-01 15:18:46.655999 │\n",
      "└────────────────────────────┘\n"
     ],
     "output_type":"stream"
    }
   ],
   "metadata":{
    "datalore":{
     "node_id":"8FzZxMlYvaoqSLDVo67NwJ",
     "type":"CODE",
     "hide_input_from_viewers":true,
     "hide_output_from_viewers":true
    }
   }
  },
  {
   "cell_type":"markdown",
   "source":[
    "# 🔗 Zlúčenie dvoch datasetov "
   ],
   "attachments":{},
   "metadata":{
    "datalore":{
     "node_id":"KMF6GUlBo02lKOzFEMrLIr",
     "type":"MD",
     "hide_input_from_viewers":true,
     "hide_output_from_viewers":true
    }
   }
  },
  {
   "cell_type":"code",
   "source":[],
   "execution_count":40,
   "outputs":[
    {
     "name":"stdout",
     "text":[
      "shape: (5, 7)\n",
      "┌─────┬─────────┬─────┬────────────┬───────────┬─────────────────────┬─────────────┐\n",
      "│ id  ┆ Meno    ┆ vek ┆ nakupy     ┆ krajina   ┆ datum_nakupu        ┆ zamestnanie │\n",
      "│ --- ┆ ---     ┆ --- ┆ ---        ┆ ---       ┆ ---                 ┆ ---         │\n",
      "│ i64 ┆ str     ┆ i64 ┆ f64        ┆ str       ┆ datetime[μs]        ┆ str         │\n",
      "╞═════╪═════════╪═════╪════════════╪═══════════╪═════════════════════╪═════════════╡\n",
      "│ 1   ┆ Soňa    ┆ 55  ┆ 167.960525 ┆ Slovensko ┆ 2024-07-17 00:00:00 ┆ Inzinier    │\n",
      "│ 2   ┆ Anna    ┆ 47  ┆ 223.540711 ┆ Polsko    ┆ 2024-02-22 00:00:00 ┆ Lekar       │\n",
      "│ 3   ┆ Lucia   ┆ 34  ┆ 163.828016 ┆ Slovensko ┆ 2024-12-17 00:00:00 ┆ Programator │\n",
      "│ 4   ┆ Natália ┆ 61  ┆ 279.580707 ┆ Slovensko ┆ 2024-11-15 00:00:00 ┆ Programator │\n",
      "│ 5   ┆ Tamara  ┆ 31  ┆ 219.788987 ┆ Polsko    ┆ 2024-02-17 00:00:00 ┆ Ucitel      │\n",
      "└─────┴─────────┴─────┴────────────┴───────────┴─────────────────────┴─────────────┘\n"
     ],
     "output_type":"stream"
    }
   ],
   "metadata":{
    "datalore":{
     "node_id":"riTbbCoiMEDkKtMs5AeRTd",
     "type":"CODE",
     "hide_input_from_viewers":true,
     "hide_output_from_viewers":true
    }
   }
  },
  {
   "cell_type":"code",
   "source":[
    "# Uloženie do formátu Parquet\n",
    "df_zakaznici.write_parquet('zakaznici.parquet')\n",
    "\n",
    "# Načítanie z Parquet\n",
    "df_nacitanie_parquet = pl.read_parquet('zakaznici.parquet')\n",
    "print(df_nacitanie_parquet.head())"
   ],
   "execution_count":35,
   "outputs":[
    {
     "name":"stdout",
     "text":[
      "shape: (5, 7)\n",
      "┌─────┬──────────┬─────┬────────────┬───────────┬─────────────────────┬───────────┐\n",
      "│ id  ┆ Meno     ┆ vek ┆ nakupy     ┆ krajina   ┆ datum_nakupu        ┆ bonus     │\n",
      "│ --- ┆ ---      ┆ --- ┆ ---        ┆ ---       ┆ ---                 ┆ ---       │\n",
      "│ i64 ┆ str      ┆ i64 ┆ f64        ┆ str       ┆ datetime[μs]        ┆ f64       │\n",
      "╞═════╪══════════╪═════╪════════════╪═══════════╪═════════════════════╪═══════════╡\n",
      "│ 1   ┆ Kristína ┆ 46  ┆ 244.572994 ┆ Polsko    ┆ 2024-04-01 00:00:00 ┆ 24.457299 │\n",
      "│ 2   ┆ Beáta    ┆ 32  ┆ 228.482928 ┆ Slovensko ┆ 2024-06-14 00:00:00 ┆ 22.848293 │\n",
      "│ 3   ┆ Laura    ┆ 35  ┆ 225.403623 ┆ Polsko    ┆ 2024-08-21 00:00:00 ┆ 22.540362 │\n",
      "│ 4   ┆ Elena    ┆ 35  ┆ 203.473078 ┆ Cesko     ┆ 2024-07-07 00:00:00 ┆ 20.347308 │\n",
      "│ 5   ┆ Hana     ┆ 58  ┆ 252.920543 ┆ Polsko    ┆ 2024-09-09 00:00:00 ┆ 25.292054 │\n",
      "└─────┴──────────┴─────┴────────────┴───────────┴─────────────────────┴───────────┘\n"
     ],
     "output_type":"stream"
    }
   ],
   "metadata":{
    "datalore":{
     "node_id":"He1J1cTXJpURjcUfw0qZng",
     "type":"CODE",
     "hide_input_from_viewers":true,
     "hide_output_from_viewers":true
    }
   }
  },
  {
   "cell_type":"markdown",
   "source":[
    "# 📄 Spracovanie JSON dát "
   ],
   "attachments":{},
   "metadata":{
    "datalore":{
     "node_id":"V4Pa3EX3BhURYYKrzm5iXO",
     "type":"MD",
     "hide_input_from_viewers":true,
     "hide_output_from_viewers":true
    }
   }
  },
  {
   "cell_type":"code",
   "source":[],
   "execution_count":38,
   "outputs":[
    {
     "name":"stdout",
     "text":[
      "shape: (5, 6)\n",
      "┌─────┬──────────┬─────┬────────────┬───────────┬─────────────────────┐\n",
      "│ id  ┆ Meno     ┆ vek ┆ nakupy     ┆ krajina   ┆ datum_nakupu        │\n",
      "│ --- ┆ ---      ┆ --- ┆ ---        ┆ ---       ┆ ---                 │\n",
      "│ i64 ┆ str      ┆ i64 ┆ f64        ┆ str       ┆ datetime[μs]        │\n",
      "╞═════╪══════════╪═════╪════════════╪═══════════╪═════════════════════╡\n",
      "│ 1   ┆ Kristína ┆ 46  ┆ 244.572994 ┆ Polsko    ┆ 2024-04-01 00:00:00 │\n",
      "│ 2   ┆ Beáta    ┆ 32  ┆ 228.482928 ┆ Slovensko ┆ 2024-06-14 00:00:00 │\n",
      "│ 3   ┆ Laura    ┆ 35  ┆ 225.403623 ┆ Polsko    ┆ 2024-08-21 00:00:00 │\n",
      "│ 4   ┆ Elena    ┆ 35  ┆ 203.473078 ┆ Cesko     ┆ 2024-07-07 00:00:00 │\n",
      "│ 5   ┆ Hana     ┆ 58  ┆ 252.920543 ┆ Polsko    ┆ 2024-09-09 00:00:00 │\n",
      "└─────┴──────────┴─────┴────────────┴───────────┴─────────────────────┘\n"
     ],
     "output_type":"stream"
    }
   ],
   "metadata":{
    "datalore":{
     "node_id":"fkmetrQ34AcRfnGa27XN8r",
     "type":"CODE",
     "hide_input_from_viewers":true,
     "hide_output_from_viewers":true
    }
   }
  },
  {
   "cell_type":"markdown",
   "source":[
    "# Polars Big Data"
   ],
   "attachments":{},
   "metadata":{
    "datalore":{
     "node_id":"Polars Big Data",
     "type":"MD",
     "hide_input_from_viewers":false,
     "hide_output_from_viewers":false,
     "sheet_delimiter":true
    }
   }
  },
  {
   "cell_type":"markdown",
   "source":[
    "# Formáty pre spracovanie veľkých dát\n",
    "1. **CSV** je najuniverzálnejší a najjednoduchší formát na prácu s textovými dátami.\n",
    "2. **JSON** je ideálny na prenos a ukladanie štruktúrovaných dát, napríklad zoznamov a objektov.\n",
    "3. **XML** je skvelý pre hierarchické dáta, ale je náročnejší na spracovanie.\n",
    "4. **Parquet** a **ORC** sú optimálne pre veľké datasety a distribuované spracovanie.\n",
    "5. **Feather** je ideálny pre rýchlu analýzu a prenos dát medzi nástrojmi ako Pandas a R.\n",
    "6. **IPC (Arrow)** je veľmi efektívny pri výmene dát medzi systémami.\n",
    "7. **Excel** je najlepšie používať na menšie tabulky, ktoré sa často upravujú vizuálne."
   ],
   "attachments":{},
   "metadata":{
    "datalore":{
     "node_id":"cXRigf8CPJPyJ0ASTdIOj2",
     "type":"MD",
     "hide_input_from_viewers":true,
     "hide_output_from_viewers":true
    }
   }
  },
  {
   "cell_type":"code",
   "source":[
    "!pip install pyarrow openpyxl\n",
    "!pip install --upgrade polars pandas pyarrow"
   ],
   "execution_count":1,
   "outputs":[
    {
     "name":"stdout",
     "text":[
      "Requirement already satisfied: pyarrow in \/opt\/python\/envs\/default\/lib\/python3.8\/site-packages (17.0.0)\r\n",
      "Requirement already satisfied: openpyxl in \/opt\/python\/envs\/default\/lib\/python3.8\/site-packages (3.1.5)\r\n",
      "Requirement already satisfied: numpy>=1.16.6 in \/opt\/python\/envs\/default\/lib\/python3.8\/site-packages (from pyarrow) (1.24.4)\r\n",
      "Requirement already satisfied: et-xmlfile in \/opt\/python\/envs\/default\/lib\/python3.8\/site-packages (from openpyxl) (2.0.0)\r\n",
      "Requirement already satisfied: polars in \/opt\/python\/envs\/default\/lib\/python3.8\/site-packages (1.8.2)\r\n",
      "Requirement already satisfied: pandas in \/opt\/python\/envs\/default\/lib\/python3.8\/site-packages (2.0.3)\r\n",
      "Requirement already satisfied: pyarrow in \/opt\/python\/envs\/default\/lib\/python3.8\/site-packages (17.0.0)\r\n",
      "Requirement already satisfied: python-dateutil>=2.8.2 in \/opt\/python\/envs\/default\/lib\/python3.8\/site-packages (from pandas) (2.9.0.post0)\r\n",
      "Requirement already satisfied: pytz>=2020.1 in \/opt\/python\/envs\/default\/lib\/python3.8\/site-packages (from pandas) (2024.2)\r\n",
      "Requirement already satisfied: tzdata>=2022.1 in \/opt\/python\/envs\/default\/lib\/python3.8\/site-packages (from pandas) (2024.2)\r\n",
      "Requirement already satisfied: numpy>=1.20.3 in \/opt\/python\/envs\/default\/lib\/python3.8\/site-packages (from pandas) (1.24.4)\r\n",
      "Requirement already satisfied: six>=1.5 in \/opt\/python\/envs\/default\/lib\/python3.8\/site-packages (from python-dateutil>=2.8.2->pandas) (1.16.0)\r\n"
     ],
     "output_type":"stream"
    }
   ],
   "metadata":{
    "datalore":{
     "node_id":"OBwXcZWnlLOssBWzSjq4vU",
     "type":"CODE",
     "hide_input_from_viewers":true,
     "hide_output_from_viewers":true
    }
   }
  },
  {
   "cell_type":"markdown",
   "source":[
    "# 🎓 Základný dataset online kurzy"
   ],
   "attachments":{},
   "metadata":{
    "datalore":{
     "node_id":"bJUZRpquFsoqeqpC01oM0M",
     "type":"MD",
     "hide_input_from_viewers":true,
     "hide_output_from_viewers":true
    }
   }
  },
  {
   "cell_type":"code",
   "source":[],
   "execution_count":15,
   "outputs":[
    {
     "name":"stdout",
     "text":[
      "shape: (20, 4)\n",
      "┌──────────────────────┬──────┬─────────────────┬─────────────┐\n",
      "│ nazov_kurzu          ┆ cena ┆ kategoria       ┆ dlzka_kurzu │\n",
      "│ ---                  ┆ ---  ┆ ---             ┆ ---         │\n",
      "│ str                  ┆ i64  ┆ str             ┆ i64         │\n",
      "╞══════════════════════╪══════╪═════════════════╪═════════════╡\n",
      "│ Python Základy       ┆ 150  ┆ Python          ┆ 10          │\n",
      "│ Dátová Analýza       ┆ 180  ┆ Dátová Analýza  ┆ 20          │\n",
      "│ HTML, CSS Web Vývoj  ┆ 200  ┆ Web Development ┆ 30          │\n",
      "│ Pokročilý Python     ┆ 220  ┆ Python          ┆ 15          │\n",
      "│ Strojové Učenie      ┆ 250  ┆ AI              ┆ 25          │\n",
      "│ …                    ┆ …    ┆ …               ┆ …           │\n",
      "│ Správa Serverov      ┆ 250  ┆ DevOps          ┆ 25          │\n",
      "│ Hacking a Bezpečnosť ┆ 200  ┆ Bezpečnosť      ┆ 21          │\n",
      "│ Deep Learning        ┆ 240  ┆ AI              ┆ 20          │\n",
      "│ Testovanie Softvéru  ┆ 270  ┆ Testovanie      ┆ 18          │\n",
      "│ DevOps               ┆ 290  ┆ DevOps          ┆ 26          │\n",
      "└──────────────────────┴──────┴─────────────────┴─────────────┘\n"
     ],
     "output_type":"stream"
    }
   ],
   "metadata":{
    "datalore":{
     "node_id":"36nSrOX3mkXoT9wiorgHCu",
     "type":"CODE",
     "hide_input_from_viewers":true,
     "hide_output_from_viewers":true
    }
   }
  },
  {
   "cell_type":"code",
   "source":[],
   "execution_count":17,
   "outputs":[
    {
     "name":"stdout",
     "text":[
      "             nazov_kurzu  cena         kategoria  dlzka_kurzu\n",
      "0         Python Základy   150            Python           10\n",
      "1         Dátová Analýza   180    Dátová Analýza           20\n",
      "2    HTML, CSS Web Vývoj   200   Web Development           30\n",
      "3       Pokročilý Python   220            Python           15\n",
      "4        Strojové Učenie   250                AI           25\n",
      "5             AI Základy   270                AI           18\n",
      "6        Microsoft Excel   190   Microsoft Excel           22\n",
      "7           Java Základy   160              Java           28\n",
      "8       C# Programovanie   300                C#           24\n",
      "9                 Docker   250   Cloud Computing           21\n",
      "10       Cloud Computing   220   Cloud Computing           27\n",
      "11      Data Engineering   230  Data Engineering           19\n",
      "12   Dátová Vizuálizácia   270    Dátová Analýza           23\n",
      "13          UX\/UI Design   180      UX\/UI Dizajn           30\n",
      "14    JavaScript Základy   210         Web Vývoj           16\n",
      "15       Správa Serverov   250            DevOps           25\n",
      "16  Hacking a Bezpečnosť   200        Bezpečnosť           21\n",
      "17         Deep Learning   240                AI           20\n",
      "18   Testovanie Softvéru   270        Testovanie           18\n",
      "19                DevOps   290            DevOps           26\n"
     ],
     "output_type":"stream"
    }
   ],
   "metadata":{
    "datalore":{
     "node_id":"VEEufaWligcNkbGM5Sd2cU",
     "type":"CODE",
     "hide_input_from_viewers":true,
     "hide_output_from_viewers":true
    }
   }
  },
  {
   "cell_type":"code",
   "source":[],
   "execution_count":21,
   "outputs":[
    {
     "name":"stdout",
     "text":[
      "Export do ORC bol úspešný!\n",
      "Export do Feather bol úspešný!\n",
      "Export do Excelu bol úspešný!\n"
     ],
     "output_type":"stream"
    }
   ],
   "metadata":{
    "datalore":{
     "node_id":"HNxdXOAQ9Qrv9Jyb1JtPcr",
     "type":"CODE",
     "hide_input_from_viewers":true,
     "hide_output_from_viewers":true
    }
   }
  },
  {
   "cell_type":"code",
   "source":[],
   "execution_count":2,
   "outputs":[
    {
     "ename":"ModuleNotFoundError",
     "evalue":"ModuleNotFoundError: No module named 'pyarrow'",
     "traceback":[
      "\u001b[0;31m---------------------------------------------------------------------------",
      "Traceback (most recent call last)",
      "    at line 3 in <module>",
      "ModuleNotFoundError: No module named 'pyarrow'"
     ],
     "output_type":"error"
    }
   ],
   "metadata":{
    "datalore":{
     "node_id":"QxZZtOm7t33Xc1M5XvANBd",
     "type":"CODE",
     "hide_input_from_viewers":true,
     "hide_output_from_viewers":true
    }
   }
  },
  {
   "cell_type":"code",
   "source":[],
   "execution_count":24,
   "outputs":[
    {
     "name":"stdout",
     "text":[
      "Export do ORC bol úspešný!\n",
      "Export do Feather bol úspešný!\n",
      "Export do Excelu bol úspešný!\n"
     ],
     "output_type":"stream"
    }
   ],
   "metadata":{
    "datalore":{
     "node_id":"PV2kmkXcjIw3Ahc84b7LTQ",
     "type":"CODE",
     "hide_input_from_viewers":true,
     "hide_output_from_viewers":true
    }
   }
  },
  {
   "cell_type":"markdown",
   "source":[
    "# CSV súbor s transakciami 22,29 GB (6 GB Zip)\n",
    "## 260 mil. záznamov, 10 stĺpcov, 75 000 zákazníkov\n",
    "\n",
    "https:\/\/www.kaggle.com\/datasets\/conorsully1\/simulated-transactions  \n",
    "kaggle simulated transaction  "
   ],
   "attachments":{},
   "metadata":{
    "datalore":{
     "node_id":"wAIW4PzpP2CQ0dJYRERZUX",
     "type":"MD",
     "hide_input_from_viewers":true,
     "hide_output_from_viewers":true
    }
   }
  },
  {
   "cell_type":"markdown",
   "source":[
    "https:\/\/colab.research.google.com\/github\/rapidsai-community\/showcase\/blob\/main\/accelerated_data_processing_examples\/polars_gpu_engine_demo.ipynb \n",
    "\n",
    "\n",
    "https:\/\/github.com\/rapidsai-community\/showcase\/blob\/main\/accelerated_data_processing_examples\/polars_gpu_engine_demo.ipynb?utm_source=influencer&utm_medium=social&utm_campaign=KN"
   ],
   "attachments":{},
   "metadata":{
    "datalore":{
     "node_id":"Go8Vx8c6SYXEVOzRZiRxCu",
     "type":"MD",
     "hide_input_from_viewers":true,
     "hide_output_from_viewers":true
    }
   }
  },
  {
   "cell_type":"code",
   "source":[],
   "execution_count":5,
   "outputs":[
    {
     "data":{
      "text\/plain":[
       "Schema([('CUST_ID', String),\n",
       "        ('START_DATE', String),\n",
       "        ('END_DATE', String),\n",
       "        ('TRANS_ID', String),\n",
       "        ('DATE', String),\n",
       "        ('YEAR', Int64),\n",
       "        ('MONTH', Int64),\n",
       "        ('DAY', Int64),\n",
       "        ('EXP_TYPE', String),\n",
       "        ('AMOUNT', Float64)])"
      ]
     },
     "metadata":{},
     "output_type":"display_data"
    }
   ],
   "metadata":{
    "datalore":{
     "node_id":"jsb4kY2G9gPQvgj58HMGaX",
     "type":"CODE",
     "hide_input_from_viewers":true,
     "hide_output_from_viewers":true
    }
   }
  },
  {
   "cell_type":"code",
   "source":[],
   "execution_count":6,
   "outputs":[
    {
     "data":{
      "text\/html":[
       "<div><style>\n",
       ".dataframe > thead > tr,\n",
       ".dataframe > tbody > tr {\n",
       "  text-align: right;\n",
       "  white-space: pre-wrap;\n",
       "}\n",
       "<\/style>\n",
       "<small>shape: (3, 10)<\/small><table border=\"1\" class=\"dataframe\"><thead><tr><th>CUST_ID<\/th><th>START_DATE<\/th><th>END_DATE<\/th><th>TRANS_ID<\/th><th>DATE<\/th><th>YEAR<\/th><th>MONTH<\/th><th>DAY<\/th><th>EXP_TYPE<\/th><th>AMOUNT<\/th><\/tr><tr><td>str<\/td><td>str<\/td><td>str<\/td><td>str<\/td><td>str<\/td><td>i64<\/td><td>i64<\/td><td>i64<\/td><td>str<\/td><td>f64<\/td><\/tr><\/thead><tbody><tr><td>&quot;CI6XLYUMQK&quot;<\/td><td>&quot;2015-05-01&quot;<\/td><td>null<\/td><td>&quot;T8I9ZB5A6X90UG8&quot;<\/td><td>&quot;2015-09-11&quot;<\/td><td>2015<\/td><td>9<\/td><td>11<\/td><td>&quot;Motor\/Travel&quot;<\/td><td>20.27<\/td><\/tr><tr><td>&quot;CI6XLYUMQK&quot;<\/td><td>&quot;2015-05-01&quot;<\/td><td>null<\/td><td>&quot;TZ4JSLS7SC7FO9H&quot;<\/td><td>&quot;2017-02-08&quot;<\/td><td>2017<\/td><td>2<\/td><td>8<\/td><td>&quot;Motor\/Travel&quot;<\/td><td>12.85<\/td><\/tr><tr><td>&quot;CI6XLYUMQK&quot;<\/td><td>&quot;2015-05-01&quot;<\/td><td>null<\/td><td>&quot;TTUKRDDJ6B6F42H&quot;<\/td><td>&quot;2015-08-01&quot;<\/td><td>2015<\/td><td>8<\/td><td>1<\/td><td>&quot;Housing&quot;<\/td><td>383.8<\/td><\/tr><\/tbody><\/table><\/div>"
      ]
     },
     "metadata":{},
     "output_type":"display_data"
    }
   ],
   "metadata":{
    "datalore":{
     "node_id":"goVDePgNMgW5T7zHPjs6pl",
     "type":"CODE",
     "hide_input_from_viewers":true,
     "hide_output_from_viewers":true
    }
   }
  },
  {
   "cell_type":"code",
   "source":[],
   "execution_count":8,
   "outputs":[
    {
     "data":{
      "text\/html":[
       "<div><style>\n",
       ".dataframe > thead > tr,\n",
       ".dataframe > tbody > tr {\n",
       "  text-align: right;\n",
       "  white-space: pre-wrap;\n",
       "}\n",
       "<\/style>\n",
       "<small>shape: (1, 1)<\/small><table border=\"1\" class=\"dataframe\"><thead><tr><th>AMOUNT<\/th><\/tr><tr><td>f64<\/td><\/tr><\/thead><tbody><tr><td>2.1367e10<\/td><\/tr><\/tbody><\/table><\/div>"
      ]
     },
     "metadata":{},
     "output_type":"display_data"
    }
   ],
   "metadata":{
    "datalore":{
     "node_id":"9Ryo0lZPMtlVs6dXnWg3tX",
     "type":"CODE",
     "hide_input_from_viewers":true,
     "hide_output_from_viewers":true
    }
   }
  },
  {
   "cell_type":"code",
   "source":[],
   "execution_count":null,
   "outputs":[],
   "metadata":{
    "datalore":{
     "node_id":"ItLZ6J2E0tvb82viz03iPY",
     "type":"CODE",
     "hide_input_from_viewers":true,
     "hide_output_from_viewers":true
    }
   }
  },
  {
   "cell_type":"markdown",
   "source":[
    "# Apache Spark"
   ],
   "attachments":{},
   "metadata":{
    "datalore":{
     "node_id":"Apache Spark",
     "type":"MD",
     "hide_input_from_viewers":false,
     "hide_output_from_viewers":false,
     "sheet_delimiter":true
    }
   }
  },
  {
   "cell_type":"markdown",
   "source":[
    "# 📊 Apache Spark?\n",
    "- Najpopulárnejšia Python knižnica na vytváranie dynamických grafov\n",
    "- Tvorba interaktívnych grafov a vizualizácií\n",
    "- Vhodná pre vývojárov, dátových vedcov a analytikov\n",
    "- Stĺpcové grafy, čiarové grafy, teplotné mapy, 3D grafy, geografické mapy \n",
    "- Používatelia môžu klikať, približovať a skúmať údaje priamo v grafickom výstupe"
   ],
   "attachments":{},
   "metadata":{
    "datalore":{
     "node_id":"F5dpb4g06HPUi9VFBfEC7W",
     "type":"MD",
     "hide_input_from_viewers":true,
     "hide_output_from_viewers":true
    }
   }
  },
  {
   "cell_type":"code",
   "source":[
    "!pip install pyspark"
   ],
   "execution_count":2,
   "outputs":[
    {
     "name":"stdout",
     "text":[
      "Requirement already satisfied: pyspark in \/opt\/python\/envs\/default\/lib\/python3.8\/site-packages (3.4.0)\r\n",
      "Requirement already satisfied: py4j==0.10.9.7 in \/opt\/python\/envs\/default\/lib\/python3.8\/site-packages (from pyspark) (0.10.9.7)\r\n",
      "\r\n",
      "\u001b[1m[\u001b[0m\u001b[34;49mnotice\u001b[0m\u001b[1;39;49m]\u001b[0m\u001b[39;49m A new release of pip is available: \u001b[0m\u001b[31;49m23.1.2\u001b[0m\u001b[39;49m -> \u001b[0m\u001b[32;49m24.2\u001b[0m\r\n",
      "\u001b[1m[\u001b[0m\u001b[34;49mnotice\u001b[0m\u001b[1;39;49m]\u001b[0m\u001b[39;49m To update, run: \u001b[0m\u001b[32;49mpip install --upgrade pip\u001b[0m\r\n"
     ],
     "output_type":"stream"
    }
   ],
   "metadata":{
    "datalore":{
     "node_id":"e0fusHyEzbNG0FXGDgQKlw",
     "type":"CODE",
     "hide_input_from_viewers":true,
     "hide_output_from_viewers":true
    }
   }
  },
  {
   "cell_type":"code",
   "source":[],
   "execution_count":3,
   "outputs":[
    {
     "name":"stdout",
     "text":[
      "Verzia pyspark: 3.4.0\n"
     ],
     "output_type":"stream"
    }
   ],
   "metadata":{
    "datalore":{
     "node_id":"kLKLEprsapRJeabYvMFLIt",
     "type":"CODE",
     "hide_input_from_viewers":true,
     "hide_output_from_viewers":true
    }
   }
  },
  {
   "cell_type":"code",
   "source":[],
   "execution_count":4,
   "outputs":[
    {
     "data":{
      "text\/plain":[
       "<module 'pyspark' from '\/opt\/python\/envs\/default\/lib\/python3.8\/site-packages\/pyspark\/__init__.py'>"
      ]
     },
     "metadata":{},
     "output_type":"display_data"
    }
   ],
   "metadata":{
    "datalore":{
     "node_id":"t3fveMI8Une52QzWWSULGS",
     "type":"CODE",
     "hide_input_from_viewers":true,
     "hide_output_from_viewers":true
    }
   }
  },
  {
   "cell_type":"code",
   "source":[],
   "execution_count":7,
   "outputs":[
    {
     "name":"stdout",
     "text":[
      "+-----+---+----------+------+\n",
      "| Meno|Vek|     Mesto|Nakupy|\n",
      "+-----+---+----------+------+\n",
      "|  Ján| 25|Bratislava| 150.5|\n",
      "| Anna| 30|    Košice|200.75|\n",
      "|Peter| 22|    Žilina| 180.0|\n",
      "|  Eva| 35|     Nitra| 220.3|\n",
      "|Marek| 28|    Prešov| 195.9|\n",
      "+-----+---+----------+------+\n",
      "\n"
     ],
     "output_type":"stream"
    }
   ],
   "metadata":{
    "datalore":{
     "node_id":"MXyMo8jpp1UDlvymalrEkn",
     "type":"CODE",
     "hide_input_from_viewers":true,
     "hide_output_from_viewers":true
    }
   }
  },
  {
   "cell_type":"markdown",
   "source":[
    "# 1. Načítanie a spracovanie veľkých dátových súborov\n",
    "Apache Spark je navrhnutý na spracovanie veľkých dátových súborov, ktoré sa nedajú jednoducho načítať do pamäte. Napríklad môžete načítať veľký CSV alebo JSON súbor a vykonávať agregácie, analýzy a transformácie."
   ],
   "attachments":{},
   "metadata":{
    "datalore":{
     "node_id":"6HeEn0AEub17qfYJihHxd6",
     "type":"MD",
     "hide_input_from_viewers":true,
     "hide_output_from_viewers":true
    }
   }
  },
  {
   "cell_type":"code",
   "source":[],
   "execution_count":null,
   "outputs":[],
   "metadata":{
    "datalore":{
     "node_id":"dyeQt2rrdUpiG2GO5rbRI5",
     "type":"CODE",
     "hide_input_from_viewers":true,
     "hide_output_from_viewers":true
    }
   }
  },
  {
   "cell_type":"markdown",
   "source":[
    "# 2. Práca s dátovými rámcami (DataFrames) a SQL dopyty\n",
    "Spark má podporu pre SQL-like dopyty cez Spark SQL. Môžete použiť SQL dopyty na veľké množstvo dát priamo v rámci svojho dátového rámca."
   ],
   "attachments":{},
   "metadata":{
    "datalore":{
     "node_id":"9sAQxlC8HEII3upd4WpAAz",
     "type":"MD",
     "hide_input_from_viewers":true,
     "hide_output_from_viewers":true
    }
   }
  },
  {
   "cell_type":"code",
   "source":[],
   "execution_count":null,
   "outputs":[],
   "metadata":{
    "datalore":{
     "node_id":"wVStSkYnbcMSXUpb3fvefd",
     "type":"CODE",
     "hide_input_from_viewers":true,
     "hide_output_from_viewers":true
    }
   }
  }
 ],
 "metadata":{
  "kernelspec":{
   "display_name":"Python",
   "language":"python",
   "name":"python"
  },
  "datalore":{
   "computation_mode":"JUPYTER",
   "package_manager":"pip",
   "base_environment":"default",
   "packages":[],
   "report_row_ids":[
    "BuaxZHVowM1NDgIm5SGTW6",
    "nT01gqoCPDuxVxR1lZEjaG",
    "HnEJbqSEA5YeuN0S9J1MeG",
    "dt5hnZzXUFlltVlRnzQ6cE",
    "iF77wHN3KjirO3UBNMvq29",
    "fkCSJJhXTqtJ0foV4CZkjt",
    "E9cX2hSUAeBjar0TwM5syB",
    "csTaUBzwY1G6f6IoNz36lu",
    "WBOAojo2SfYR7FtzUsMDna",
    "4Ml2nJBg3YA5b888QcDtvX",
    "OUKhS7mp8fwrY3964Ez5y2",
    "m2yJ0WSWZS9uU0PymTdk79",
    "g0B6TRajuZsVSDETVtF4XR",
    "dLyUYYqxeb0pGMnsTKYOJk",
    "XmrrntkpfqpOEv14b1AWu4",
    "xdvYR1r5V3JHEb1AKLtndL",
    "2Bx7dAyMwfFgln8QkHrpJq",
    "YLZVSgnIbSmavWbowrdS8q",
    "g7KfLAHAMyhSnO4Na3rtV2",
    "xS8HaGjyVIprXoHLzaZeG6",
    "yDnUZRdNbM8mTn9X47mDZP",
    "DDn7df11BmiRIZOvOfmH3x",
    "S0Db82KeEH6AMyZTsAzoNq",
    "OtQfIcnqT3bqgAGqS1GBrC",
    "ODTjgljc4F3gclXmhwTVSu",
    "U8WIV4tF0QEKHBplKZyDbc",
    "9nUi8dnJaJs1hA8dxPH3Hl",
    "PFqY3pQMHxzDThg6JKK739",
    "FMUGO3BhTNVzCt2y6deLRi",
    "RgqbOcIgNklcFGM46c39fN",
    "6V665QJ9YOu9wzx7OCKIhb",
    "myhhnezgQ0zvYlWpblthei",
    "y4aNfeuepxv0VtxamAA5vR",
    "micetiPPogLZ8yu6ioRsxF",
    "jBbIE1LidcCwStSAPH686f",
    "FHLb1t5D4UzHBPFKU8z9be",
    "HILTdb7mG4v80s6SHesxY7",
    "piFepyW9JQBjGesRNWdPHa",
    "X6nqi3oJwt16DJftTl0Z0q",
    "05Cu7Nw9CpGsa9aW93eKFA",
    "CJU41iHhNU085OV3ueY0PG",
    "OOGPy5OMyaVQSFQgwsNSSK",
    "CjgWXCSVrTczqlFotxVOXu",
    "djVznlnjdEwp9DpWqJCd58",
    "XNnoBuYVjp4XptuOzsnllh",
    "SZ4tB7Mrwqg6y4Ep90mk03",
    "SEP0IYSTXURbeKKiUMzukE",
    "mbdbzZklzOhFA9VaNO2LuF",
    "L7c9OdwRdJCrVIJjBI9FTE",
    "rruqSWkjmMnZ2BIvB3MSgX",
    "titqCmfkhMtEm1p8NjaGqC",
    "p9DgjhAmfNTcIvw8PlvEvn",
    "1AGXVeheUwlx0CoYOKaVos",
    "qTSjJR9z2qsSoz8xBd2Ixz",
    "MiCZDHRulYDa8k83MEERnW",
    "q6WzQrLyYicFIz3mhHX9rh",
    "uCjThPLnrYKsUJWnC8Rdbc",
    "0YQg2poAuoghVGOMNpoiNy",
    "G7EWHNHgoSNB0QBANJfxs3",
    "S8iYHru66vQ4dKnsKHWIqm",
    "5kv1w4O5BsIKftFfvTYt9R",
    "QVcZYHEOXcko9BWCtk55bz",
    "aJP3y2yXBzjJFE1t5NJMIN",
    "JW6knZSqV20BbILMOudfR1",
    "PCzzRbx4j9O16J55u6XezX",
    "lIsaieeolgRO4Vobl2iJSN",
    "aTu6IdH6uXEwUIlBHYhTcy"
   ],
   "version":3
  }
 },
 "nbformat":4,
 "nbformat_minor":4
}